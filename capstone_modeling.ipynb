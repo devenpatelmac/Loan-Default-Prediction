{
 "cells": [
  {
   "cell_type": "code",
   "execution_count": 1,
   "metadata": {},
   "outputs": [],
   "source": [
    "import re\n",
    "import os\n",
    "\n",
    "import numpy as np\n",
    "import pandas as pd\n",
    "from scipy import stats\n",
    "import seaborn as sns\n",
    "import matplotlib.pyplot as plt\n",
    "%matplotlib inline"
   ]
  },
  {
   "cell_type": "code",
   "execution_count": 2,
   "metadata": {},
   "outputs": [],
   "source": [
    "pd.set_option('display.max_rows', 500)\n",
    "pd.set_option('display.max_columns', 500)\n",
    "pd.set_option('display.width', 1000) "
   ]
  },
  {
   "attachments": {},
   "cell_type": "markdown",
   "metadata": {},
   "source": [
    "## Load Clean Data"
   ]
  },
  {
   "cell_type": "code",
   "execution_count": 3,
   "metadata": {},
   "outputs": [],
   "source": [
    "# read accepted_processed csv\n",
    "accepted_processed = pd.read_csv('accepted_processed.csv')"
   ]
  },
  {
   "cell_type": "code",
   "execution_count": 4,
   "metadata": {},
   "outputs": [
    {
     "data": {
      "text/html": [
       "<div>\n",
       "<style scoped>\n",
       "    .dataframe tbody tr th:only-of-type {\n",
       "        vertical-align: middle;\n",
       "    }\n",
       "\n",
       "    .dataframe tbody tr th {\n",
       "        vertical-align: top;\n",
       "    }\n",
       "\n",
       "    .dataframe thead th {\n",
       "        text-align: right;\n",
       "    }\n",
       "</style>\n",
       "<table border=\"1\" class=\"dataframe\">\n",
       "  <thead>\n",
       "    <tr style=\"text-align: right;\">\n",
       "      <th></th>\n",
       "      <th>loan_amnt</th>\n",
       "      <th>funded_amnt</th>\n",
       "      <th>funded_amnt_inv</th>\n",
       "      <th>int_rate</th>\n",
       "      <th>installment</th>\n",
       "      <th>annual_inc</th>\n",
       "      <th>dti</th>\n",
       "      <th>delinq_2yrs</th>\n",
       "      <th>fico_range_low</th>\n",
       "      <th>fico_range_high</th>\n",
       "      <th>inq_last_6mths</th>\n",
       "      <th>open_acc</th>\n",
       "      <th>pub_rec</th>\n",
       "      <th>revol_bal</th>\n",
       "      <th>revol_util</th>\n",
       "      <th>total_acc</th>\n",
       "      <th>out_prncp</th>\n",
       "      <th>out_prncp_inv</th>\n",
       "      <th>total_pymnt</th>\n",
       "      <th>total_pymnt_inv</th>\n",
       "      <th>total_rec_prncp</th>\n",
       "      <th>total_rec_int</th>\n",
       "      <th>total_rec_late_fee</th>\n",
       "      <th>recoveries</th>\n",
       "      <th>collection_recovery_fee</th>\n",
       "      <th>last_pymnt_amnt</th>\n",
       "      <th>last_fico_range_high</th>\n",
       "      <th>last_fico_range_low</th>\n",
       "      <th>collections_12_mths_ex_med</th>\n",
       "      <th>acc_now_delinq</th>\n",
       "      <th>tot_cur_bal</th>\n",
       "      <th>total_rev_hi_lim</th>\n",
       "      <th>acc_open_past_24mths</th>\n",
       "      <th>avg_cur_bal</th>\n",
       "      <th>bc_open_to_buy</th>\n",
       "      <th>bc_util</th>\n",
       "      <th>chargeoff_within_12_mths</th>\n",
       "      <th>delinq_amnt</th>\n",
       "      <th>mo_sin_old_il_acct</th>\n",
       "      <th>mo_sin_old_rev_tl_op</th>\n",
       "      <th>mo_sin_rcnt_rev_tl_op</th>\n",
       "      <th>mo_sin_rcnt_tl</th>\n",
       "      <th>mort_acc</th>\n",
       "      <th>mths_since_recent_bc</th>\n",
       "      <th>num_accts_ever_120_pd</th>\n",
       "      <th>num_actv_bc_tl</th>\n",
       "      <th>num_actv_rev_tl</th>\n",
       "      <th>num_bc_sats</th>\n",
       "      <th>num_bc_tl</th>\n",
       "      <th>num_il_tl</th>\n",
       "      <th>num_op_rev_tl</th>\n",
       "      <th>num_rev_accts</th>\n",
       "      <th>num_rev_tl_bal_gt_0</th>\n",
       "      <th>num_sats</th>\n",
       "      <th>num_tl_120dpd_2m</th>\n",
       "      <th>num_tl_30dpd</th>\n",
       "      <th>num_tl_90g_dpd_24m</th>\n",
       "      <th>num_tl_op_past_12m</th>\n",
       "      <th>pct_tl_nvr_dlq</th>\n",
       "      <th>percent_bc_gt_75</th>\n",
       "      <th>pub_rec_bankruptcies</th>\n",
       "      <th>tax_liens</th>\n",
       "      <th>tot_hi_cred_lim</th>\n",
       "      <th>total_bal_ex_mort</th>\n",
       "      <th>total_bc_limit</th>\n",
       "      <th>total_il_high_credit_limit</th>\n",
       "      <th>term</th>\n",
       "      <th>grade</th>\n",
       "      <th>emp_length</th>\n",
       "      <th>MORTGAGE</th>\n",
       "      <th>OTHER</th>\n",
       "      <th>OWN</th>\n",
       "      <th>RENT</th>\n",
       "      <th>verification_status</th>\n",
       "      <th>car</th>\n",
       "      <th>credit_card</th>\n",
       "      <th>debt_consolidation</th>\n",
       "      <th>housing</th>\n",
       "      <th>major_purchase</th>\n",
       "      <th>medical</th>\n",
       "      <th>other</th>\n",
       "      <th>small_business</th>\n",
       "      <th>vacation</th>\n",
       "      <th>initial_list_status</th>\n",
       "      <th>application_type</th>\n",
       "      <th>disbursement_method</th>\n",
       "      <th>debt_settlement_flag</th>\n",
       "      <th>loan_status</th>\n",
       "      <th>last_pymnt_d_year</th>\n",
       "      <th>last_pymnt_d_month</th>\n",
       "      <th>last_credit_pull_d_year</th>\n",
       "      <th>last_credit_pull_d_month</th>\n",
       "      <th>earliest_cr_line_year</th>\n",
       "      <th>earliest_cr_line_month</th>\n",
       "    </tr>\n",
       "  </thead>\n",
       "  <tbody>\n",
       "    <tr>\n",
       "      <th>0</th>\n",
       "      <td>3600.0</td>\n",
       "      <td>3600.0</td>\n",
       "      <td>3600.0</td>\n",
       "      <td>13.99</td>\n",
       "      <td>123.03</td>\n",
       "      <td>55000.0</td>\n",
       "      <td>5.91</td>\n",
       "      <td>0.0</td>\n",
       "      <td>675.0</td>\n",
       "      <td>679.0</td>\n",
       "      <td>1.0</td>\n",
       "      <td>7.0</td>\n",
       "      <td>0.0</td>\n",
       "      <td>2765.0</td>\n",
       "      <td>29.7</td>\n",
       "      <td>13.0</td>\n",
       "      <td>0.00</td>\n",
       "      <td>0.00</td>\n",
       "      <td>4421.723917</td>\n",
       "      <td>4421.72</td>\n",
       "      <td>3600.00</td>\n",
       "      <td>821.72</td>\n",
       "      <td>0.0</td>\n",
       "      <td>0.0</td>\n",
       "      <td>0.0</td>\n",
       "      <td>122.67</td>\n",
       "      <td>564.0</td>\n",
       "      <td>560.0</td>\n",
       "      <td>0.0</td>\n",
       "      <td>0.0</td>\n",
       "      <td>144904.0</td>\n",
       "      <td>9300.0</td>\n",
       "      <td>4.0</td>\n",
       "      <td>20701.0</td>\n",
       "      <td>1506.0</td>\n",
       "      <td>37.2</td>\n",
       "      <td>0.0</td>\n",
       "      <td>0.0</td>\n",
       "      <td>148.0</td>\n",
       "      <td>128.0</td>\n",
       "      <td>3.0</td>\n",
       "      <td>3.0</td>\n",
       "      <td>1.0</td>\n",
       "      <td>4.0</td>\n",
       "      <td>2.0</td>\n",
       "      <td>2.0</td>\n",
       "      <td>4.0</td>\n",
       "      <td>2.0</td>\n",
       "      <td>5.0</td>\n",
       "      <td>3.0</td>\n",
       "      <td>4.0</td>\n",
       "      <td>9.0</td>\n",
       "      <td>4.0</td>\n",
       "      <td>7.0</td>\n",
       "      <td>0.0</td>\n",
       "      <td>0.0</td>\n",
       "      <td>0.0</td>\n",
       "      <td>3.0</td>\n",
       "      <td>76.9</td>\n",
       "      <td>0.0</td>\n",
       "      <td>0.0</td>\n",
       "      <td>0.0</td>\n",
       "      <td>178050.0</td>\n",
       "      <td>7746.0</td>\n",
       "      <td>2400.0</td>\n",
       "      <td>13734.0</td>\n",
       "      <td>36</td>\n",
       "      <td>2.0</td>\n",
       "      <td>10.0</td>\n",
       "      <td>1.0</td>\n",
       "      <td>0.0</td>\n",
       "      <td>0.0</td>\n",
       "      <td>0.0</td>\n",
       "      <td>0</td>\n",
       "      <td>0.0</td>\n",
       "      <td>0.0</td>\n",
       "      <td>1.0</td>\n",
       "      <td>0.0</td>\n",
       "      <td>0.0</td>\n",
       "      <td>0.0</td>\n",
       "      <td>0.0</td>\n",
       "      <td>0.0</td>\n",
       "      <td>0.0</td>\n",
       "      <td>1</td>\n",
       "      <td>1</td>\n",
       "      <td>1</td>\n",
       "      <td>0</td>\n",
       "      <td>0.0</td>\n",
       "      <td>2019</td>\n",
       "      <td>1</td>\n",
       "      <td>2019</td>\n",
       "      <td>3</td>\n",
       "      <td>2003</td>\n",
       "      <td>8</td>\n",
       "    </tr>\n",
       "    <tr>\n",
       "      <th>1</th>\n",
       "      <td>24700.0</td>\n",
       "      <td>24700.0</td>\n",
       "      <td>24700.0</td>\n",
       "      <td>11.99</td>\n",
       "      <td>820.28</td>\n",
       "      <td>65000.0</td>\n",
       "      <td>16.06</td>\n",
       "      <td>1.0</td>\n",
       "      <td>715.0</td>\n",
       "      <td>719.0</td>\n",
       "      <td>4.0</td>\n",
       "      <td>22.0</td>\n",
       "      <td>0.0</td>\n",
       "      <td>21470.0</td>\n",
       "      <td>19.2</td>\n",
       "      <td>38.0</td>\n",
       "      <td>0.00</td>\n",
       "      <td>0.00</td>\n",
       "      <td>25679.660000</td>\n",
       "      <td>25679.66</td>\n",
       "      <td>24700.00</td>\n",
       "      <td>979.66</td>\n",
       "      <td>0.0</td>\n",
       "      <td>0.0</td>\n",
       "      <td>0.0</td>\n",
       "      <td>926.35</td>\n",
       "      <td>699.0</td>\n",
       "      <td>695.0</td>\n",
       "      <td>0.0</td>\n",
       "      <td>0.0</td>\n",
       "      <td>204396.0</td>\n",
       "      <td>111800.0</td>\n",
       "      <td>4.0</td>\n",
       "      <td>9733.0</td>\n",
       "      <td>57830.0</td>\n",
       "      <td>27.1</td>\n",
       "      <td>0.0</td>\n",
       "      <td>0.0</td>\n",
       "      <td>113.0</td>\n",
       "      <td>192.0</td>\n",
       "      <td>2.0</td>\n",
       "      <td>2.0</td>\n",
       "      <td>4.0</td>\n",
       "      <td>2.0</td>\n",
       "      <td>0.0</td>\n",
       "      <td>5.0</td>\n",
       "      <td>5.0</td>\n",
       "      <td>13.0</td>\n",
       "      <td>17.0</td>\n",
       "      <td>6.0</td>\n",
       "      <td>20.0</td>\n",
       "      <td>27.0</td>\n",
       "      <td>5.0</td>\n",
       "      <td>22.0</td>\n",
       "      <td>0.0</td>\n",
       "      <td>0.0</td>\n",
       "      <td>0.0</td>\n",
       "      <td>2.0</td>\n",
       "      <td>97.4</td>\n",
       "      <td>7.7</td>\n",
       "      <td>0.0</td>\n",
       "      <td>0.0</td>\n",
       "      <td>314017.0</td>\n",
       "      <td>39475.0</td>\n",
       "      <td>79300.0</td>\n",
       "      <td>24667.0</td>\n",
       "      <td>36</td>\n",
       "      <td>2.0</td>\n",
       "      <td>10.0</td>\n",
       "      <td>1.0</td>\n",
       "      <td>0.0</td>\n",
       "      <td>0.0</td>\n",
       "      <td>0.0</td>\n",
       "      <td>0</td>\n",
       "      <td>0.0</td>\n",
       "      <td>0.0</td>\n",
       "      <td>0.0</td>\n",
       "      <td>0.0</td>\n",
       "      <td>0.0</td>\n",
       "      <td>0.0</td>\n",
       "      <td>0.0</td>\n",
       "      <td>1.0</td>\n",
       "      <td>0.0</td>\n",
       "      <td>1</td>\n",
       "      <td>1</td>\n",
       "      <td>1</td>\n",
       "      <td>0</td>\n",
       "      <td>0.0</td>\n",
       "      <td>2016</td>\n",
       "      <td>6</td>\n",
       "      <td>2019</td>\n",
       "      <td>3</td>\n",
       "      <td>1999</td>\n",
       "      <td>12</td>\n",
       "    </tr>\n",
       "    <tr>\n",
       "      <th>2</th>\n",
       "      <td>20000.0</td>\n",
       "      <td>20000.0</td>\n",
       "      <td>20000.0</td>\n",
       "      <td>10.78</td>\n",
       "      <td>432.66</td>\n",
       "      <td>63000.0</td>\n",
       "      <td>10.78</td>\n",
       "      <td>0.0</td>\n",
       "      <td>695.0</td>\n",
       "      <td>699.0</td>\n",
       "      <td>0.0</td>\n",
       "      <td>6.0</td>\n",
       "      <td>0.0</td>\n",
       "      <td>7869.0</td>\n",
       "      <td>56.2</td>\n",
       "      <td>18.0</td>\n",
       "      <td>0.00</td>\n",
       "      <td>0.00</td>\n",
       "      <td>22705.924294</td>\n",
       "      <td>22705.92</td>\n",
       "      <td>20000.00</td>\n",
       "      <td>2705.92</td>\n",
       "      <td>0.0</td>\n",
       "      <td>0.0</td>\n",
       "      <td>0.0</td>\n",
       "      <td>15813.30</td>\n",
       "      <td>704.0</td>\n",
       "      <td>700.0</td>\n",
       "      <td>0.0</td>\n",
       "      <td>0.0</td>\n",
       "      <td>189699.0</td>\n",
       "      <td>14000.0</td>\n",
       "      <td>6.0</td>\n",
       "      <td>31617.0</td>\n",
       "      <td>2737.0</td>\n",
       "      <td>55.9</td>\n",
       "      <td>0.0</td>\n",
       "      <td>0.0</td>\n",
       "      <td>125.0</td>\n",
       "      <td>184.0</td>\n",
       "      <td>14.0</td>\n",
       "      <td>14.0</td>\n",
       "      <td>5.0</td>\n",
       "      <td>101.0</td>\n",
       "      <td>0.0</td>\n",
       "      <td>2.0</td>\n",
       "      <td>3.0</td>\n",
       "      <td>2.0</td>\n",
       "      <td>4.0</td>\n",
       "      <td>6.0</td>\n",
       "      <td>4.0</td>\n",
       "      <td>7.0</td>\n",
       "      <td>3.0</td>\n",
       "      <td>6.0</td>\n",
       "      <td>0.0</td>\n",
       "      <td>0.0</td>\n",
       "      <td>0.0</td>\n",
       "      <td>0.0</td>\n",
       "      <td>100.0</td>\n",
       "      <td>50.0</td>\n",
       "      <td>0.0</td>\n",
       "      <td>0.0</td>\n",
       "      <td>218418.0</td>\n",
       "      <td>18696.0</td>\n",
       "      <td>6200.0</td>\n",
       "      <td>14877.0</td>\n",
       "      <td>60</td>\n",
       "      <td>1.0</td>\n",
       "      <td>10.0</td>\n",
       "      <td>1.0</td>\n",
       "      <td>0.0</td>\n",
       "      <td>0.0</td>\n",
       "      <td>0.0</td>\n",
       "      <td>0</td>\n",
       "      <td>0.0</td>\n",
       "      <td>0.0</td>\n",
       "      <td>0.0</td>\n",
       "      <td>1.0</td>\n",
       "      <td>0.0</td>\n",
       "      <td>0.0</td>\n",
       "      <td>0.0</td>\n",
       "      <td>0.0</td>\n",
       "      <td>0.0</td>\n",
       "      <td>1</td>\n",
       "      <td>0</td>\n",
       "      <td>1</td>\n",
       "      <td>0</td>\n",
       "      <td>0.0</td>\n",
       "      <td>2017</td>\n",
       "      <td>6</td>\n",
       "      <td>2019</td>\n",
       "      <td>3</td>\n",
       "      <td>2000</td>\n",
       "      <td>8</td>\n",
       "    </tr>\n",
       "    <tr>\n",
       "      <th>3</th>\n",
       "      <td>35000.0</td>\n",
       "      <td>35000.0</td>\n",
       "      <td>35000.0</td>\n",
       "      <td>14.85</td>\n",
       "      <td>829.90</td>\n",
       "      <td>110000.0</td>\n",
       "      <td>17.06</td>\n",
       "      <td>0.0</td>\n",
       "      <td>785.0</td>\n",
       "      <td>789.0</td>\n",
       "      <td>0.0</td>\n",
       "      <td>13.0</td>\n",
       "      <td>0.0</td>\n",
       "      <td>7802.0</td>\n",
       "      <td>11.6</td>\n",
       "      <td>17.0</td>\n",
       "      <td>15897.65</td>\n",
       "      <td>15897.65</td>\n",
       "      <td>31464.010000</td>\n",
       "      <td>31464.01</td>\n",
       "      <td>19102.35</td>\n",
       "      <td>12361.66</td>\n",
       "      <td>0.0</td>\n",
       "      <td>0.0</td>\n",
       "      <td>0.0</td>\n",
       "      <td>829.90</td>\n",
       "      <td>679.0</td>\n",
       "      <td>675.0</td>\n",
       "      <td>0.0</td>\n",
       "      <td>0.0</td>\n",
       "      <td>301500.0</td>\n",
       "      <td>67300.0</td>\n",
       "      <td>2.0</td>\n",
       "      <td>23192.0</td>\n",
       "      <td>54962.0</td>\n",
       "      <td>12.1</td>\n",
       "      <td>0.0</td>\n",
       "      <td>0.0</td>\n",
       "      <td>36.0</td>\n",
       "      <td>87.0</td>\n",
       "      <td>2.0</td>\n",
       "      <td>2.0</td>\n",
       "      <td>1.0</td>\n",
       "      <td>2.0</td>\n",
       "      <td>0.0</td>\n",
       "      <td>4.0</td>\n",
       "      <td>5.0</td>\n",
       "      <td>8.0</td>\n",
       "      <td>10.0</td>\n",
       "      <td>2.0</td>\n",
       "      <td>10.0</td>\n",
       "      <td>13.0</td>\n",
       "      <td>5.0</td>\n",
       "      <td>13.0</td>\n",
       "      <td>0.0</td>\n",
       "      <td>0.0</td>\n",
       "      <td>0.0</td>\n",
       "      <td>1.0</td>\n",
       "      <td>100.0</td>\n",
       "      <td>0.0</td>\n",
       "      <td>0.0</td>\n",
       "      <td>0.0</td>\n",
       "      <td>381215.0</td>\n",
       "      <td>52226.0</td>\n",
       "      <td>62500.0</td>\n",
       "      <td>18000.0</td>\n",
       "      <td>60</td>\n",
       "      <td>2.0</td>\n",
       "      <td>10.0</td>\n",
       "      <td>1.0</td>\n",
       "      <td>0.0</td>\n",
       "      <td>0.0</td>\n",
       "      <td>0.0</td>\n",
       "      <td>1</td>\n",
       "      <td>0.0</td>\n",
       "      <td>0.0</td>\n",
       "      <td>1.0</td>\n",
       "      <td>0.0</td>\n",
       "      <td>0.0</td>\n",
       "      <td>0.0</td>\n",
       "      <td>0.0</td>\n",
       "      <td>0.0</td>\n",
       "      <td>0.0</td>\n",
       "      <td>1</td>\n",
       "      <td>1</td>\n",
       "      <td>1</td>\n",
       "      <td>0</td>\n",
       "      <td>0.0</td>\n",
       "      <td>2019</td>\n",
       "      <td>2</td>\n",
       "      <td>2019</td>\n",
       "      <td>3</td>\n",
       "      <td>2008</td>\n",
       "      <td>9</td>\n",
       "    </tr>\n",
       "    <tr>\n",
       "      <th>4</th>\n",
       "      <td>10400.0</td>\n",
       "      <td>10400.0</td>\n",
       "      <td>10400.0</td>\n",
       "      <td>22.45</td>\n",
       "      <td>289.91</td>\n",
       "      <td>104433.0</td>\n",
       "      <td>25.37</td>\n",
       "      <td>1.0</td>\n",
       "      <td>695.0</td>\n",
       "      <td>699.0</td>\n",
       "      <td>3.0</td>\n",
       "      <td>12.0</td>\n",
       "      <td>0.0</td>\n",
       "      <td>21929.0</td>\n",
       "      <td>64.5</td>\n",
       "      <td>35.0</td>\n",
       "      <td>0.00</td>\n",
       "      <td>0.00</td>\n",
       "      <td>11740.500000</td>\n",
       "      <td>11740.50</td>\n",
       "      <td>10400.00</td>\n",
       "      <td>1340.50</td>\n",
       "      <td>0.0</td>\n",
       "      <td>0.0</td>\n",
       "      <td>0.0</td>\n",
       "      <td>10128.96</td>\n",
       "      <td>704.0</td>\n",
       "      <td>700.0</td>\n",
       "      <td>0.0</td>\n",
       "      <td>0.0</td>\n",
       "      <td>331730.0</td>\n",
       "      <td>34000.0</td>\n",
       "      <td>10.0</td>\n",
       "      <td>27644.0</td>\n",
       "      <td>4567.0</td>\n",
       "      <td>77.5</td>\n",
       "      <td>0.0</td>\n",
       "      <td>0.0</td>\n",
       "      <td>128.0</td>\n",
       "      <td>210.0</td>\n",
       "      <td>4.0</td>\n",
       "      <td>4.0</td>\n",
       "      <td>6.0</td>\n",
       "      <td>4.0</td>\n",
       "      <td>0.0</td>\n",
       "      <td>4.0</td>\n",
       "      <td>6.0</td>\n",
       "      <td>5.0</td>\n",
       "      <td>9.0</td>\n",
       "      <td>10.0</td>\n",
       "      <td>7.0</td>\n",
       "      <td>19.0</td>\n",
       "      <td>6.0</td>\n",
       "      <td>12.0</td>\n",
       "      <td>0.0</td>\n",
       "      <td>0.0</td>\n",
       "      <td>0.0</td>\n",
       "      <td>4.0</td>\n",
       "      <td>96.6</td>\n",
       "      <td>60.0</td>\n",
       "      <td>0.0</td>\n",
       "      <td>0.0</td>\n",
       "      <td>439570.0</td>\n",
       "      <td>95768.0</td>\n",
       "      <td>20300.0</td>\n",
       "      <td>88097.0</td>\n",
       "      <td>60</td>\n",
       "      <td>5.0</td>\n",
       "      <td>3.0</td>\n",
       "      <td>1.0</td>\n",
       "      <td>0.0</td>\n",
       "      <td>0.0</td>\n",
       "      <td>0.0</td>\n",
       "      <td>1</td>\n",
       "      <td>0.0</td>\n",
       "      <td>0.0</td>\n",
       "      <td>0.0</td>\n",
       "      <td>0.0</td>\n",
       "      <td>1.0</td>\n",
       "      <td>0.0</td>\n",
       "      <td>0.0</td>\n",
       "      <td>0.0</td>\n",
       "      <td>0.0</td>\n",
       "      <td>1</td>\n",
       "      <td>1</td>\n",
       "      <td>1</td>\n",
       "      <td>0</td>\n",
       "      <td>0.0</td>\n",
       "      <td>2016</td>\n",
       "      <td>7</td>\n",
       "      <td>2018</td>\n",
       "      <td>3</td>\n",
       "      <td>1998</td>\n",
       "      <td>6</td>\n",
       "    </tr>\n",
       "  </tbody>\n",
       "</table>\n",
       "</div>"
      ],
      "text/plain": [
       "   loan_amnt  funded_amnt  funded_amnt_inv  int_rate  installment  annual_inc    dti  delinq_2yrs  fico_range_low  fico_range_high  inq_last_6mths  open_acc  pub_rec  revol_bal  revol_util  total_acc  out_prncp  out_prncp_inv   total_pymnt  total_pymnt_inv  total_rec_prncp  total_rec_int  total_rec_late_fee  recoveries  collection_recovery_fee  last_pymnt_amnt  last_fico_range_high  last_fico_range_low  collections_12_mths_ex_med  acc_now_delinq  tot_cur_bal  total_rev_hi_lim  acc_open_past_24mths  avg_cur_bal  bc_open_to_buy  bc_util  chargeoff_within_12_mths  delinq_amnt  mo_sin_old_il_acct  mo_sin_old_rev_tl_op  mo_sin_rcnt_rev_tl_op  mo_sin_rcnt_tl  mort_acc  mths_since_recent_bc  num_accts_ever_120_pd  num_actv_bc_tl  num_actv_rev_tl  num_bc_sats  num_bc_tl  num_il_tl  num_op_rev_tl  num_rev_accts  num_rev_tl_bal_gt_0  num_sats  num_tl_120dpd_2m  num_tl_30dpd  num_tl_90g_dpd_24m  num_tl_op_past_12m  pct_tl_nvr_dlq  percent_bc_gt_75  pub_rec_bankruptcies  tax_liens  \\\n",
       "0     3600.0       3600.0           3600.0     13.99       123.03     55000.0   5.91          0.0           675.0            679.0             1.0       7.0      0.0     2765.0        29.7       13.0       0.00           0.00   4421.723917          4421.72          3600.00         821.72                 0.0         0.0                      0.0           122.67                 564.0                560.0                         0.0             0.0     144904.0            9300.0                   4.0      20701.0          1506.0     37.2                       0.0          0.0               148.0                 128.0                    3.0             3.0       1.0                   4.0                    2.0             2.0              4.0          2.0        5.0        3.0            4.0            9.0                  4.0       7.0               0.0           0.0                 0.0                 3.0            76.9               0.0                   0.0        0.0   \n",
       "1    24700.0      24700.0          24700.0     11.99       820.28     65000.0  16.06          1.0           715.0            719.0             4.0      22.0      0.0    21470.0        19.2       38.0       0.00           0.00  25679.660000         25679.66         24700.00         979.66                 0.0         0.0                      0.0           926.35                 699.0                695.0                         0.0             0.0     204396.0          111800.0                   4.0       9733.0         57830.0     27.1                       0.0          0.0               113.0                 192.0                    2.0             2.0       4.0                   2.0                    0.0             5.0              5.0         13.0       17.0        6.0           20.0           27.0                  5.0      22.0               0.0           0.0                 0.0                 2.0            97.4               7.7                   0.0        0.0   \n",
       "2    20000.0      20000.0          20000.0     10.78       432.66     63000.0  10.78          0.0           695.0            699.0             0.0       6.0      0.0     7869.0        56.2       18.0       0.00           0.00  22705.924294         22705.92         20000.00        2705.92                 0.0         0.0                      0.0         15813.30                 704.0                700.0                         0.0             0.0     189699.0           14000.0                   6.0      31617.0          2737.0     55.9                       0.0          0.0               125.0                 184.0                   14.0            14.0       5.0                 101.0                    0.0             2.0              3.0          2.0        4.0        6.0            4.0            7.0                  3.0       6.0               0.0           0.0                 0.0                 0.0           100.0              50.0                   0.0        0.0   \n",
       "3    35000.0      35000.0          35000.0     14.85       829.90    110000.0  17.06          0.0           785.0            789.0             0.0      13.0      0.0     7802.0        11.6       17.0   15897.65       15897.65  31464.010000         31464.01         19102.35       12361.66                 0.0         0.0                      0.0           829.90                 679.0                675.0                         0.0             0.0     301500.0           67300.0                   2.0      23192.0         54962.0     12.1                       0.0          0.0                36.0                  87.0                    2.0             2.0       1.0                   2.0                    0.0             4.0              5.0          8.0       10.0        2.0           10.0           13.0                  5.0      13.0               0.0           0.0                 0.0                 1.0           100.0               0.0                   0.0        0.0   \n",
       "4    10400.0      10400.0          10400.0     22.45       289.91    104433.0  25.37          1.0           695.0            699.0             3.0      12.0      0.0    21929.0        64.5       35.0       0.00           0.00  11740.500000         11740.50         10400.00        1340.50                 0.0         0.0                      0.0         10128.96                 704.0                700.0                         0.0             0.0     331730.0           34000.0                  10.0      27644.0          4567.0     77.5                       0.0          0.0               128.0                 210.0                    4.0             4.0       6.0                   4.0                    0.0             4.0              6.0          5.0        9.0       10.0            7.0           19.0                  6.0      12.0               0.0           0.0                 0.0                 4.0            96.6              60.0                   0.0        0.0   \n",
       "\n",
       "   tot_hi_cred_lim  total_bal_ex_mort  total_bc_limit  total_il_high_credit_limit  term  grade  emp_length  MORTGAGE  OTHER  OWN  RENT  verification_status  car  credit_card  debt_consolidation  housing  major_purchase  medical  other  small_business  vacation  initial_list_status  application_type  disbursement_method  debt_settlement_flag  loan_status  last_pymnt_d_year  last_pymnt_d_month  last_credit_pull_d_year  last_credit_pull_d_month  earliest_cr_line_year  earliest_cr_line_month  \n",
       "0         178050.0             7746.0          2400.0                     13734.0    36    2.0        10.0       1.0    0.0  0.0   0.0                    0  0.0          0.0                 1.0      0.0             0.0      0.0    0.0             0.0       0.0                    1                 1                    1                     0          0.0               2019                   1                     2019                         3                   2003                       8  \n",
       "1         314017.0            39475.0         79300.0                     24667.0    36    2.0        10.0       1.0    0.0  0.0   0.0                    0  0.0          0.0                 0.0      0.0             0.0      0.0    0.0             1.0       0.0                    1                 1                    1                     0          0.0               2016                   6                     2019                         3                   1999                      12  \n",
       "2         218418.0            18696.0          6200.0                     14877.0    60    1.0        10.0       1.0    0.0  0.0   0.0                    0  0.0          0.0                 0.0      1.0             0.0      0.0    0.0             0.0       0.0                    1                 0                    1                     0          0.0               2017                   6                     2019                         3                   2000                       8  \n",
       "3         381215.0            52226.0         62500.0                     18000.0    60    2.0        10.0       1.0    0.0  0.0   0.0                    1  0.0          0.0                 1.0      0.0             0.0      0.0    0.0             0.0       0.0                    1                 1                    1                     0          0.0               2019                   2                     2019                         3                   2008                       9  \n",
       "4         439570.0            95768.0         20300.0                     88097.0    60    5.0         3.0       1.0    0.0  0.0   0.0                    1  0.0          0.0                 0.0      0.0             1.0      0.0    0.0             0.0       0.0                    1                 1                    1                     0          0.0               2016                   7                     2018                         3                   1998                       6  "
      ]
     },
     "execution_count": 4,
     "metadata": {},
     "output_type": "execute_result"
    }
   ],
   "source": [
    "accepted_processed.head()"
   ]
  },
  {
   "cell_type": "code",
   "execution_count": 5,
   "metadata": {},
   "outputs": [
    {
     "data": {
      "text/plain": [
       "0"
      ]
     },
     "execution_count": 5,
     "metadata": {},
     "output_type": "execute_result"
    }
   ],
   "source": [
    "# sum of null values \n",
    "accepted_processed.isnull().sum().sum()"
   ]
  },
  {
   "cell_type": "code",
   "execution_count": 6,
   "metadata": {},
   "outputs": [
    {
     "data": {
      "text/plain": [
       "(1756089, 94)"
      ]
     },
     "execution_count": 6,
     "metadata": {},
     "output_type": "execute_result"
    }
   ],
   "source": [
    "accepted_processed.shape"
   ]
  },
  {
   "cell_type": "code",
   "execution_count": 7,
   "metadata": {},
   "outputs": [
    {
     "data": {
      "text/plain": [
       "0"
      ]
     },
     "execution_count": 7,
     "metadata": {},
     "output_type": "execute_result"
    }
   ],
   "source": [
    "# sum of null values \n",
    "accepted_processed.isnull().sum().sum()"
   ]
  },
  {
   "cell_type": "code",
   "execution_count": 8,
   "metadata": {},
   "outputs": [
    {
     "data": {
      "text/plain": [
       "loan_amnt                     float64\n",
       "funded_amnt                   float64\n",
       "funded_amnt_inv               float64\n",
       "int_rate                      float64\n",
       "installment                   float64\n",
       "annual_inc                    float64\n",
       "dti                           float64\n",
       "delinq_2yrs                   float64\n",
       "fico_range_low                float64\n",
       "fico_range_high               float64\n",
       "inq_last_6mths                float64\n",
       "open_acc                      float64\n",
       "pub_rec                       float64\n",
       "revol_bal                     float64\n",
       "revol_util                    float64\n",
       "total_acc                     float64\n",
       "out_prncp                     float64\n",
       "out_prncp_inv                 float64\n",
       "total_pymnt                   float64\n",
       "total_pymnt_inv               float64\n",
       "total_rec_prncp               float64\n",
       "total_rec_int                 float64\n",
       "total_rec_late_fee            float64\n",
       "recoveries                    float64\n",
       "collection_recovery_fee       float64\n",
       "last_pymnt_amnt               float64\n",
       "last_fico_range_high          float64\n",
       "last_fico_range_low           float64\n",
       "collections_12_mths_ex_med    float64\n",
       "acc_now_delinq                float64\n",
       "tot_cur_bal                   float64\n",
       "total_rev_hi_lim              float64\n",
       "acc_open_past_24mths          float64\n",
       "avg_cur_bal                   float64\n",
       "bc_open_to_buy                float64\n",
       "bc_util                       float64\n",
       "chargeoff_within_12_mths      float64\n",
       "delinq_amnt                   float64\n",
       "mo_sin_old_il_acct            float64\n",
       "mo_sin_old_rev_tl_op          float64\n",
       "mo_sin_rcnt_rev_tl_op         float64\n",
       "mo_sin_rcnt_tl                float64\n",
       "mort_acc                      float64\n",
       "mths_since_recent_bc          float64\n",
       "num_accts_ever_120_pd         float64\n",
       "num_actv_bc_tl                float64\n",
       "num_actv_rev_tl               float64\n",
       "num_bc_sats                   float64\n",
       "num_bc_tl                     float64\n",
       "num_il_tl                     float64\n",
       "num_op_rev_tl                 float64\n",
       "num_rev_accts                 float64\n",
       "num_rev_tl_bal_gt_0           float64\n",
       "num_sats                      float64\n",
       "num_tl_120dpd_2m              float64\n",
       "num_tl_30dpd                  float64\n",
       "num_tl_90g_dpd_24m            float64\n",
       "num_tl_op_past_12m            float64\n",
       "pct_tl_nvr_dlq                float64\n",
       "percent_bc_gt_75              float64\n",
       "pub_rec_bankruptcies          float64\n",
       "tax_liens                     float64\n",
       "tot_hi_cred_lim               float64\n",
       "total_bal_ex_mort             float64\n",
       "total_bc_limit                float64\n",
       "total_il_high_credit_limit    float64\n",
       "term                            int64\n",
       "grade                         float64\n",
       "emp_length                    float64\n",
       "MORTGAGE                      float64\n",
       "OTHER                         float64\n",
       "OWN                           float64\n",
       "RENT                          float64\n",
       "verification_status             int64\n",
       "car                           float64\n",
       "credit_card                   float64\n",
       "debt_consolidation            float64\n",
       "housing                       float64\n",
       "major_purchase                float64\n",
       "medical                       float64\n",
       "other                         float64\n",
       "small_business                float64\n",
       "vacation                      float64\n",
       "initial_list_status             int64\n",
       "application_type                int64\n",
       "disbursement_method             int64\n",
       "debt_settlement_flag            int64\n",
       "loan_status                   float64\n",
       "last_pymnt_d_year               int64\n",
       "last_pymnt_d_month              int64\n",
       "last_credit_pull_d_year         int64\n",
       "last_credit_pull_d_month        int64\n",
       "earliest_cr_line_year           int64\n",
       "earliest_cr_line_month          int64\n",
       "dtype: object"
      ]
     },
     "execution_count": 8,
     "metadata": {},
     "output_type": "execute_result"
    }
   ],
   "source": [
    "accepted_processed.dtypes"
   ]
  },
  {
   "attachments": {},
   "cell_type": "markdown",
   "metadata": {},
   "source": [
    "## Logistic Regression"
   ]
  },
  {
   "attachments": {},
   "cell_type": "markdown",
   "metadata": {},
   "source": [
    "### Train, Validation, Test Splits"
   ]
  },
  {
   "cell_type": "code",
   "execution_count": 9,
   "metadata": {},
   "outputs": [],
   "source": [
    "# import Train Test Split\n",
    "from sklearn.model_selection import train_test_split\n",
    "\n",
    "# Instantiate X and y\n",
    "X = accepted_processed.drop('loan_status', axis=1)\n",
    "y = accepted_processed['loan_status']\n",
    "\n",
    "# Remainder Test Split\n",
    "X_rem, X_test, y_rem, y_test = train_test_split(X, y, test_size=0.25, stratify = y, random_state=1)\n",
    "\n",
    "# Valudation Train Split\n",
    "X_train, X_val, y_train, y_val = train_test_split(X_rem, y_rem, test_size=0.25, random_state=1)"
   ]
  },
  {
   "attachments": {},
   "cell_type": "markdown",
   "metadata": {},
   "source": [
    "### Scale the Data"
   ]
  },
  {
   "cell_type": "code",
   "execution_count": 10,
   "metadata": {},
   "outputs": [],
   "source": [
    "# import standard scaler\n",
    "from sklearn.preprocessing import StandardScaler\n",
    "\n",
    "# instantiate, fit, transform standard scaler\n",
    "ss = StandardScaler()\n",
    "ss.fit(X_train)\n",
    "X_train_ss = ss.transform(X_train)\n",
    "\n",
    "X_val_ss = ss.transform(X_val)"
   ]
  },
  {
   "attachments": {},
   "cell_type": "markdown",
   "metadata": {},
   "source": [
    "### Model"
   ]
  },
  {
   "cell_type": "code",
   "execution_count": 11,
   "metadata": {},
   "outputs": [
    {
     "name": "stdout",
     "output_type": "stream",
     "text": [
      "The train accuracy is: 0.8802418305748436\n",
      "The Validation accuracy is: 0.879025228765713\n"
     ]
    }
   ],
   "source": [
    "from sklearn.linear_model import LogisticRegression\n",
    "\n",
    "# Instantiate and fit Logistic Regression\n",
    "log_reg = LogisticRegression(max_iter=10000)\n",
    "log_reg.fit(X_train_ss, y_train)\n",
    "\n",
    "# Evaluate the model\n",
    "print(f'The train accuracy is: {log_reg.score(X_train_ss, y_train)}')\n",
    "print(f'The Validation accuracy is: {log_reg.score(X_val_ss, y_val)}')"
   ]
  },
  {
   "cell_type": "code",
   "execution_count": 13,
   "metadata": {},
   "outputs": [
    {
     "name": "stdout",
     "output_type": "stream",
     "text": [
      "Fitting PCA with 1 components\n",
      "Fitting PCA with 2 components\n",
      "Fitting PCA with 3 components\n",
      "Fitting PCA with 4 components\n",
      "Fitting PCA with 5 components\n",
      "Fitting PCA with 6 components\n",
      "Fitting PCA with 7 components\n",
      "Fitting PCA with 8 components\n",
      "Fitting PCA with 9 components\n",
      "Fitting PCA with 10 components\n",
      "Fitting PCA with 11 components\n",
      "Fitting PCA with 12 components\n",
      "Fitting PCA with 13 components\n",
      "Fitting PCA with 14 components\n",
      "Fitting PCA with 15 components\n",
      "Fitting PCA with 16 components\n",
      "Fitting PCA with 17 components\n",
      "Fitting PCA with 18 components\n",
      "Fitting PCA with 19 components\n",
      "Fitting PCA with 20 components\n",
      "Fitting PCA with 21 components\n",
      "Fitting PCA with 22 components\n",
      "Fitting PCA with 23 components\n",
      "Fitting PCA with 24 components\n",
      "Fitting PCA with 25 components\n",
      "Fitting PCA with 26 components\n",
      "Fitting PCA with 27 components\n",
      "Fitting PCA with 28 components\n",
      "Fitting PCA with 29 components\n",
      "Fitting PCA with 30 components\n",
      "Fitting PCA with 31 components\n",
      "Fitting PCA with 32 components\n",
      "Fitting PCA with 33 components\n",
      "Fitting PCA with 34 components\n",
      "Fitting PCA with 35 components\n",
      "Fitting PCA with 36 components\n",
      "Fitting PCA with 37 components\n",
      "Fitting PCA with 38 components\n",
      "Fitting PCA with 39 components\n",
      "Fitting PCA with 40 components\n",
      "Fitting PCA with 41 components\n",
      "Fitting PCA with 42 components\n",
      "Fitting PCA with 43 components\n",
      "Fitting PCA with 44 components\n",
      "Fitting PCA with 45 components\n",
      "Fitting PCA with 46 components\n",
      "Fitting PCA with 47 components\n",
      "Fitting PCA with 48 components\n",
      "Fitting PCA with 49 components\n",
      "Fitting PCA with 50 components\n",
      "Fitting PCA with 51 components\n",
      "Fitting PCA with 52 components\n",
      "Fitting PCA with 53 components\n",
      "Fitting PCA with 54 components\n",
      "Fitting PCA with 55 components\n",
      "Fitting PCA with 56 components\n",
      "Fitting PCA with 57 components\n",
      "Fitting PCA with 58 components\n",
      "Fitting PCA with 59 components\n",
      "Fitting PCA with 60 components\n",
      "Fitting PCA with 61 components\n",
      "Fitting PCA with 62 components\n",
      "Fitting PCA with 63 components\n",
      "Fitting PCA with 64 components\n",
      "Fitting PCA with 65 components\n",
      "Fitting PCA with 66 components\n",
      "Fitting PCA with 67 components\n",
      "Fitting PCA with 68 components\n",
      "Fitting PCA with 69 components\n",
      "Fitting PCA with 70 components\n",
      "Fitting PCA with 71 components\n",
      "Fitting PCA with 72 components\n",
      "Fitting PCA with 73 components\n",
      "Fitting PCA with 74 components\n",
      "Fitting PCA with 75 components\n",
      "Fitting PCA with 76 components\n",
      "Fitting PCA with 77 components\n",
      "Fitting PCA with 78 components\n",
      "Fitting PCA with 79 components\n",
      "Fitting PCA with 80 components\n",
      "Fitting PCA with 81 components\n",
      "Fitting PCA with 82 components\n",
      "Fitting PCA with 83 components\n",
      "Fitting PCA with 84 components\n",
      "Fitting PCA with 85 components\n",
      "Fitting PCA with 86 components\n",
      "Fitting PCA with 87 components\n",
      "Fitting PCA with 88 components\n",
      "Fitting PCA with 89 components\n",
      "Fitting PCA with 90 components\n",
      "Fitting PCA with 91 components\n",
      "Fitting PCA with 92 components\n",
      "Fitting PCA with 93 components\n"
     ]
    }
   ],
   "source": [
    "# Import PCA, LogisticRegression, and Accuracy Score\n",
    "from sklearn.decomposition import PCA\n",
    "from sklearn.linear_model import LogisticRegression\n",
    "from sklearn.metrics import accuracy_score\n",
    "\n",
    "# range of n_components\n",
    "n_components = np.arange(1, 94, 1)\n",
    "\n",
    "# Create empty list for train and test accuracy and runtime\n",
    "train_accuracy = []\n",
    "test_accuracy = []\n",
    "\n",
    "# Loop through n_components and fit PCA\n",
    "for n in n_components:\n",
    "    \n",
    "    # print which component is being fit\n",
    "    print(f'Fitting PCA with {n} components')\n",
    "    \n",
    "    # Instantiate and fit PCA\n",
    "    pca = PCA(n_components=n)\n",
    "    X_train_pca = pca.fit_transform(X_train_ss)\n",
    "    X_val_pca = pca.transform(X_val_ss)\n",
    "    \n",
    "    # Instantiate and fit PCA data to Logistic Regression\n",
    "    log_reg = LogisticRegression(max_iter=10000)\n",
    "    log_reg.fit(X_train_pca, y_train)\n",
    "    \n",
    "    # Evaluate the model\n",
    "    train_accuracy.append(log_reg.score(X_train_pca, y_train))\n",
    "    test_accuracy.append(log_reg.score(X_val_pca, y_val))"
   ]
  },
  {
   "cell_type": "code",
   "execution_count": 14,
   "metadata": {},
   "outputs": [
    {
     "data": {
      "text/plain": [
       "array([0.11831059, 0.18986522, 0.2553821 , 0.29768049, 0.33978896,\n",
       "       0.37509335, 0.40375705, 0.4310544 , 0.45641484, 0.47844562,\n",
       "       0.49888919, 0.51879871, 0.53605973, 0.55316965, 0.56880942,\n",
       "       0.5836807 , 0.5972894 , 0.6105402 , 0.62346543, 0.6361042 ,\n",
       "       0.6483108 , 0.65998819, 0.67140779, 0.68257918, 0.69362656,\n",
       "       0.70456768, 0.71544425, 0.7263055 , 0.73713611, 0.74789274,\n",
       "       0.75861185, 0.7692917 , 0.77979256, 0.79014581, 0.80026897,\n",
       "       0.81021653, 0.82013319, 0.82984872, 0.83923509, 0.84830301,\n",
       "       0.85718376, 0.86600906, 0.87464362, 0.88291128, 0.89081666,\n",
       "       0.89860682, 0.90622451, 0.91363692, 0.92050122, 0.92710168,\n",
       "       0.93345468, 0.93928817, 0.94494852, 0.95049057, 0.95542696,\n",
       "       0.96010227, 0.96474764, 0.96890467, 0.97229433, 0.9755314 ,\n",
       "       0.97837598, 0.9807386 , 0.98307136, 0.98533128, 0.98734966,\n",
       "       0.98885184, 0.99021573, 0.99150761, 0.99264757, 0.99373345,\n",
       "       0.99471395, 0.99558745, 0.99635466, 0.99700775, 0.99761086,\n",
       "       0.99810517, 0.99856732, 0.99899511, 0.99935172, 0.99956984,\n",
       "       0.99972046, 0.99986096, 0.99997497, 0.99999055, 0.99999986,\n",
       "       0.99999998, 0.99999999, 1.        , 1.        , 1.        ,\n",
       "       1.        , 1.        , 1.        ])"
      ]
     },
     "execution_count": 14,
     "metadata": {},
     "output_type": "execute_result"
    }
   ],
   "source": [
    "expl_var = pca.explained_variance_ratio_\n",
    "cumulative_sum = np.cumsum(expl_var)\n",
    "cumulative_sum"
   ]
  },
  {
   "attachments": {},
   "cell_type": "markdown",
   "metadata": {},
   "source": [
    "### Evaluate"
   ]
  },
  {
   "cell_type": "code",
   "execution_count": 15,
   "metadata": {},
   "outputs": [
    {
     "name": "stderr",
     "output_type": "stream",
     "text": [
      "/var/folders/24/01k76k4d1m97wq2ctswkkkt40000gn/T/ipykernel_30297/1862869275.py:5: MatplotlibDeprecationWarning: Auto-removal of overlapping axes is deprecated since 3.6 and will be removed two minor releases later; explicitly call ax.remove() as needed.\n",
      "  plt.subplot(2, 2, 1)\n",
      "/var/folders/24/01k76k4d1m97wq2ctswkkkt40000gn/T/ipykernel_30297/1862869275.py:14: MatplotlibDeprecationWarning: Auto-removal of overlapping axes is deprecated since 3.6 and will be removed two minor releases later; explicitly call ax.remove() as needed.\n",
      "  plt.subplot(2, 2, 3)\n"
     ]
    },
    {
     "data": {
      "image/png": "[encoded data removed]",
      "text/plain": [
       "<Figure size 1500x1000 with 3 Axes>"
      ]
     },
     "metadata": {},
     "output_type": "display_data"
    }
   ],
   "source": [
    "# Create three subplots\n",
    "fig, ax = plt.subplots(3, 1, figsize=(15, 10))\n",
    "\n",
    "# Accuracy vs. Number of Components\n",
    "plt.subplot(2, 2, 1)\n",
    "plt.plot(n_components, train_accuracy, label='Train Accuracy', color='red')\n",
    "plt.plot(n_components, test_accuracy, label='Validation Accuracy', color='blue')\n",
    "plt.title('Accuracy vs. Number of Components')\n",
    "plt.xlabel('Number of Components')\n",
    "plt.ylabel('Accuracy (%)')\n",
    "plt.legend()\n",
    "\n",
    "# Variance Explained vs. Number of Components\n",
    "plt.subplot(2, 2, 3)\n",
    "plt.plot(n_components, expl_var, label='Variance Explained', color='green')\n",
    "plt.title('Variance Explained vs. Number of Components')\n",
    "plt.xlabel('Number of Components')\n",
    "plt.ylabel('Variance Explained (%)')\n",
    "plt.legend()\n",
    "\n",
    "# Cumulative Sum vs. Number of Components\n",
    "plt.subplot(2, 2, 4)\n",
    "plt.plot(n_components, cumulative_sum, label='Cumulative Sum', color='green')\n",
    "plt.title(' Variance Explained Cumulative Sum vs. Number of Components')\n",
    "plt.xlabel('Number of Components')\n",
    "plt.ylabel('Cumulative Sum (%)')\n",
    "plt.legend()\n",
    "\n",
    "plt.tight_layout()\n",
    "plt.show()"
   ]
  },
  {
   "attachments": {},
   "cell_type": "markdown",
   "metadata": {},
   "source": [
    "### Confusion Matrix"
   ]
  },
  {
   "cell_type": "code",
   "execution_count": 16,
   "metadata": {},
   "outputs": [
    {
     "name": "stdout",
     "output_type": "stream",
     "text": [
      "              precision    recall  f1-score   support\n",
      "\n",
      "         0.0       0.88      1.00      0.94    290132\n",
      "         1.0       0.28      0.01      0.02     39135\n",
      "\n",
      "    accuracy                           0.88    329267\n",
      "   macro avg       0.58      0.50      0.48    329267\n",
      "weighted avg       0.81      0.88      0.83    329267\n",
      "\n"
     ]
    }
   ],
   "source": [
    "# import classification report\n",
    "from sklearn.metrics import classification_report\n",
    "\n",
    "# show classification report\n",
    "print(classification_report(y_val, log_reg.predict(X_val_pca)))"
   ]
  },
  {
   "cell_type": "code",
   "execution_count": 17,
   "metadata": {},
   "outputs": [
    {
     "data": {
      "image/png": "[encoded data removed]",
      "text/plain": [
       "<Figure size 640x480 with 2 Axes>"
      ]
     },
     "metadata": {},
     "output_type": "display_data"
    }
   ],
   "source": [
    "# import confusion matrix\n",
    "from sklearn.metrics import confusion_matrix\n",
    "\n",
    "# show heatmap confusion matrix\n",
    "sns.heatmap(confusion_matrix(y_val, log_reg.predict(X_val_pca)), annot=True, fmt='d', cmap='Blues')\n",
    "plt.title('Confusion Matrix')\n",
    "plt.xlabel('Predicted')\n",
    "plt.ylabel('Actual')\n",
    "plt.show()\n"
   ]
  },
  {
   "attachments": {},
   "cell_type": "markdown",
   "metadata": {},
   "source": [
    "## Downsample to 60/40"
   ]
  },
  {
   "cell_type": "code",
   "execution_count": 18,
   "metadata": {},
   "outputs": [
    {
     "data": {
      "text/plain": [
       "0.0    1549364\n",
       "1.0     206725\n",
       "Name: loan_status, dtype: int64"
      ]
     },
     "execution_count": 18,
     "metadata": {},
     "output_type": "execute_result"
    }
   ],
   "source": [
    "# distribution of loan status\n",
    "accepted_processed['loan_status'].value_counts()"
   ]
  },
  {
   "cell_type": "code",
   "execution_count": 19,
   "metadata": {},
   "outputs": [
    {
     "data": {
      "text/plain": [
       "0.0    0.882281\n",
       "1.0    0.117719\n",
       "Name: loan_status, dtype: float64"
      ]
     },
     "execution_count": 19,
     "metadata": {},
     "output_type": "execute_result"
    }
   ],
   "source": [
    "# distribution of loan status percentages\n",
    "accepted_processed['loan_status'].value_counts(normalize=True)"
   ]
  },
  {
   "attachments": {},
   "cell_type": "markdown",
   "metadata": {},
   "source": [
    "To downsample where 40% of our data is class 1, we can multiply the number of observations in class 1 by 1.5 and get the corresponding amount we need in class 0. "
   ]
  },
  {
   "cell_type": "code",
   "execution_count": 20,
   "metadata": {},
   "outputs": [
    {
     "name": "stdout",
     "output_type": "stream",
     "text": [
      "310087.5\n",
      "0.6\n",
      "0.4\n"
     ]
    }
   ],
   "source": [
    "class1 = 206725\n",
    "class0 = class1 * 1.5\n",
    "print(class0)\n",
    "print(class0 / (class1 + class0))\n",
    "print(class1 / (class1 + class0))"
   ]
  },
  {
   "cell_type": "code",
   "execution_count": 21,
   "metadata": {},
   "outputs": [
    {
     "name": "stdout",
     "output_type": "stream",
     "text": [
      "0.0    310087\n",
      "1.0    206725\n",
      "Name: loan_status, dtype: int64\n",
      "0.0    0.6\n",
      "1.0    0.4\n",
      "Name: loan_status, dtype: float64\n"
     ]
    }
   ],
   "source": [
    "# import resample\n",
    "from sklearn.utils import resample\n",
    "\n",
    "# sample 60% of class 1 and 100% of class 0\n",
    "accepted_sample = resample(accepted_processed[accepted_processed['loan_status'] == 0], replace=True, n_samples=310087, random_state=1)\n",
    "\n",
    "# concatenate class 0 and class 1\n",
    "accepted_sample = pd.concat([accepted_processed[accepted_processed['loan_status'] == 1], accepted_sample])\n",
    "\n",
    "# distribution of loan status\n",
    "print(accepted_sample['loan_status'].value_counts())\n",
    "print(accepted_sample['loan_status'].value_counts(normalize=True))"
   ]
  },
  {
   "cell_type": "code",
   "execution_count": 22,
   "metadata": {},
   "outputs": [
    {
     "data": {
      "text/plain": [
       "(516812, 94)"
      ]
     },
     "execution_count": 22,
     "metadata": {},
     "output_type": "execute_result"
    }
   ],
   "source": [
    "accepted_sample.shape"
   ]
  },
  {
   "attachments": {},
   "cell_type": "markdown",
   "metadata": {},
   "source": [
    "## Accepted Sample Data to CSV"
   ]
  },
  {
   "cell_type": "code",
   "execution_count": 23,
   "metadata": {},
   "outputs": [],
   "source": [
    "# accepted sample to csv\n",
    "accepted_sample.to_csv('accepted_sample.csv', index=False)"
   ]
  },
  {
   "cell_type": "code",
   "execution_count": 24,
   "metadata": {},
   "outputs": [],
   "source": [
    "# read accepted_sample csv\n",
    "accepted_sample = pd.read_csv('accepted_sample.csv')"
   ]
  },
  {
   "attachments": {},
   "cell_type": "markdown",
   "metadata": {},
   "source": [
    "## Logistic Regression"
   ]
  },
  {
   "cell_type": "code",
   "execution_count": 25,
   "metadata": {},
   "outputs": [],
   "source": [
    "# import Train Test Split\n",
    "from sklearn.model_selection import train_test_split\n",
    "\n",
    "# Instantiate X and y\n",
    "X = accepted_sample.drop('loan_status', axis=1)\n",
    "y = accepted_sample['loan_status']\n",
    "\n",
    "# Remainder Test Split\n",
    "X_rem, X_test, y_rem, y_test = train_test_split(X, y, test_size=0.25, stratify = y, random_state=1)\n",
    "\n",
    "# Valudation Train Split\n",
    "X_train, X_val, y_train, y_val = train_test_split(X_rem, y_rem, test_size=0.25, random_state=1)"
   ]
  },
  {
   "attachments": {},
   "cell_type": "markdown",
   "metadata": {},
   "source": [
    "### Scale the Data"
   ]
  },
  {
   "cell_type": "code",
   "execution_count": 26,
   "metadata": {},
   "outputs": [],
   "source": [
    "# import standard scaler\n",
    "from sklearn.preprocessing import StandardScaler\n",
    "\n",
    "# instantiate, fit, transform standard scaler\n",
    "ss = StandardScaler()\n",
    "ss.fit(X_train)\n",
    "X_train_ss = ss.transform(X_train)\n",
    "X_val_ss = ss.transform(X_val)"
   ]
  },
  {
   "attachments": {},
   "cell_type": "markdown",
   "metadata": {},
   "source": [
    "### Logistic Regression"
   ]
  },
  {
   "cell_type": "code",
   "execution_count": 27,
   "metadata": {},
   "outputs": [
    {
     "name": "stdout",
     "output_type": "stream",
     "text": [
      "The train accuracy is: 0.6803849937737784\n",
      "The Validation accuracy is: 0.6802369379688967\n"
     ]
    }
   ],
   "source": [
    "from sklearn.linear_model import LogisticRegression\n",
    "\n",
    "# Instantiate and fit Logistic Regression\n",
    "log_reg = LogisticRegression(max_iter=10000)\n",
    "log_reg.fit(X_train_ss, y_train)\n",
    "\n",
    "# Evaluate the model\n",
    "print(f'The train accuracy is: {log_reg.score(X_train_ss, y_train)}')\n",
    "print(f'The Validation accuracy is: {log_reg.score(X_val_ss, y_val)}')"
   ]
  },
  {
   "cell_type": "code",
   "execution_count": 28,
   "metadata": {},
   "outputs": [
    {
     "name": "stdout",
     "output_type": "stream",
     "text": [
      "Fitting PCA with 1 components\n",
      "Fitting PCA with 2 components\n",
      "Fitting PCA with 3 components\n",
      "Fitting PCA with 4 components\n",
      "Fitting PCA with 5 components\n",
      "Fitting PCA with 6 components\n",
      "Fitting PCA with 7 components\n",
      "Fitting PCA with 8 components\n",
      "Fitting PCA with 9 components\n",
      "Fitting PCA with 10 components\n",
      "Fitting PCA with 11 components\n",
      "Fitting PCA with 12 components\n",
      "Fitting PCA with 13 components\n",
      "Fitting PCA with 14 components\n",
      "Fitting PCA with 15 components\n",
      "Fitting PCA with 16 components\n",
      "Fitting PCA with 17 components\n",
      "Fitting PCA with 18 components\n",
      "Fitting PCA with 19 components\n",
      "Fitting PCA with 20 components\n",
      "Fitting PCA with 21 components\n",
      "Fitting PCA with 22 components\n",
      "Fitting PCA with 23 components\n",
      "Fitting PCA with 24 components\n",
      "Fitting PCA with 25 components\n",
      "Fitting PCA with 26 components\n",
      "Fitting PCA with 27 components\n",
      "Fitting PCA with 28 components\n",
      "Fitting PCA with 29 components\n",
      "Fitting PCA with 30 components\n",
      "Fitting PCA with 31 components\n",
      "Fitting PCA with 32 components\n",
      "Fitting PCA with 33 components\n",
      "Fitting PCA with 34 components\n",
      "Fitting PCA with 35 components\n",
      "Fitting PCA with 36 components\n",
      "Fitting PCA with 37 components\n",
      "Fitting PCA with 38 components\n",
      "Fitting PCA with 39 components\n",
      "Fitting PCA with 40 components\n",
      "Fitting PCA with 41 components\n",
      "Fitting PCA with 42 components\n",
      "Fitting PCA with 43 components\n",
      "Fitting PCA with 44 components\n",
      "Fitting PCA with 45 components\n",
      "Fitting PCA with 46 components\n",
      "Fitting PCA with 47 components\n",
      "Fitting PCA with 48 components\n",
      "Fitting PCA with 49 components\n",
      "Fitting PCA with 50 components\n",
      "Fitting PCA with 51 components\n",
      "Fitting PCA with 52 components\n",
      "Fitting PCA with 53 components\n",
      "Fitting PCA with 54 components\n",
      "Fitting PCA with 55 components\n",
      "Fitting PCA with 56 components\n",
      "Fitting PCA with 57 components\n",
      "Fitting PCA with 58 components\n",
      "Fitting PCA with 59 components\n",
      "Fitting PCA with 60 components\n",
      "Fitting PCA with 61 components\n",
      "Fitting PCA with 62 components\n",
      "Fitting PCA with 63 components\n",
      "Fitting PCA with 64 components\n",
      "Fitting PCA with 65 components\n",
      "Fitting PCA with 66 components\n",
      "Fitting PCA with 67 components\n",
      "Fitting PCA with 68 components\n",
      "Fitting PCA with 69 components\n",
      "Fitting PCA with 70 components\n",
      "Fitting PCA with 71 components\n",
      "Fitting PCA with 72 components\n",
      "Fitting PCA with 73 components\n",
      "Fitting PCA with 74 components\n",
      "Fitting PCA with 75 components\n",
      "Fitting PCA with 76 components\n",
      "Fitting PCA with 77 components\n",
      "Fitting PCA with 78 components\n",
      "Fitting PCA with 79 components\n",
      "Fitting PCA with 80 components\n",
      "Fitting PCA with 81 components\n",
      "Fitting PCA with 82 components\n",
      "Fitting PCA with 83 components\n",
      "Fitting PCA with 84 components\n",
      "Fitting PCA with 85 components\n",
      "Fitting PCA with 86 components\n",
      "Fitting PCA with 87 components\n",
      "Fitting PCA with 88 components\n",
      "Fitting PCA with 89 components\n",
      "Fitting PCA with 90 components\n",
      "Fitting PCA with 91 components\n",
      "Fitting PCA with 92 components\n",
      "Fitting PCA with 93 components\n"
     ]
    }
   ],
   "source": [
    "# Import PCA, LogisticRegression, and Accuracy Score\n",
    "from sklearn.decomposition import PCA\n",
    "from sklearn.linear_model import LogisticRegression\n",
    "from sklearn.metrics import accuracy_score\n",
    "\n",
    "# range of n_components\n",
    "n_components = np.arange(1, 94, 1)\n",
    "\n",
    "# Create empty list for train and test accuracy and runtime\n",
    "train_accuracy = []\n",
    "test_accuracy = []\n",
    "\n",
    "# Loop through n_components and fit PCA\n",
    "for n in n_components:\n",
    "    \n",
    "    # print progess \n",
    "    print(f'Fitting PCA with {n} components')\n",
    "    \n",
    "    # Instantiate and fit PCA\n",
    "    pca = PCA(n_components=n)\n",
    "    X_train_pca = pca.fit_transform(X_train_ss)\n",
    "    X_val_pca = pca.transform(X_val_ss)\n",
    "    \n",
    "    # Instantiate and fit PCA data to Logistic Regression\n",
    "    log_reg = LogisticRegression(max_iter=10000)\n",
    "    log_reg.fit(X_train_pca, y_train)\n",
    "    \n",
    "    \n",
    "    # Evaluate the model\n",
    "    train_accuracy.append(log_reg.score(X_train_pca, y_train))\n",
    "    test_accuracy.append(log_reg.score(X_val_pca, y_val))"
   ]
  },
  {
   "cell_type": "code",
   "execution_count": 29,
   "metadata": {},
   "outputs": [
    {
     "data": {
      "text/plain": [
       "array([0.11900025, 0.19126301, 0.25558817, 0.29777941, 0.33854196,\n",
       "       0.37412158, 0.40316566, 0.43044291, 0.45586011, 0.47784888,\n",
       "       0.49820284, 0.51833664, 0.53573446, 0.55277227, 0.56849355,\n",
       "       0.58333505, 0.59682348, 0.61013486, 0.62279588, 0.63537608,\n",
       "       0.64757696, 0.65929692, 0.67069517, 0.68187262, 0.69292494,\n",
       "       0.70387898, 0.71477157, 0.72562702, 0.73645872, 0.74723365,\n",
       "       0.75798732, 0.76866791, 0.77915347, 0.78954336, 0.79975153,\n",
       "       0.80970365, 0.81950875, 0.82921257, 0.83855178, 0.84765955,\n",
       "       0.8565047 , 0.86518022, 0.87373578, 0.88219829, 0.89019391,\n",
       "       0.89793279, 0.90539313, 0.91274384, 0.91963212, 0.92629031,\n",
       "       0.93253215, 0.93837409, 0.9440646 , 0.94959518, 0.95458873,\n",
       "       0.95940715, 0.96403408, 0.9682431 , 0.9716369 , 0.97495377,\n",
       "       0.9777975 , 0.98020308, 0.98255134, 0.98482514, 0.98697662,\n",
       "       0.98851008, 0.98984608, 0.99101786, 0.99215893, 0.99329421,\n",
       "       0.9943333 , 0.99535422, 0.99614454, 0.99684543, 0.99749666,\n",
       "       0.99802315, 0.99849566, 0.99893415, 0.99933432, 0.99957408,\n",
       "       0.9997211 , 0.99986694, 0.99997457, 0.99999   , 0.99999979,\n",
       "       0.99999993, 0.99999999, 1.        , 1.        , 1.        ,\n",
       "       1.        , 1.        , 1.        ])"
      ]
     },
     "execution_count": 29,
     "metadata": {},
     "output_type": "execute_result"
    }
   ],
   "source": [
    "expl_var = pca.explained_variance_ratio_\n",
    "cumulative_sum = np.cumsum(expl_var)\n",
    "cumulative_sum"
   ]
  },
  {
   "attachments": {},
   "cell_type": "markdown",
   "metadata": {},
   "source": [
    "### Evaluate"
   ]
  },
  {
   "cell_type": "code",
   "execution_count": 30,
   "metadata": {},
   "outputs": [
    {
     "name": "stderr",
     "output_type": "stream",
     "text": [
      "/var/folders/24/01k76k4d1m97wq2ctswkkkt40000gn/T/ipykernel_30297/1862869275.py:5: MatplotlibDeprecationWarning: Auto-removal of overlapping axes is deprecated since 3.6 and will be removed two minor releases later; explicitly call ax.remove() as needed.\n",
      "  plt.subplot(2, 2, 1)\n",
      "/var/folders/24/01k76k4d1m97wq2ctswkkkt40000gn/T/ipykernel_30297/1862869275.py:14: MatplotlibDeprecationWarning: Auto-removal of overlapping axes is deprecated since 3.6 and will be removed two minor releases later; explicitly call ax.remove() as needed.\n",
      "  plt.subplot(2, 2, 3)\n"
     ]
    },
    {
     "data": {
      "image/png": "[encoded data removed]",
      "text/plain": [
       "<Figure size 1500x1000 with 3 Axes>"
      ]
     },
     "metadata": {},
     "output_type": "display_data"
    }
   ],
   "source": [
    "# Create three subplots\n",
    "fig, ax = plt.subplots(3, 1, figsize=(15, 10))\n",
    "\n",
    "# Accuracy vs. Number of Components\n",
    "plt.subplot(2, 2, 1)\n",
    "plt.plot(n_components, train_accuracy, label='Train Accuracy', color='red')\n",
    "plt.plot(n_components, test_accuracy, label='Validation Accuracy', color='blue')\n",
    "plt.title('Accuracy vs. Number of Components')\n",
    "plt.xlabel('Number of Components')\n",
    "plt.ylabel('Accuracy (%)')\n",
    "plt.legend()\n",
    "\n",
    "# Variance Explained vs. Number of Components\n",
    "plt.subplot(2, 2, 3)\n",
    "plt.plot(n_components, expl_var, label='Variance Explained', color='green')\n",
    "plt.title('Variance Explained vs. Number of Components')\n",
    "plt.xlabel('Number of Components')\n",
    "plt.ylabel('Variance Explained (%)')\n",
    "plt.legend()\n",
    "\n",
    "# Cumulative Sum vs. Number of Components\n",
    "plt.subplot(2, 2, 4)\n",
    "plt.plot(n_components, cumulative_sum, label='Cumulative Sum', color='green')\n",
    "plt.title(' Variance Explained Cumulative Sum vs. Number of Components')\n",
    "plt.xlabel('Number of Components')\n",
    "plt.ylabel('Cumulative Sum (%)')\n",
    "plt.legend()\n",
    "\n",
    "plt.tight_layout()\n",
    "plt.show()"
   ]
  },
  {
   "attachments": {},
   "cell_type": "markdown",
   "metadata": {},
   "source": [
    "### Confusion Matrix"
   ]
  },
  {
   "cell_type": "code",
   "execution_count": 31,
   "metadata": {},
   "outputs": [
    {
     "name": "stdout",
     "output_type": "stream",
     "text": [
      "              precision    recall  f1-score   support\n",
      "\n",
      "         0.0       0.71      0.78      0.75     58075\n",
      "         1.0       0.62      0.53      0.57     38828\n",
      "\n",
      "    accuracy                           0.68     96903\n",
      "   macro avg       0.67      0.66      0.66     96903\n",
      "weighted avg       0.67      0.68      0.68     96903\n",
      "\n"
     ]
    }
   ],
   "source": [
    "# import classification report\n",
    "from sklearn.metrics import classification_report\n",
    "\n",
    "# show classification report\n",
    "print(classification_report(y_val, log_reg.predict(X_val_pca)))"
   ]
  },
  {
   "cell_type": "code",
   "execution_count": 32,
   "metadata": {},
   "outputs": [
    {
     "data": {
      "image/png": "[encoded data removed]",
      "text/plain": [
       "<Figure size 640x480 with 2 Axes>"
      ]
     },
     "metadata": {},
     "output_type": "display_data"
    }
   ],
   "source": [
    "# import confusion matrix\n",
    "from sklearn.metrics import confusion_matrix\n",
    "\n",
    "# show heatmap confusion matrix\n",
    "sns.heatmap(confusion_matrix(y_val, log_reg.predict(X_val_pca)), annot=True, fmt='d', cmap='Blues')\n",
    "plt.title('Confusion Matrix')\n",
    "plt.xlabel('Predicted')\n",
    "plt.ylabel('Actual')\n",
    "plt.show()\n"
   ]
  },
  {
   "attachments": {},
   "cell_type": "markdown",
   "metadata": {},
   "source": [
    "Accuracy: 88% to 68%\n",
    "\n",
    "\n",
    "Class 1:\n",
    "- Recall: 1% to 53%\n",
    "- Precision: 28% to 62%\n",
    "\n",
    "\n",
    "Class 0:\n",
    "- Recall: 100% to 78%\n",
    "- Precision: 88% to 71%"
   ]
  },
  {
   "attachments": {},
   "cell_type": "markdown",
   "metadata": {},
   "source": [
    "## K Nearest Neighbors Classifer"
   ]
  },
  {
   "cell_type": "code",
   "execution_count": 33,
   "metadata": {},
   "outputs": [
    {
     "name": "stdout",
     "output_type": "stream",
     "text": [
      "The train accuracy is: 0.7621411322779715\n",
      "The Validation accuracy is: 0.6315800336418893\n"
     ]
    }
   ],
   "source": [
    "# import KNN\n",
    "from sklearn.neighbors import KNeighborsClassifier\n",
    "\n",
    "# Instantiate and fit KNN\n",
    "knn = KNeighborsClassifier()\n",
    "knn.fit(X_train_ss, y_train)\n",
    "\n",
    "# Evaluate the model\n",
    "print(f'The train accuracy is: {knn.score(X_train_ss, y_train)}')\n",
    "print(f'The Validation accuracy is: {knn.score(X_val_ss, y_val)}')"
   ]
  },
  {
   "attachments": {},
   "cell_type": "markdown",
   "metadata": {},
   "source": [
    "Overfitting, we need to test a range of neighbors as well as use PCA"
   ]
  },
  {
   "cell_type": "code",
   "execution_count": null,
   "metadata": {},
   "outputs": [],
   "source": [
    "# import grid search, min max scaler, and pipeline\n",
    "from sklearn.model_selection import GridSearchCV\n",
    "from sklearn.preprocessing import MinMaxScaler\n",
    "from sklearn.pipeline import Pipeline\n",
    "\n",
    "# estimator\n",
    "estimator = Pipeline([\n",
    "    ('scaler', StandardScaler()),\n",
    "    ('dim_red', PCA()),\n",
    "    ('knn', KNeighborsClassifier())\n",
    "])\n",
    "\n",
    "# parameters\n",
    "params = {\n",
    "    'scaler': [StandardScaler()],\n",
    "    'dim_red__n_components': np.arange(10, 50, 5),\n",
    "    'knn__n_neighbors': np.arange(1, 51, 5)\n",
    "}\n",
    "\n",
    "# grid search\n",
    "grid = GridSearchCV(estimator, param_grid=params, cv=5, n_jobs=-1, verbose=2)\n",
    "grid.fit(X_rem, y_rem)"
   ]
  },
  {
   "cell_type": "code",
   "execution_count": null,
   "metadata": {},
   "outputs": [],
   "source": [
    "# Create four subplots\n",
    "fig, ax = plt.subplots(2, 2, figsize=(15, 10))\n",
    "\n",
    "# Accuracy vs. Number of Components\n",
    "plt.subplot(2, 2, 1)\n",
    "plt.plot(grid.cv_results_['param_dim_red__n_components'], grid.cv_results_['mean_train_score'], label='Train Accuracy', color='red')\n",
    "plt.plot(grid.cv_results_['param_dim_red__n_components'], grid.cv_results_['mean_test_score'], label='Validation Accuracy', color='blue')\n",
    "plt.title('Accuracy vs. Number of Components')\n",
    "plt.xlabel('Number of Components')\n",
    "plt.ylabel('Accuracy (%)')\n",
    "plt.legend()\n",
    "\n",
    "# Accuracy vs. Number of Neighbors\n",
    "plt.subplot(2, 2, 2)\n",
    "plt.plot(grid.cv_results_['param_knn__n_neighbors'], grid.cv_results_['mean_train_score'], label='Train Accuracy', color='red')\n",
    "plt.plot(grid.cv_results_['param_knn__n_neighbors'], grid.cv_results_['mean_test_score'], label='Validation Accuracy', color='blue')\n",
    "plt.title('Accuracy vs. Number of Neighbors')\n",
    "plt.xlabel('Number of Neighbors')\n",
    "plt.ylabel('Accuracy (%)')\n",
    "plt.legend()\n",
    "\n",
    "# Variance Explained vs. Number of Components\n",
    "plt.subplot(2, 2, 3)\n",
    "plt.plot(grid.cv_results_['param_dim_red__n_components'], grid.cv_results_['param_dim_red__explained_variance_ratio_'], label='Variance Explained', color='green')\n",
    "plt.title('Variance Explained vs. Number of Components')\n",
    "plt.xlabel('Number of Components')\n",
    "plt.ylabel('Variance Explained (%)')\n",
    "plt.legend()\n",
    "\n",
    "# Cumulative Sum vs. Number of Components\n",
    "plt.subplot(2, 2, 4)\n",
    "plt.plot(grid.cv_results_['param_dim_red__n_components'], grid.cv_results_['param_dim_red__explained_variance_ratio_'].cumsum(), label='Cumulative Sum', color='green')\n",
    "plt.title(' Variance Explained Cumulative Sum vs. Number of Components')\n",
    "plt.xlabel('Number of Components')\n",
    "plt.ylabel('Cumulative Sum (%)')\n",
    "plt.legend()"
   ]
  },
  {
   "cell_type": "code",
   "execution_count": null,
   "metadata": {},
   "outputs": [],
   "source": [
    "# best parameters\n",
    "grid.best_params_"
   ]
  },
  {
   "cell_type": "code",
   "execution_count": null,
   "metadata": {},
   "outputs": [],
   "source": [
    "# Instantiate and fit PCA with best parameters\n",
    "pca = PCA(n_components=grid.best_params_['dim_red__n_components'])\n",
    "X_train_pca = pca.fit_transform(X_train_ss)\n",
    "X_val_pca = pca.transform(X_val_ss)\n",
    "\n",
    "# Instantiate and fit KNN with best parameters\n",
    "knn = KNeighborsClassifier(n_neighbors=grid.best_params_['knn__n_neighbors'])\n",
    "knn.fit(X_train_pca, y_train)\n",
    "\n",
    "# Evaluate the model\n",
    "print(f'The train accuracy is: {knn.score(X_train_pca, y_train)}')\n",
    "print(f'The Validation accuracy is: {knn.score(X_val_pca, y_val)}')"
   ]
  }
 ],
 "metadata": {
  "kernelspec": {
   "display_name": "capstone",
   "language": "python",
   "name": "python3"
  },
  "language_info": {
   "codemirror_mode": {
    "name": "ipython",
    "version": 3
   },
   "file_extension": ".py",
   "mimetype": "text/x-python",
   "name": "python",
   "nbconvert_exporter": "python",
   "pygments_lexer": "ipython3",
   "version": "3.10.9"
  },
  "orig_nbformat": 4
 },
 "nbformat": 4,
 "nbformat_minor": 2
}
