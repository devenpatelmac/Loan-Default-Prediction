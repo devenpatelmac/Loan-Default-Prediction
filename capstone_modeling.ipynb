{
 "cells": [
  {
   "cell_type": "code",
   "execution_count": 1,
   "metadata": {
    "tags": []
   },
   "outputs": [],
   "source": [
    "import re\n",
    "import os\n",
    "\n",
    "import numpy as np\n",
    "import pandas as pd\n",
    "from scipy import stats\n",
    "import seaborn as sns\n",
    "import matplotlib.pyplot as plt\n",
    "%matplotlib inline"
   ]
  },
  {
   "cell_type": "code",
   "execution_count": 2,
   "metadata": {
    "tags": []
   },
   "outputs": [],
   "source": [
    "pd.set_option('display.max_rows', 500)\n",
    "pd.set_option('display.max_columns', 500)\n",
    "pd.set_option('display.width', 1000) "
   ]
  },
  {
   "cell_type": "markdown",
   "metadata": {},
   "source": [
    "## Load Clean Data"
   ]
  },
  {
   "cell_type": "code",
   "execution_count": 3,
   "metadata": {
    "tags": []
   },
   "outputs": [],
   "source": [
    "# read accepted_ready csv\n",
    "accepted_ready = pd.read_csv('accepted_ready.csv')"
   ]
  },
  {
   "cell_type": "code",
   "execution_count": 4,
   "metadata": {
    "tags": []
   },
   "outputs": [
    {
     "data": {
      "text/html": [
       "<div>\n",
       "<style scoped>\n",
       "    .dataframe tbody tr th:only-of-type {\n",
       "        vertical-align: middle;\n",
       "    }\n",
       "\n",
       "    .dataframe tbody tr th {\n",
       "        vertical-align: top;\n",
       "    }\n",
       "\n",
       "    .dataframe thead th {\n",
       "        text-align: right;\n",
       "    }\n",
       "</style>\n",
       "<table border=\"1\" class=\"dataframe\">\n",
       "  <thead>\n",
       "    <tr style=\"text-align: right;\">\n",
       "      <th></th>\n",
       "      <th>loan_amnt</th>\n",
       "      <th>int_rate</th>\n",
       "      <th>annual_inc</th>\n",
       "      <th>dti</th>\n",
       "      <th>delinq_2yrs</th>\n",
       "      <th>fico_range_low</th>\n",
       "      <th>inq_last_6mths</th>\n",
       "      <th>pub_rec</th>\n",
       "      <th>revol_bal</th>\n",
       "      <th>revol_util</th>\n",
       "      <th>total_acc</th>\n",
       "      <th>out_prncp</th>\n",
       "      <th>total_pymnt</th>\n",
       "      <th>total_rec_int</th>\n",
       "      <th>total_rec_late_fee</th>\n",
       "      <th>recoveries</th>\n",
       "      <th>last_pymnt_amnt</th>\n",
       "      <th>last_fico_range_low</th>\n",
       "      <th>collections_12_mths_ex_med</th>\n",
       "      <th>acc_now_delinq</th>\n",
       "      <th>tot_cur_bal</th>\n",
       "      <th>chargeoff_within_12_mths</th>\n",
       "      <th>delinq_amnt</th>\n",
       "      <th>mo_sin_old_il_acct</th>\n",
       "      <th>mo_sin_old_rev_tl_op</th>\n",
       "      <th>mo_sin_rcnt_rev_tl_op</th>\n",
       "      <th>mo_sin_rcnt_tl</th>\n",
       "      <th>mort_acc</th>\n",
       "      <th>mths_since_recent_bc</th>\n",
       "      <th>num_accts_ever_120_pd</th>\n",
       "      <th>num_actv_bc_tl</th>\n",
       "      <th>num_bc_tl</th>\n",
       "      <th>num_il_tl</th>\n",
       "      <th>num_op_rev_tl</th>\n",
       "      <th>num_tl_120dpd_2m</th>\n",
       "      <th>num_tl_90g_dpd_24m</th>\n",
       "      <th>num_tl_op_past_12m</th>\n",
       "      <th>pct_tl_nvr_dlq</th>\n",
       "      <th>percent_bc_gt_75</th>\n",
       "      <th>pub_rec_bankruptcies</th>\n",
       "      <th>tax_liens</th>\n",
       "      <th>total_bc_limit</th>\n",
       "      <th>total_il_high_credit_limit</th>\n",
       "      <th>term</th>\n",
       "      <th>emp_length</th>\n",
       "      <th>MORTGAGE</th>\n",
       "      <th>OTHER</th>\n",
       "      <th>OWN</th>\n",
       "      <th>verification_status</th>\n",
       "      <th>car</th>\n",
       "      <th>credit_card</th>\n",
       "      <th>debt_consolidation</th>\n",
       "      <th>housing</th>\n",
       "      <th>major_purchase</th>\n",
       "      <th>medical</th>\n",
       "      <th>other</th>\n",
       "      <th>small_business</th>\n",
       "      <th>vacation</th>\n",
       "      <th>initial_list_status</th>\n",
       "      <th>application_type</th>\n",
       "      <th>disbursement_method</th>\n",
       "      <th>debt_settlement_flag</th>\n",
       "      <th>loan_status</th>\n",
       "      <th>last_pymnt_d_year</th>\n",
       "      <th>last_pymnt_d_month</th>\n",
       "      <th>last_credit_pull_d_year</th>\n",
       "      <th>last_credit_pull_d_month</th>\n",
       "      <th>earliest_cr_line_month</th>\n",
       "    </tr>\n",
       "  </thead>\n",
       "  <tbody>\n",
       "    <tr>\n",
       "      <th>0</th>\n",
       "      <td>3600.0</td>\n",
       "      <td>13.99</td>\n",
       "      <td>55000.0</td>\n",
       "      <td>5.91</td>\n",
       "      <td>0.0</td>\n",
       "      <td>675.0</td>\n",
       "      <td>1.0</td>\n",
       "      <td>0.0</td>\n",
       "      <td>2765.0</td>\n",
       "      <td>29.7</td>\n",
       "      <td>13.0</td>\n",
       "      <td>0.00</td>\n",
       "      <td>4421.723917</td>\n",
       "      <td>821.72</td>\n",
       "      <td>0.0</td>\n",
       "      <td>0.0</td>\n",
       "      <td>122.67</td>\n",
       "      <td>560.0</td>\n",
       "      <td>0.0</td>\n",
       "      <td>0.0</td>\n",
       "      <td>144904.0</td>\n",
       "      <td>0.0</td>\n",
       "      <td>0.0</td>\n",
       "      <td>148.0</td>\n",
       "      <td>128.0</td>\n",
       "      <td>3.0</td>\n",
       "      <td>3.0</td>\n",
       "      <td>1.0</td>\n",
       "      <td>4.0</td>\n",
       "      <td>2.0</td>\n",
       "      <td>2.0</td>\n",
       "      <td>5.0</td>\n",
       "      <td>3.0</td>\n",
       "      <td>4.0</td>\n",
       "      <td>0.0</td>\n",
       "      <td>0.0</td>\n",
       "      <td>3.0</td>\n",
       "      <td>76.9</td>\n",
       "      <td>0.0</td>\n",
       "      <td>0.0</td>\n",
       "      <td>0.0</td>\n",
       "      <td>2400.0</td>\n",
       "      <td>13734.0</td>\n",
       "      <td>36</td>\n",
       "      <td>10.0</td>\n",
       "      <td>1.0</td>\n",
       "      <td>0.0</td>\n",
       "      <td>0.0</td>\n",
       "      <td>0</td>\n",
       "      <td>0.0</td>\n",
       "      <td>0.0</td>\n",
       "      <td>1.0</td>\n",
       "      <td>0.0</td>\n",
       "      <td>0.0</td>\n",
       "      <td>0.0</td>\n",
       "      <td>0.0</td>\n",
       "      <td>0.0</td>\n",
       "      <td>0.0</td>\n",
       "      <td>1</td>\n",
       "      <td>1</td>\n",
       "      <td>1</td>\n",
       "      <td>0</td>\n",
       "      <td>0.0</td>\n",
       "      <td>2019</td>\n",
       "      <td>1</td>\n",
       "      <td>2019</td>\n",
       "      <td>3</td>\n",
       "      <td>8</td>\n",
       "    </tr>\n",
       "    <tr>\n",
       "      <th>1</th>\n",
       "      <td>24700.0</td>\n",
       "      <td>11.99</td>\n",
       "      <td>65000.0</td>\n",
       "      <td>16.06</td>\n",
       "      <td>1.0</td>\n",
       "      <td>715.0</td>\n",
       "      <td>4.0</td>\n",
       "      <td>0.0</td>\n",
       "      <td>21470.0</td>\n",
       "      <td>19.2</td>\n",
       "      <td>38.0</td>\n",
       "      <td>0.00</td>\n",
       "      <td>25679.660000</td>\n",
       "      <td>979.66</td>\n",
       "      <td>0.0</td>\n",
       "      <td>0.0</td>\n",
       "      <td>926.35</td>\n",
       "      <td>695.0</td>\n",
       "      <td>0.0</td>\n",
       "      <td>0.0</td>\n",
       "      <td>204396.0</td>\n",
       "      <td>0.0</td>\n",
       "      <td>0.0</td>\n",
       "      <td>113.0</td>\n",
       "      <td>192.0</td>\n",
       "      <td>2.0</td>\n",
       "      <td>2.0</td>\n",
       "      <td>4.0</td>\n",
       "      <td>2.0</td>\n",
       "      <td>0.0</td>\n",
       "      <td>5.0</td>\n",
       "      <td>17.0</td>\n",
       "      <td>6.0</td>\n",
       "      <td>20.0</td>\n",
       "      <td>0.0</td>\n",
       "      <td>0.0</td>\n",
       "      <td>2.0</td>\n",
       "      <td>97.4</td>\n",
       "      <td>7.7</td>\n",
       "      <td>0.0</td>\n",
       "      <td>0.0</td>\n",
       "      <td>79300.0</td>\n",
       "      <td>24667.0</td>\n",
       "      <td>36</td>\n",
       "      <td>10.0</td>\n",
       "      <td>1.0</td>\n",
       "      <td>0.0</td>\n",
       "      <td>0.0</td>\n",
       "      <td>0</td>\n",
       "      <td>0.0</td>\n",
       "      <td>0.0</td>\n",
       "      <td>0.0</td>\n",
       "      <td>0.0</td>\n",
       "      <td>0.0</td>\n",
       "      <td>0.0</td>\n",
       "      <td>0.0</td>\n",
       "      <td>1.0</td>\n",
       "      <td>0.0</td>\n",
       "      <td>1</td>\n",
       "      <td>1</td>\n",
       "      <td>1</td>\n",
       "      <td>0</td>\n",
       "      <td>0.0</td>\n",
       "      <td>2016</td>\n",
       "      <td>6</td>\n",
       "      <td>2019</td>\n",
       "      <td>3</td>\n",
       "      <td>12</td>\n",
       "    </tr>\n",
       "    <tr>\n",
       "      <th>2</th>\n",
       "      <td>20000.0</td>\n",
       "      <td>10.78</td>\n",
       "      <td>63000.0</td>\n",
       "      <td>10.78</td>\n",
       "      <td>0.0</td>\n",
       "      <td>695.0</td>\n",
       "      <td>0.0</td>\n",
       "      <td>0.0</td>\n",
       "      <td>7869.0</td>\n",
       "      <td>56.2</td>\n",
       "      <td>18.0</td>\n",
       "      <td>0.00</td>\n",
       "      <td>22705.924294</td>\n",
       "      <td>2705.92</td>\n",
       "      <td>0.0</td>\n",
       "      <td>0.0</td>\n",
       "      <td>15813.30</td>\n",
       "      <td>700.0</td>\n",
       "      <td>0.0</td>\n",
       "      <td>0.0</td>\n",
       "      <td>189699.0</td>\n",
       "      <td>0.0</td>\n",
       "      <td>0.0</td>\n",
       "      <td>125.0</td>\n",
       "      <td>184.0</td>\n",
       "      <td>14.0</td>\n",
       "      <td>14.0</td>\n",
       "      <td>5.0</td>\n",
       "      <td>101.0</td>\n",
       "      <td>0.0</td>\n",
       "      <td>2.0</td>\n",
       "      <td>4.0</td>\n",
       "      <td>6.0</td>\n",
       "      <td>4.0</td>\n",
       "      <td>0.0</td>\n",
       "      <td>0.0</td>\n",
       "      <td>0.0</td>\n",
       "      <td>100.0</td>\n",
       "      <td>50.0</td>\n",
       "      <td>0.0</td>\n",
       "      <td>0.0</td>\n",
       "      <td>6200.0</td>\n",
       "      <td>14877.0</td>\n",
       "      <td>60</td>\n",
       "      <td>10.0</td>\n",
       "      <td>1.0</td>\n",
       "      <td>0.0</td>\n",
       "      <td>0.0</td>\n",
       "      <td>0</td>\n",
       "      <td>0.0</td>\n",
       "      <td>0.0</td>\n",
       "      <td>0.0</td>\n",
       "      <td>1.0</td>\n",
       "      <td>0.0</td>\n",
       "      <td>0.0</td>\n",
       "      <td>0.0</td>\n",
       "      <td>0.0</td>\n",
       "      <td>0.0</td>\n",
       "      <td>1</td>\n",
       "      <td>0</td>\n",
       "      <td>1</td>\n",
       "      <td>0</td>\n",
       "      <td>0.0</td>\n",
       "      <td>2017</td>\n",
       "      <td>6</td>\n",
       "      <td>2019</td>\n",
       "      <td>3</td>\n",
       "      <td>8</td>\n",
       "    </tr>\n",
       "    <tr>\n",
       "      <th>3</th>\n",
       "      <td>35000.0</td>\n",
       "      <td>14.85</td>\n",
       "      <td>110000.0</td>\n",
       "      <td>17.06</td>\n",
       "      <td>0.0</td>\n",
       "      <td>785.0</td>\n",
       "      <td>0.0</td>\n",
       "      <td>0.0</td>\n",
       "      <td>7802.0</td>\n",
       "      <td>11.6</td>\n",
       "      <td>17.0</td>\n",
       "      <td>15897.65</td>\n",
       "      <td>31464.010000</td>\n",
       "      <td>12361.66</td>\n",
       "      <td>0.0</td>\n",
       "      <td>0.0</td>\n",
       "      <td>829.90</td>\n",
       "      <td>675.0</td>\n",
       "      <td>0.0</td>\n",
       "      <td>0.0</td>\n",
       "      <td>301500.0</td>\n",
       "      <td>0.0</td>\n",
       "      <td>0.0</td>\n",
       "      <td>36.0</td>\n",
       "      <td>87.0</td>\n",
       "      <td>2.0</td>\n",
       "      <td>2.0</td>\n",
       "      <td>1.0</td>\n",
       "      <td>2.0</td>\n",
       "      <td>0.0</td>\n",
       "      <td>4.0</td>\n",
       "      <td>10.0</td>\n",
       "      <td>2.0</td>\n",
       "      <td>10.0</td>\n",
       "      <td>0.0</td>\n",
       "      <td>0.0</td>\n",
       "      <td>1.0</td>\n",
       "      <td>100.0</td>\n",
       "      <td>0.0</td>\n",
       "      <td>0.0</td>\n",
       "      <td>0.0</td>\n",
       "      <td>62500.0</td>\n",
       "      <td>18000.0</td>\n",
       "      <td>60</td>\n",
       "      <td>10.0</td>\n",
       "      <td>1.0</td>\n",
       "      <td>0.0</td>\n",
       "      <td>0.0</td>\n",
       "      <td>1</td>\n",
       "      <td>0.0</td>\n",
       "      <td>0.0</td>\n",
       "      <td>1.0</td>\n",
       "      <td>0.0</td>\n",
       "      <td>0.0</td>\n",
       "      <td>0.0</td>\n",
       "      <td>0.0</td>\n",
       "      <td>0.0</td>\n",
       "      <td>0.0</td>\n",
       "      <td>1</td>\n",
       "      <td>1</td>\n",
       "      <td>1</td>\n",
       "      <td>0</td>\n",
       "      <td>0.0</td>\n",
       "      <td>2019</td>\n",
       "      <td>2</td>\n",
       "      <td>2019</td>\n",
       "      <td>3</td>\n",
       "      <td>9</td>\n",
       "    </tr>\n",
       "    <tr>\n",
       "      <th>4</th>\n",
       "      <td>10400.0</td>\n",
       "      <td>22.45</td>\n",
       "      <td>104433.0</td>\n",
       "      <td>25.37</td>\n",
       "      <td>1.0</td>\n",
       "      <td>695.0</td>\n",
       "      <td>3.0</td>\n",
       "      <td>0.0</td>\n",
       "      <td>21929.0</td>\n",
       "      <td>64.5</td>\n",
       "      <td>35.0</td>\n",
       "      <td>0.00</td>\n",
       "      <td>11740.500000</td>\n",
       "      <td>1340.50</td>\n",
       "      <td>0.0</td>\n",
       "      <td>0.0</td>\n",
       "      <td>10128.96</td>\n",
       "      <td>700.0</td>\n",
       "      <td>0.0</td>\n",
       "      <td>0.0</td>\n",
       "      <td>331730.0</td>\n",
       "      <td>0.0</td>\n",
       "      <td>0.0</td>\n",
       "      <td>128.0</td>\n",
       "      <td>210.0</td>\n",
       "      <td>4.0</td>\n",
       "      <td>4.0</td>\n",
       "      <td>6.0</td>\n",
       "      <td>4.0</td>\n",
       "      <td>0.0</td>\n",
       "      <td>4.0</td>\n",
       "      <td>9.0</td>\n",
       "      <td>10.0</td>\n",
       "      <td>7.0</td>\n",
       "      <td>0.0</td>\n",
       "      <td>0.0</td>\n",
       "      <td>4.0</td>\n",
       "      <td>96.6</td>\n",
       "      <td>60.0</td>\n",
       "      <td>0.0</td>\n",
       "      <td>0.0</td>\n",
       "      <td>20300.0</td>\n",
       "      <td>88097.0</td>\n",
       "      <td>60</td>\n",
       "      <td>3.0</td>\n",
       "      <td>1.0</td>\n",
       "      <td>0.0</td>\n",
       "      <td>0.0</td>\n",
       "      <td>1</td>\n",
       "      <td>0.0</td>\n",
       "      <td>0.0</td>\n",
       "      <td>0.0</td>\n",
       "      <td>0.0</td>\n",
       "      <td>1.0</td>\n",
       "      <td>0.0</td>\n",
       "      <td>0.0</td>\n",
       "      <td>0.0</td>\n",
       "      <td>0.0</td>\n",
       "      <td>1</td>\n",
       "      <td>1</td>\n",
       "      <td>1</td>\n",
       "      <td>0</td>\n",
       "      <td>0.0</td>\n",
       "      <td>2016</td>\n",
       "      <td>7</td>\n",
       "      <td>2018</td>\n",
       "      <td>3</td>\n",
       "      <td>6</td>\n",
       "    </tr>\n",
       "  </tbody>\n",
       "</table>\n",
       "</div>"
      ],
      "text/plain": [
       "   loan_amnt  int_rate  annual_inc    dti  delinq_2yrs  fico_range_low  inq_last_6mths  pub_rec  revol_bal  revol_util  total_acc  out_prncp   total_pymnt  total_rec_int  total_rec_late_fee  recoveries  last_pymnt_amnt  last_fico_range_low  collections_12_mths_ex_med  acc_now_delinq  tot_cur_bal  chargeoff_within_12_mths  delinq_amnt  mo_sin_old_il_acct  mo_sin_old_rev_tl_op  mo_sin_rcnt_rev_tl_op  mo_sin_rcnt_tl  mort_acc  mths_since_recent_bc  num_accts_ever_120_pd  num_actv_bc_tl  num_bc_tl  num_il_tl  num_op_rev_tl  num_tl_120dpd_2m  num_tl_90g_dpd_24m  num_tl_op_past_12m  pct_tl_nvr_dlq  percent_bc_gt_75  pub_rec_bankruptcies  tax_liens  total_bc_limit  total_il_high_credit_limit  term  emp_length  MORTGAGE  OTHER  OWN  verification_status  car  credit_card  debt_consolidation  housing  major_purchase  medical  other  small_business  vacation  initial_list_status  application_type  disbursement_method  debt_settlement_flag  loan_status  last_pymnt_d_year  last_pymnt_d_month  \\\n",
       "0     3600.0     13.99     55000.0   5.91          0.0           675.0             1.0      0.0     2765.0        29.7       13.0       0.00   4421.723917         821.72                 0.0         0.0           122.67                560.0                         0.0             0.0     144904.0                       0.0          0.0               148.0                 128.0                    3.0             3.0       1.0                   4.0                    2.0             2.0        5.0        3.0            4.0               0.0                 0.0                 3.0            76.9               0.0                   0.0        0.0          2400.0                     13734.0    36        10.0       1.0    0.0  0.0                    0  0.0          0.0                 1.0      0.0             0.0      0.0    0.0             0.0       0.0                    1                 1                    1                     0          0.0               2019                   1   \n",
       "1    24700.0     11.99     65000.0  16.06          1.0           715.0             4.0      0.0    21470.0        19.2       38.0       0.00  25679.660000         979.66                 0.0         0.0           926.35                695.0                         0.0             0.0     204396.0                       0.0          0.0               113.0                 192.0                    2.0             2.0       4.0                   2.0                    0.0             5.0       17.0        6.0           20.0               0.0                 0.0                 2.0            97.4               7.7                   0.0        0.0         79300.0                     24667.0    36        10.0       1.0    0.0  0.0                    0  0.0          0.0                 0.0      0.0             0.0      0.0    0.0             1.0       0.0                    1                 1                    1                     0          0.0               2016                   6   \n",
       "2    20000.0     10.78     63000.0  10.78          0.0           695.0             0.0      0.0     7869.0        56.2       18.0       0.00  22705.924294        2705.92                 0.0         0.0         15813.30                700.0                         0.0             0.0     189699.0                       0.0          0.0               125.0                 184.0                   14.0            14.0       5.0                 101.0                    0.0             2.0        4.0        6.0            4.0               0.0                 0.0                 0.0           100.0              50.0                   0.0        0.0          6200.0                     14877.0    60        10.0       1.0    0.0  0.0                    0  0.0          0.0                 0.0      1.0             0.0      0.0    0.0             0.0       0.0                    1                 0                    1                     0          0.0               2017                   6   \n",
       "3    35000.0     14.85    110000.0  17.06          0.0           785.0             0.0      0.0     7802.0        11.6       17.0   15897.65  31464.010000       12361.66                 0.0         0.0           829.90                675.0                         0.0             0.0     301500.0                       0.0          0.0                36.0                  87.0                    2.0             2.0       1.0                   2.0                    0.0             4.0       10.0        2.0           10.0               0.0                 0.0                 1.0           100.0               0.0                   0.0        0.0         62500.0                     18000.0    60        10.0       1.0    0.0  0.0                    1  0.0          0.0                 1.0      0.0             0.0      0.0    0.0             0.0       0.0                    1                 1                    1                     0          0.0               2019                   2   \n",
       "4    10400.0     22.45    104433.0  25.37          1.0           695.0             3.0      0.0    21929.0        64.5       35.0       0.00  11740.500000        1340.50                 0.0         0.0         10128.96                700.0                         0.0             0.0     331730.0                       0.0          0.0               128.0                 210.0                    4.0             4.0       6.0                   4.0                    0.0             4.0        9.0       10.0            7.0               0.0                 0.0                 4.0            96.6              60.0                   0.0        0.0         20300.0                     88097.0    60         3.0       1.0    0.0  0.0                    1  0.0          0.0                 0.0      0.0             1.0      0.0    0.0             0.0       0.0                    1                 1                    1                     0          0.0               2016                   7   \n",
       "\n",
       "   last_credit_pull_d_year  last_credit_pull_d_month  earliest_cr_line_month  \n",
       "0                     2019                         3                       8  \n",
       "1                     2019                         3                      12  \n",
       "2                     2019                         3                       8  \n",
       "3                     2019                         3                       9  \n",
       "4                     2018                         3                       6  "
      ]
     },
     "execution_count": 4,
     "metadata": {},
     "output_type": "execute_result"
    }
   ],
   "source": [
    "accepted_ready.head()"
   ]
  },
  {
   "cell_type": "code",
   "execution_count": 5,
   "metadata": {
    "tags": []
   },
   "outputs": [
    {
     "data": {
      "text/plain": [
       "0"
      ]
     },
     "execution_count": 5,
     "metadata": {},
     "output_type": "execute_result"
    }
   ],
   "source": [
    "# sum of null values \n",
    "accepted_ready.isnull().sum().sum()"
   ]
  },
  {
   "cell_type": "code",
   "execution_count": 6,
   "metadata": {
    "tags": []
   },
   "outputs": [
    {
     "data": {
      "text/plain": [
       "(1756089, 68)"
      ]
     },
     "execution_count": 6,
     "metadata": {},
     "output_type": "execute_result"
    }
   ],
   "source": [
    "accepted_ready.shape"
   ]
  },
  {
   "cell_type": "code",
   "execution_count": 7,
   "metadata": {
    "tags": []
   },
   "outputs": [
    {
     "data": {
      "text/plain": [
       "0"
      ]
     },
     "execution_count": 7,
     "metadata": {},
     "output_type": "execute_result"
    }
   ],
   "source": [
    "# sum of null values \n",
    "accepted_ready.isnull().sum().sum()"
   ]
  },
  {
   "cell_type": "code",
   "execution_count": 8,
   "metadata": {
    "tags": []
   },
   "outputs": [
    {
     "data": {
      "text/plain": [
       "loan_amnt                     float64\n",
       "int_rate                      float64\n",
       "annual_inc                    float64\n",
       "dti                           float64\n",
       "delinq_2yrs                   float64\n",
       "fico_range_low                float64\n",
       "inq_last_6mths                float64\n",
       "pub_rec                       float64\n",
       "revol_bal                     float64\n",
       "revol_util                    float64\n",
       "total_acc                     float64\n",
       "out_prncp                     float64\n",
       "total_pymnt                   float64\n",
       "total_rec_int                 float64\n",
       "total_rec_late_fee            float64\n",
       "recoveries                    float64\n",
       "last_pymnt_amnt               float64\n",
       "last_fico_range_low           float64\n",
       "collections_12_mths_ex_med    float64\n",
       "acc_now_delinq                float64\n",
       "tot_cur_bal                   float64\n",
       "chargeoff_within_12_mths      float64\n",
       "delinq_amnt                   float64\n",
       "mo_sin_old_il_acct            float64\n",
       "mo_sin_old_rev_tl_op          float64\n",
       "mo_sin_rcnt_rev_tl_op         float64\n",
       "mo_sin_rcnt_tl                float64\n",
       "mort_acc                      float64\n",
       "mths_since_recent_bc          float64\n",
       "num_accts_ever_120_pd         float64\n",
       "num_actv_bc_tl                float64\n",
       "num_bc_tl                     float64\n",
       "num_il_tl                     float64\n",
       "num_op_rev_tl                 float64\n",
       "num_tl_120dpd_2m              float64\n",
       "num_tl_90g_dpd_24m            float64\n",
       "num_tl_op_past_12m            float64\n",
       "pct_tl_nvr_dlq                float64\n",
       "percent_bc_gt_75              float64\n",
       "pub_rec_bankruptcies          float64\n",
       "tax_liens                     float64\n",
       "total_bc_limit                float64\n",
       "total_il_high_credit_limit    float64\n",
       "term                            int64\n",
       "emp_length                    float64\n",
       "MORTGAGE                      float64\n",
       "OTHER                         float64\n",
       "OWN                           float64\n",
       "verification_status             int64\n",
       "car                           float64\n",
       "credit_card                   float64\n",
       "debt_consolidation            float64\n",
       "housing                       float64\n",
       "major_purchase                float64\n",
       "medical                       float64\n",
       "other                         float64\n",
       "small_business                float64\n",
       "vacation                      float64\n",
       "initial_list_status             int64\n",
       "application_type                int64\n",
       "disbursement_method             int64\n",
       "debt_settlement_flag            int64\n",
       "loan_status                   float64\n",
       "last_pymnt_d_year               int64\n",
       "last_pymnt_d_month              int64\n",
       "last_credit_pull_d_year         int64\n",
       "last_credit_pull_d_month        int64\n",
       "earliest_cr_line_month          int64\n",
       "dtype: object"
      ]
     },
     "execution_count": 8,
     "metadata": {},
     "output_type": "execute_result"
    }
   ],
   "source": [
    "accepted_ready.dtypes"
   ]
  },
  {
   "cell_type": "markdown",
   "metadata": {},
   "source": [
    "## Prepare Data"
   ]
  },
  {
   "cell_type": "markdown",
   "metadata": {},
   "source": [
    "### Train, Validation, Test Splits"
   ]
  },
  {
   "cell_type": "code",
   "execution_count": 9,
   "metadata": {
    "tags": []
   },
   "outputs": [],
   "source": [
    "# import Train Test Split\n",
    "from sklearn.model_selection import train_test_split\n",
    "\n",
    "# Instantiate X and y\n",
    "X = accepted_ready.drop('loan_status', axis=1)\n",
    "y = accepted_ready['loan_status']\n",
    "\n",
    "# Remainder Test Split\n",
    "X_rem, X_test, y_rem, y_test = train_test_split(X, y, test_size=0.25, stratify = y, random_state=1)\n",
    "\n",
    "# Valudation Train Split\n",
    "X_train, X_val, y_train, y_val = train_test_split(X_rem, y_rem, test_size=0.25, random_state=1)"
   ]
  },
  {
   "cell_type": "markdown",
   "metadata": {},
   "source": [
    "### Scale the Data"
   ]
  },
  {
   "cell_type": "code",
   "execution_count": 10,
   "metadata": {
    "tags": []
   },
   "outputs": [],
   "source": [
    "# import standard scaler\n",
    "from sklearn.preprocessing import StandardScaler\n",
    "\n",
    "# instantiate, fit, transform standard scaler\n",
    "ss = StandardScaler()\n",
    "ss.fit(X_train)\n",
    "X_train_ss = ss.transform(X_train)\n",
    "\n",
    "X_val_ss = ss.transform(X_val)"
   ]
  },
  {
   "cell_type": "markdown",
   "metadata": {},
   "source": [
    "## Logistic Regression"
   ]
  },
  {
   "cell_type": "markdown",
   "metadata": {},
   "source": [
    "### Model"
   ]
  },
  {
   "cell_type": "code",
   "execution_count": 11,
   "metadata": {
    "tags": []
   },
   "outputs": [
    {
     "name": "stdout",
     "output_type": "stream",
     "text": [
      "The train accuracy is: 0.8802327194095155\n",
      "The Validation accuracy is: 0.8789310802479446\n"
     ]
    }
   ],
   "source": [
    "from sklearn.linear_model import LogisticRegression\n",
    "\n",
    "# Instantiate and fit Logistic Regression\n",
    "log_reg = LogisticRegression(max_iter=10000)\n",
    "log_reg.fit(X_train_ss, y_train)\n",
    "\n",
    "# Evaluate the model\n",
    "print(f'The train accuracy is: {log_reg.score(X_train_ss, y_train)}')\n",
    "print(f'The Validation accuracy is: {log_reg.score(X_val_ss, y_val)}')"
   ]
  },
  {
   "cell_type": "code",
   "execution_count": 13,
   "metadata": {
    "scrolled": true,
    "tags": []
   },
   "outputs": [
    {
     "name": "stdout",
     "output_type": "stream",
     "text": [
      "Fitting PCA with 1 components\n",
      "Fitting PCA with 5 components\n",
      "Fitting PCA with 9 components\n",
      "Fitting PCA with 13 components\n",
      "Fitting PCA with 17 components\n",
      "Fitting PCA with 21 components\n",
      "Fitting PCA with 25 components\n",
      "Fitting PCA with 29 components\n",
      "Fitting PCA with 33 components\n",
      "Fitting PCA with 37 components\n",
      "Fitting PCA with 41 components\n",
      "Fitting PCA with 45 components\n",
      "Fitting PCA with 49 components\n",
      "Fitting PCA with 53 components\n",
      "Fitting PCA with 57 components\n",
      "Fitting PCA with 61 components\n",
      "Fitting PCA with 65 components\n"
     ]
    }
   ],
   "source": [
    "# Import PCA, LogisticRegression, and Accuracy Score\n",
    "from sklearn.decomposition import PCA\n",
    "from sklearn.linear_model import LogisticRegression\n",
    "from sklearn.metrics import accuracy_score\n",
    "\n",
    "# range of n_components\n",
    "n_components = range(1, 68, 4)\n",
    "\n",
    "# Create empty list for train and test accuracy and runtime\n",
    "train_accuracy = []\n",
    "test_accuracy = []\n",
    "expl_var = []\n",
    "\n",
    "# Loop through n_components and fit PCA\n",
    "for n in n_components:\n",
    "    \n",
    "    # print which component is being fit\n",
    "    print(f'Fitting PCA with {n} components')\n",
    "    \n",
    "    # Instantiate and fit PCA\n",
    "    pca1 = PCA(n_components=n)\n",
    "    X_train_pca = pca1.fit_transform(X_train_ss)\n",
    "    X_val_pca = pca1.transform(X_val_ss)\n",
    "    \n",
    "    # Instantiate and fit PCA data to Logistic Regression\n",
    "    log_reg1 = LogisticRegression(max_iter=10000)\n",
    "    log_reg1.fit(X_train_pca, y_train)\n",
    "    \n",
    "    # Explained Variance\n",
    "    ev = pca1.explained_variance_ratio_.sum()\n",
    "    \n",
    "    # Evaluate the model\n",
    "    train_accuracy.append(log_reg1.score(X_train_pca, y_train))\n",
    "    test_accuracy.append(log_reg1.score(X_val_pca, y_val))\n",
    "    expl_var.append(ev)"
   ]
  },
  {
   "cell_type": "markdown",
   "metadata": {},
   "source": [
    "### Evaluate"
   ]
  },
  {
   "cell_type": "code",
   "execution_count": 14,
   "metadata": {
    "tags": []
   },
   "outputs": [
    {
     "data": {
      "image/png": "[encoded data removed]",
      "text/plain": [
       "<Figure size 1300x500 with 2 Axes>"
      ]
     },
     "metadata": {},
     "output_type": "display_data"
    }
   ],
   "source": [
    "# Create two subplots\n",
    "fig, ax = plt.subplots(1, 2, figsize=(13, 5))\n",
    "\n",
    "# Accuracy vs. Number of Components\n",
    "plt.subplot(1, 2, 1)\n",
    "plt.plot(n_components, train_accuracy, label='Train Accuracy', color='red')\n",
    "plt.plot(n_components, test_accuracy, label='Validation Accuracy', color='blue')\n",
    "plt.title('Accuracy vs. Number of Components')\n",
    "plt.xlabel('Number of Components')\n",
    "plt.ylabel('Accuracy (%)')\n",
    "plt.legend()\n",
    "\n",
    "# Cumulative Sum vs. Number of Components\n",
    "plt.subplot(1, 2, 2)\n",
    "plt.plot(n_components, expl_var, label='Cumulative Sum', color='green')\n",
    "plt.title(' Variance Explained Cumulative Sum vs. Number of Components')\n",
    "plt.xlabel('Number of Components')\n",
    "plt.ylabel('Cumulative Sum (%)')\n",
    "plt.legend()\n",
    "\n",
    "plt.tight_layout()\n",
    "plt.show()"
   ]
  },
  {
   "cell_type": "markdown",
   "metadata": {},
   "source": [
    "### Confusion Matrix"
   ]
  },
  {
   "cell_type": "code",
   "execution_count": 16,
   "metadata": {
    "tags": []
   },
   "outputs": [
    {
     "name": "stdout",
     "output_type": "stream",
     "text": [
      "              precision    recall  f1-score   support\n",
      "\n",
      "         0.0       0.88      1.00      0.94    290132\n",
      "         1.0       0.29      0.01      0.02     39135\n",
      "\n",
      "    accuracy                           0.88    329267\n",
      "   macro avg       0.58      0.50      0.48    329267\n",
      "weighted avg       0.81      0.88      0.83    329267\n",
      "\n"
     ]
    }
   ],
   "source": [
    "# import classification report\n",
    "from sklearn.metrics import classification_report\n",
    "\n",
    "# show classification report\n",
    "print(classification_report(y_val, log_reg1.predict(X_val_pca)))"
   ]
  },
  {
   "cell_type": "code",
   "execution_count": 18,
   "metadata": {
    "tags": []
   },
   "outputs": [
    {
     "data": {
      "image/png": "[encoded data removed]",
      "text/plain": [
       "<Figure size 640x480 with 2 Axes>"
      ]
     },
     "metadata": {},
     "output_type": "display_data"
    }
   ],
   "source": [
    "# import confusion matrix\n",
    "from sklearn.metrics import confusion_matrix\n",
    "\n",
    "# show heatmap confusion matrix\n",
    "sns.heatmap(confusion_matrix(y_val, log_reg1.predict(X_val_pca)), annot=True, fmt='d', cmap='Blues')\n",
    "plt.title('Confusion Matrix')\n",
    "plt.xlabel('Predicted')\n",
    "plt.ylabel('Actual')\n",
    "plt.show()\n"
   ]
  },
  {
   "cell_type": "markdown",
   "metadata": {},
   "source": [
    "## Downsample to 60/40"
   ]
  },
  {
   "cell_type": "code",
   "execution_count": 19,
   "metadata": {
    "tags": []
   },
   "outputs": [
    {
     "data": {
      "text/plain": [
       "0.0    1549364\n",
       "1.0     206725\n",
       "Name: loan_status, dtype: int64"
      ]
     },
     "execution_count": 19,
     "metadata": {},
     "output_type": "execute_result"
    }
   ],
   "source": [
    "# distribution of loan status\n",
    "accepted_ready['loan_status'].value_counts()"
   ]
  },
  {
   "cell_type": "code",
   "execution_count": 20,
   "metadata": {
    "tags": []
   },
   "outputs": [
    {
     "data": {
      "text/plain": [
       "0.0    0.882281\n",
       "1.0    0.117719\n",
       "Name: loan_status, dtype: float64"
      ]
     },
     "execution_count": 20,
     "metadata": {},
     "output_type": "execute_result"
    }
   ],
   "source": [
    "# distribution of loan status percentages\n",
    "accepted_ready['loan_status'].value_counts(normalize=True)"
   ]
  },
  {
   "cell_type": "markdown",
   "metadata": {},
   "source": [
    "To downsample where 40% of our data is class 1, we can multiply the number of observations in class 1 by 1.5 and get the corresponding amount we need in class 0. "
   ]
  },
  {
   "cell_type": "code",
   "execution_count": 21,
   "metadata": {
    "tags": []
   },
   "outputs": [
    {
     "name": "stdout",
     "output_type": "stream",
     "text": [
      "310087.5\n",
      "0.6\n",
      "0.4\n"
     ]
    }
   ],
   "source": [
    "class1 = 206725\n",
    "class0 = class1 * 1.5\n",
    "print(class0)\n",
    "print(class0 / (class1 + class0))\n",
    "print(class1 / (class1 + class0))"
   ]
  },
  {
   "cell_type": "code",
   "execution_count": 22,
   "metadata": {
    "tags": []
   },
   "outputs": [
    {
     "name": "stdout",
     "output_type": "stream",
     "text": [
      "0.0    310087\n",
      "1.0    206725\n",
      "Name: loan_status, dtype: int64\n",
      "0.0    0.6\n",
      "1.0    0.4\n",
      "Name: loan_status, dtype: float64\n"
     ]
    }
   ],
   "source": [
    "# import resample\n",
    "from sklearn.utils import resample\n",
    "\n",
    "# sample 60% of class 1 and 100% of class 0\n",
    "accepted_sample = resample(accepted_ready[accepted_ready['loan_status'] == 0], replace=True, n_samples=310087, random_state=1)\n",
    "\n",
    "# concatenate class 0 and class 1\n",
    "accepted_sample = pd.concat([accepted_ready[accepted_ready['loan_status'] == 1], accepted_sample])\n",
    "\n",
    "# distribution of loan status\n",
    "print(accepted_sample['loan_status'].value_counts())\n",
    "print(accepted_sample['loan_status'].value_counts(normalize=True))"
   ]
  },
  {
   "cell_type": "code",
   "execution_count": 23,
   "metadata": {
    "tags": []
   },
   "outputs": [
    {
     "data": {
      "text/plain": [
       "(516812, 68)"
      ]
     },
     "execution_count": 23,
     "metadata": {},
     "output_type": "execute_result"
    }
   ],
   "source": [
    "accepted_sample.shape"
   ]
  },
  {
   "cell_type": "markdown",
   "metadata": {},
   "source": [
    "## Accepted Sample Data to CSV"
   ]
  },
  {
   "cell_type": "code",
   "execution_count": 24,
   "metadata": {
    "tags": []
   },
   "outputs": [],
   "source": [
    "# accepted sample to csv\n",
    "accepted_sample.to_csv('accepted_sample.csv', index=False)"
   ]
  },
  {
   "cell_type": "code",
   "execution_count": 25,
   "metadata": {
    "tags": []
   },
   "outputs": [],
   "source": [
    "# read accepted_sample csv\n",
    "accepted_sample = pd.read_csv('accepted_sample.csv')"
   ]
  },
  {
   "cell_type": "markdown",
   "metadata": {},
   "source": [
    "## Prepare Data"
   ]
  },
  {
   "cell_type": "markdown",
   "metadata": {},
   "source": [
    "### Train, Validation, Test Splits"
   ]
  },
  {
   "cell_type": "code",
   "execution_count": 26,
   "metadata": {
    "tags": []
   },
   "outputs": [],
   "source": [
    "# import Train Test Split\n",
    "from sklearn.model_selection import train_test_split\n",
    "\n",
    "# Instantiate X and y\n",
    "X = accepted_sample.drop('loan_status', axis=1)\n",
    "y = accepted_sample['loan_status']\n",
    "\n",
    "# Remainder Test Split\n",
    "X_rem, X_test, y_rem, y_test = train_test_split(X, y, test_size=0.25, stratify = y, random_state=1)\n",
    "\n",
    "# Valudation Train Split\n",
    "X_train, X_val, y_train, y_val = train_test_split(X_rem, y_rem, test_size=0.25, random_state=1)"
   ]
  },
  {
   "cell_type": "markdown",
   "metadata": {},
   "source": [
    "### Scale the Data"
   ]
  },
  {
   "cell_type": "code",
   "execution_count": 27,
   "metadata": {
    "tags": []
   },
   "outputs": [],
   "source": [
    "# import standard scaler\n",
    "from sklearn.preprocessing import StandardScaler\n",
    "\n",
    "# instantiate, fit, transform standard scaler\n",
    "ss = StandardScaler()\n",
    "ss.fit(X_train)\n",
    "X_train_ss = ss.transform(X_train)\n",
    "X_val_ss = ss.transform(X_val)"
   ]
  },
  {
   "cell_type": "markdown",
   "metadata": {},
   "source": [
    "### Logistic Regression"
   ]
  },
  {
   "cell_type": "code",
   "execution_count": 28,
   "metadata": {
    "tags": []
   },
   "outputs": [
    {
     "name": "stdout",
     "output_type": "stream",
     "text": [
      "The train accuracy is: 0.6770104504207\n",
      "The Validation accuracy is: 0.6763877279341197\n"
     ]
    }
   ],
   "source": [
    "from sklearn.linear_model import LogisticRegression\n",
    "\n",
    "# Instantiate and fit Logistic Regression\n",
    "log_reg = LogisticRegression(max_iter=10000)\n",
    "log_reg.fit(X_train_ss, y_train)\n",
    "\n",
    "# Evaluate the model\n",
    "print(f'The train accuracy is: {log_reg.score(X_train_ss, y_train)}')\n",
    "print(f'The Validation accuracy is: {log_reg.score(X_val_ss, y_val)}')"
   ]
  },
  {
   "cell_type": "code",
   "execution_count": 29,
   "metadata": {
    "scrolled": true,
    "tags": []
   },
   "outputs": [
    {
     "name": "stdout",
     "output_type": "stream",
     "text": [
      "Fitting PCA with 1 components\n",
      "Fitting PCA with 5 components\n",
      "Fitting PCA with 9 components\n",
      "Fitting PCA with 13 components\n",
      "Fitting PCA with 17 components\n",
      "Fitting PCA with 21 components\n",
      "Fitting PCA with 25 components\n",
      "Fitting PCA with 29 components\n",
      "Fitting PCA with 33 components\n",
      "Fitting PCA with 37 components\n",
      "Fitting PCA with 41 components\n",
      "Fitting PCA with 45 components\n",
      "Fitting PCA with 49 components\n",
      "Fitting PCA with 53 components\n",
      "Fitting PCA with 57 components\n",
      "Fitting PCA with 61 components\n",
      "Fitting PCA with 65 components\n"
     ]
    }
   ],
   "source": [
    "# Import PCA, LogisticRegression, and Accuracy Score\n",
    "from sklearn.decomposition import PCA\n",
    "from sklearn.linear_model import LogisticRegression\n",
    "from sklearn.metrics import accuracy_score\n",
    "\n",
    "# range of n_components\n",
    "n_components = range(1, 68, 4)\n",
    "\n",
    "# Create empty list for train and test accuracy and runtime\n",
    "train_accuracy = []\n",
    "test_accuracy = []\n",
    "expl_var = []\n",
    "\n",
    "# Loop through n_components and fit PCA\n",
    "for n in n_components:\n",
    "    \n",
    "    # print progess \n",
    "    print(f'Fitting PCA with {n} components')\n",
    "    \n",
    "    # Instantiate and fit PCA\n",
    "    pca = PCA(n_components=n)\n",
    "    X_train_pca = pca.fit_transform(X_train_ss)\n",
    "    X_val_pca = pca.transform(X_val_ss)\n",
    "    \n",
    "    # Instantiate and fit PCA data to Logistic Regression\n",
    "    log_reg = LogisticRegression(max_iter=10000)\n",
    "    log_reg.fit(X_train_pca, y_train)\n",
    "    \n",
    "    # Explained Variance\n",
    "    ev = pca.explained_variance_ratio_.sum()\n",
    "    \n",
    "    # Evaluate the model\n",
    "    train_accuracy.append(log_reg.score(X_train_pca, y_train))\n",
    "    test_accuracy.append(log_reg.score(X_val_pca, y_val))\n",
    "    expl_var.append(ev)"
   ]
  },
  {
   "cell_type": "markdown",
   "metadata": {},
   "source": [
    "### Evaluate"
   ]
  },
  {
   "cell_type": "code",
   "execution_count": 30,
   "metadata": {
    "tags": []
   },
   "outputs": [
    {
     "data": {
      "image/png": "[encoded data removed]",
      "text/plain": [
       "<Figure size 1300x500 with 2 Axes>"
      ]
     },
     "metadata": {},
     "output_type": "display_data"
    }
   ],
   "source": [
    "# Create three subplots\n",
    "fig, ax = plt.subplots(1, 2, figsize=(13, 5))\n",
    "\n",
    "# Accuracy vs. Number of Components\n",
    "plt.subplot(1, 2, 1)\n",
    "plt.plot(n_components, train_accuracy, label='Train Accuracy', color='red')\n",
    "plt.plot(n_components, test_accuracy, label='Validation Accuracy', color='blue')\n",
    "plt.title('Accuracy vs. Number of Components')\n",
    "plt.xlabel('Number of Components')\n",
    "plt.ylabel('Accuracy (%)')\n",
    "plt.legend()\n",
    "\n",
    "# Cumulative Sum vs. Number of Components\n",
    "plt.subplot(1, 2, 2)\n",
    "plt.plot(n_components, expl_var, label='Cumulative Sum', color='green')\n",
    "plt.title(' Variance Explained Cumulative Sum vs. Number of Components')\n",
    "plt.xlabel('Number of Components')\n",
    "plt.ylabel('Cumulative Sum (%)')\n",
    "plt.legend()\n",
    "\n",
    "plt.tight_layout()\n",
    "plt.show()"
   ]
  },
  {
   "cell_type": "markdown",
   "metadata": {},
   "source": [
    "### Confusion Matrix"
   ]
  },
  {
   "cell_type": "code",
   "execution_count": 31,
   "metadata": {
    "tags": []
   },
   "outputs": [
    {
     "name": "stdout",
     "output_type": "stream",
     "text": [
      "              precision    recall  f1-score   support\n",
      "\n",
      "         0.0       0.71      0.78      0.74     58075\n",
      "         1.0       0.61      0.52      0.56     38828\n",
      "\n",
      "    accuracy                           0.68     96903\n",
      "   macro avg       0.66      0.65      0.65     96903\n",
      "weighted avg       0.67      0.68      0.67     96903\n",
      "\n"
     ]
    }
   ],
   "source": [
    "# import classification report\n",
    "from sklearn.metrics import classification_report\n",
    "\n",
    "# show classification report\n",
    "print(classification_report(y_val, log_reg.predict(X_val_pca)))"
   ]
  },
  {
   "cell_type": "code",
   "execution_count": 32,
   "metadata": {
    "tags": []
   },
   "outputs": [
    {
     "data": {
      "image/png": "[encoded data removed]",
      "text/plain": [
       "<Figure size 640x480 with 2 Axes>"
      ]
     },
     "metadata": {},
     "output_type": "display_data"
    }
   ],
   "source": [
    "# import confusion matrix\n",
    "from sklearn.metrics import confusion_matrix\n",
    "\n",
    "# show heatmap confusion matrix\n",
    "sns.heatmap(confusion_matrix(y_val, log_reg.predict(X_val_pca)), annot=True, fmt='d', cmap='Blues')\n",
    "plt.title('Confusion Matrix')\n",
    "plt.xlabel('Predicted')\n",
    "plt.ylabel('Actual')\n",
    "plt.show()"
   ]
  },
  {
   "attachments": {},
   "cell_type": "markdown",
   "metadata": {},
   "source": [
    "Accuracy: 88% to 68%\n",
    "\n",
    "\n",
    "Class 1:\n",
    "- Recall: 1% to 52%\n",
    "- Precision: 29% to 61%\n",
    "\n",
    "\n",
    "Class 0:\n",
    "- Recall: 100% to 78%\n",
    "- Precision: 88% to 71%"
   ]
  },
  {
   "cell_type": "markdown",
   "metadata": {},
   "source": [
    "## Random Forest"
   ]
  },
  {
   "cell_type": "markdown",
   "metadata": {},
   "source": [
    "### Model"
   ]
  },
  {
   "cell_type": "code",
   "execution_count": 33,
   "metadata": {
    "tags": []
   },
   "outputs": [
    {
     "name": "stdout",
     "output_type": "stream",
     "text": [
      "The train accuracy is: 1.0\n",
      "The Validation accuracy is: 0.7346212191573016\n"
     ]
    }
   ],
   "source": [
    "# import random forest\n",
    "from sklearn.ensemble import RandomForestClassifier\n",
    "\n",
    "# Instantiate and fit Random Forest on scaled data\n",
    "rf = RandomForestClassifier()\n",
    "rf.fit(X_train_ss, y_train)\n",
    "\n",
    "# Evaluate the model\n",
    "print(f'The train accuracy is: {rf.score(X_train_ss, y_train)}')\n",
    "print(f'The Validation accuracy is: {rf.score(X_val_ss, y_val)}')"
   ]
  },
  {
   "cell_type": "markdown",
   "metadata": {},
   "source": [
    "### Evaluate"
   ]
  },
  {
   "cell_type": "markdown",
   "metadata": {},
   "source": [
    "#### Confusion Matrix"
   ]
  },
  {
   "cell_type": "code",
   "execution_count": 34,
   "metadata": {
    "tags": []
   },
   "outputs": [
    {
     "name": "stdout",
     "output_type": "stream",
     "text": [
      "              precision    recall  f1-score   support\n",
      "\n",
      "         0.0       0.86      0.67      0.75     58075\n",
      "         1.0       0.63      0.83      0.72     38828\n",
      "\n",
      "    accuracy                           0.73     96903\n",
      "   macro avg       0.74      0.75      0.73     96903\n",
      "weighted avg       0.76      0.73      0.74     96903\n",
      "\n"
     ]
    }
   ],
   "source": [
    "# classification report\n",
    "print(classification_report(y_val, rf.predict(X_val_ss)))"
   ]
  },
  {
   "cell_type": "code",
   "execution_count": 35,
   "metadata": {
    "tags": []
   },
   "outputs": [
    {
     "data": {
      "image/png": "[encoded data removed]",
      "text/plain": [
       "<Figure size 640x480 with 2 Axes>"
      ]
     },
     "metadata": {},
     "output_type": "display_data"
    }
   ],
   "source": [
    "# confusion matrix\n",
    "sns.heatmap(confusion_matrix(y_val, rf.predict(X_val_ss)), annot=True, fmt='d', cmap='Blues')\n",
    "plt.title('Confusion Matrix')\n",
    "plt.xlabel('Predicted')\n",
    "plt.ylabel('Actual')\n",
    "plt.show()"
   ]
  },
  {
   "cell_type": "markdown",
   "metadata": {},
   "source": [
    "### Gridsearch Number of Trees and Max Depth"
   ]
  },
  {
   "cell_type": "code",
   "execution_count": 36,
   "metadata": {
    "scrolled": true,
    "tags": []
   },
   "outputs": [
    {
     "name": "stdout",
     "output_type": "stream",
     "text": [
      "Fitting 5 folds for each of 72 candidates, totalling 360 fits\n",
      "[CV 5/5] END rf__max_depth=3, rf__n_estimators=32;, score=0.675 total time=   7.9s\n",
      "[CV 4/5] END rf__max_depth=3, rf__n_estimators=32;, score=0.636 total time=   8.5s\n",
      "[CV 1/5] END rf__max_depth=3, rf__n_estimators=32;, score=0.653 total time=   8.6s\n",
      "[CV 3/5] END rf__max_depth=3, rf__n_estimators=32;, score=0.658 total time=   8.6s\n",
      "[CV 2/5] END rf__max_depth=3, rf__n_estimators=32;, score=0.653 total time=   9.1s\n",
      "[CV 3/5] END rf__max_depth=3, rf__n_estimators=36;, score=0.665 total time=   9.6s\n",
      "[CV 1/5] END rf__max_depth=3, rf__n_estimators=36;, score=0.632 total time=   9.7s\n",
      "[CV 2/5] END rf__max_depth=3, rf__n_estimators=36;, score=0.640 total time=   9.8s\n",
      "[CV 4/5] END rf__max_depth=3, rf__n_estimators=36;, score=0.642 total time=   8.3s\n",
      "[CV 5/5] END rf__max_depth=3, rf__n_estimators=36;, score=0.653 total time=   8.0s\n",
      "[CV 1/5] END rf__max_depth=3, rf__n_estimators=40;, score=0.653 total time=   9.4s\n",
      "[CV 3/5] END rf__max_depth=3, rf__n_estimators=40;, score=0.636 total time=   8.9s\n",
      "[CV 2/5] END rf__max_depth=3, rf__n_estimators=40;, score=0.642 total time=   9.5s\n",
      "[CV 4/5] END rf__max_depth=3, rf__n_estimators=40;, score=0.664 total time=   9.0s\n",
      "[CV 5/5] END rf__max_depth=3, rf__n_estimators=40;, score=0.631 total time=   9.6s\n",
      "[CV 1/5] END rf__max_depth=3, rf__n_estimators=44;, score=0.652 total time=  10.6s\n",
      "[CV 3/5] END rf__max_depth=3, rf__n_estimators=44;, score=0.631 total time=   9.9s\n",
      "[CV 2/5] END rf__max_depth=3, rf__n_estimators=44;, score=0.657 total time=  10.3s\n",
      "[CV 5/5] END rf__max_depth=3, rf__n_estimators=44;, score=0.656 total time=   9.9s\n",
      "[CV 4/5] END rf__max_depth=3, rf__n_estimators=44;, score=0.679 total time=  10.5s\n",
      "[CV 2/5] END rf__max_depth=3, rf__n_estimators=48;, score=0.645 total time=  10.3s\n",
      "[CV 1/5] END rf__max_depth=3, rf__n_estimators=48;, score=0.660 total time=  11.4s\n",
      "[CV 3/5] END rf__max_depth=3, rf__n_estimators=48;, score=0.638 total time=  11.3s\n",
      "[CV 4/5] END rf__max_depth=3, rf__n_estimators=48;, score=0.652 total time=  11.0s\n",
      "[CV 5/5] END rf__max_depth=3, rf__n_estimators=48;, score=0.651 total time=  10.4s\n",
      "[CV 1/5] END rf__max_depth=3, rf__n_estimators=52;, score=0.631 total time=  13.0s\n",
      "[CV 5/5] END rf__max_depth=3, rf__n_estimators=52;, score=0.649 total time=  11.0s\n",
      "[CV 2/5] END rf__max_depth=3, rf__n_estimators=52;, score=0.643 total time=  13.1s\n",
      "[CV 3/5] END rf__max_depth=3, rf__n_estimators=52;, score=0.668 total time=  12.8s\n",
      "[CV 1/5] END rf__max_depth=3, rf__n_estimators=56;, score=0.637 total time=  11.6s\n",
      "[CV 4/5] END rf__max_depth=3, rf__n_estimators=52;, score=0.654 total time=  13.3s\n",
      "[CV 2/5] END rf__max_depth=3, rf__n_estimators=56;, score=0.646 total time=  12.0s\n",
      "[CV 3/5] END rf__max_depth=3, rf__n_estimators=56;, score=0.664 total time=  11.4s\n",
      "[CV 5/5] END rf__max_depth=3, rf__n_estimators=56;, score=0.650 total time=  11.4s\n",
      "[CV 4/5] END rf__max_depth=3, rf__n_estimators=56;, score=0.640 total time=  14.4s\n",
      "[CV 3/5] END rf__max_depth=3, rf__n_estimators=60;, score=0.646 total time=  12.6s\n",
      "[CV 5/5] END rf__max_depth=3, rf__n_estimators=60;, score=0.631 total time=  11.7s\n",
      "[CV 2/5] END rf__max_depth=3, rf__n_estimators=60;, score=0.650 total time=  14.9s\n",
      "[CV 1/5] END rf__max_depth=3, rf__n_estimators=60;, score=0.651 total time=  15.5s\n",
      "[CV 4/5] END rf__max_depth=3, rf__n_estimators=60;, score=0.656 total time=  16.5s\n",
      "[CV 1/5] END rf__max_depth=3, rf__n_estimators=64;, score=0.648 total time=  13.0s\n",
      "[CV 2/5] END rf__max_depth=3, rf__n_estimators=64;, score=0.653 total time=  13.4s\n",
      "[CV 4/5] END rf__max_depth=3, rf__n_estimators=64;, score=0.631 total time=  13.1s\n",
      "[CV 5/5] END rf__max_depth=3, rf__n_estimators=64;, score=0.631 total time=  13.5s\n",
      "[CV 1/5] END rf__max_depth=3, rf__n_estimators=68;, score=0.655 total time=  14.3s\n",
      "[CV 3/5] END rf__max_depth=3, rf__n_estimators=64;, score=0.651 total time=  18.6s\n",
      "[CV 4/5] END rf__max_depth=3, rf__n_estimators=68;, score=0.644 total time=  14.5s\n",
      "[CV 2/5] END rf__max_depth=3, rf__n_estimators=68;, score=0.656 total time=  20.4s\n",
      "[CV 3/5] END rf__max_depth=3, rf__n_estimators=68;, score=0.657 total time=  21.3s\n",
      "[CV 5/5] END rf__max_depth=3, rf__n_estimators=68;, score=0.658 total time=  14.8s\n",
      "[CV 1/5] END rf__max_depth=3, rf__n_estimators=72;, score=0.644 total time=  15.9s\n",
      "[CV 2/5] END rf__max_depth=3, rf__n_estimators=72;, score=0.657 total time=  16.1s\n",
      "[CV 3/5] END rf__max_depth=3, rf__n_estimators=72;, score=0.654 total time=  14.7s\n",
      "[CV 5/5] END rf__max_depth=3, rf__n_estimators=72;, score=0.659 total time=  14.9s\n",
      "[CV 4/5] END rf__max_depth=3, rf__n_estimators=72;, score=0.670 total time=  21.7s\n",
      "[CV 3/5] END rf__max_depth=3, rf__n_estimators=76;, score=0.650 total time=  15.4s\n",
      "[CV 1/5] END rf__max_depth=3, rf__n_estimators=76;, score=0.628 total time=  21.4s\n",
      "[CV 4/5] END rf__max_depth=3, rf__n_estimators=76;, score=0.645 total time=  16.4s\n",
      "[CV 5/5] END rf__max_depth=3, rf__n_estimators=76;, score=0.652 total time=  15.4s\n",
      "[CV 2/5] END rf__max_depth=3, rf__n_estimators=76;, score=0.645 total time=  22.0s\n",
      "[CV 1/5] END rf__max_depth=3, rf__n_estimators=80;, score=0.652 total time=  16.8s\n",
      "[CV 2/5] END rf__max_depth=3, rf__n_estimators=80;, score=0.635 total time=  16.5s\n",
      "[CV 4/5] END rf__max_depth=3, rf__n_estimators=80;, score=0.660 total time=  16.5s\n",
      "[CV 3/5] END rf__max_depth=3, rf__n_estimators=80;, score=0.652 total time=  21.7s\n",
      "[CV 1/5] END rf__max_depth=3, rf__n_estimators=84;, score=0.652 total time=  16.9s\n",
      "[CV 2/5] END rf__max_depth=3, rf__n_estimators=84;, score=0.632 total time=  17.6s\n",
      "[CV 4/5] END rf__max_depth=3, rf__n_estimators=84;, score=0.654 total time=  17.2s\n",
      "[CV 5/5] END rf__max_depth=3, rf__n_estimators=80;, score=0.665 total time=  22.3s\n",
      "[CV 5/5] END rf__max_depth=3, rf__n_estimators=84;, score=0.662 total time=  17.6s\n",
      "[CV 3/5] END rf__max_depth=3, rf__n_estimators=84;, score=0.656 total time=  24.6s\n",
      "[CV 1/5] END rf__max_depth=3, rf__n_estimators=88;, score=0.640 total time=  18.6s\n",
      "[CV 3/5] END rf__max_depth=3, rf__n_estimators=88;, score=0.656 total time=  18.5s\n",
      "[CV 4/5] END rf__max_depth=3, rf__n_estimators=88;, score=0.643 total time=  18.7s\n",
      "[CV 5/5] END rf__max_depth=3, rf__n_estimators=88;, score=0.653 total time=  18.3s\n",
      "[CV 2/5] END rf__max_depth=3, rf__n_estimators=88;, score=0.628 total time=  25.2s\n",
      "[CV 1/5] END rf__max_depth=3, rf__n_estimators=92;, score=0.658 total time=  23.9s\n",
      "[CV 2/5] END rf__max_depth=3, rf__n_estimators=92;, score=0.636 total time=  19.8s\n",
      "[CV 4/5] END rf__max_depth=3, rf__n_estimators=92;, score=0.661 total time=  18.8s\n",
      "[CV 3/5] END rf__max_depth=3, rf__n_estimators=92;, score=0.655 total time=  26.4s\n",
      "[CV 5/5] END rf__max_depth=3, rf__n_estimators=92;, score=0.654 total time=  19.6s\n",
      "[CV 1/5] END rf__max_depth=3, rf__n_estimators=96;, score=0.633 total time=  20.7s\n",
      "[CV 2/5] END rf__max_depth=3, rf__n_estimators=96;, score=0.638 total time=  20.4s\n",
      "[CV 4/5] END rf__max_depth=3, rf__n_estimators=96;, score=0.646 total time=  20.4s\n",
      "[CV 5/5] END rf__max_depth=3, rf__n_estimators=96;, score=0.647 total time=  21.0s\n",
      "[CV 3/5] END rf__max_depth=3, rf__n_estimators=96;, score=0.655 total time=  26.7s\n",
      "[CV 1/5] END rf__max_depth=3, rf__n_estimators=100;, score=0.650 total time=  21.4s\n",
      "[CV 2/5] END rf__max_depth=3, rf__n_estimators=100;, score=0.638 total time=  22.1s\n",
      "[CV 3/5] END rf__max_depth=3, rf__n_estimators=100;, score=0.645 total time=  23.0s\n",
      "[CV 4/5] END rf__max_depth=3, rf__n_estimators=100;, score=0.641 total time=  21.9s\n",
      "[CV 5/5] END rf__max_depth=3, rf__n_estimators=100;, score=0.654 total time=  22.9s\n",
      "[CV 1/5] END rf__max_depth=3, rf__n_estimators=104;, score=0.662 total time=  23.6s\n",
      "[CV 2/5] END rf__max_depth=3, rf__n_estimators=104;, score=0.645 total time=  23.5s\n",
      "[CV 3/5] END rf__max_depth=3, rf__n_estimators=104;, score=0.654 total time=  24.4s\n",
      "[CV 4/5] END rf__max_depth=3, rf__n_estimators=104;, score=0.668 total time=  23.8s\n",
      "[CV 5/5] END rf__max_depth=3, rf__n_estimators=104;, score=0.650 total time=  24.2s\n",
      "[CV 1/5] END rf__max_depth=3, rf__n_estimators=108;, score=0.656 total time=  24.3s\n",
      "[CV 2/5] END rf__max_depth=3, rf__n_estimators=108;, score=0.664 total time=  25.6s\n",
      "[CV 3/5] END rf__max_depth=3, rf__n_estimators=108;, score=0.652 total time=  24.7s\n",
      "[CV 4/5] END rf__max_depth=3, rf__n_estimators=108;, score=0.638 total time=  25.5s\n",
      "[CV 5/5] END rf__max_depth=3, rf__n_estimators=108;, score=0.649 total time=  25.8s\n",
      "[CV 1/5] END rf__max_depth=3, rf__n_estimators=112;, score=0.625 total time=  25.8s\n",
      "[CV 2/5] END rf__max_depth=3, rf__n_estimators=112;, score=0.646 total time=  26.5s\n",
      "[CV 3/5] END rf__max_depth=3, rf__n_estimators=112;, score=0.650 total time=  27.4s\n",
      "[CV 4/5] END rf__max_depth=3, rf__n_estimators=112;, score=0.669 total time=  26.9s\n",
      "[CV 5/5] END rf__max_depth=3, rf__n_estimators=112;, score=0.636 total time=  24.9s\n",
      "[CV 1/5] END rf__max_depth=3, rf__n_estimators=116;, score=0.648 total time=  27.2s\n",
      "[CV 2/5] END rf__max_depth=3, rf__n_estimators=116;, score=0.656 total time=  27.4s\n",
      "[CV 3/5] END rf__max_depth=3, rf__n_estimators=116;, score=0.645 total time=  26.4s\n",
      "[CV 4/5] END rf__max_depth=3, rf__n_estimators=116;, score=0.633 total time=  26.1s\n",
      "[CV 5/5] END rf__max_depth=3, rf__n_estimators=116;, score=0.650 total time=  26.3s\n",
      "[CV 1/5] END rf__max_depth=3, rf__n_estimators=120;, score=0.653 total time=  26.2s\n",
      "[CV 2/5] END rf__max_depth=3, rf__n_estimators=120;, score=0.660 total time=  26.9s\n",
      "[CV 3/5] END rf__max_depth=3, rf__n_estimators=120;, score=0.660 total time=  27.9s\n",
      "[CV 4/5] END rf__max_depth=3, rf__n_estimators=120;, score=0.652 total time=  27.0s\n",
      "[CV 5/5] END rf__max_depth=3, rf__n_estimators=120;, score=0.646 total time=  27.0s\n",
      "[CV 1/5] END rf__max_depth=5, rf__n_estimators=32;, score=0.672 total time=  11.5s\n",
      "[CV 1/5] END rf__max_depth=3, rf__n_estimators=124;, score=0.650 total time=  27.7s\n",
      "[CV 2/5] END rf__max_depth=5, rf__n_estimators=32;, score=0.677 total time=  11.5s\n",
      "[CV 2/5] END rf__max_depth=3, rf__n_estimators=124;, score=0.648 total time=  27.9s\n",
      "[CV 3/5] END rf__max_depth=3, rf__n_estimators=124;, score=0.663 total time=  27.7s\n",
      "[CV 4/5] END rf__max_depth=5, rf__n_estimators=32;, score=0.683 total time=  11.2s\n",
      "[CV 3/5] END rf__max_depth=5, rf__n_estimators=32;, score=0.685 total time=  12.0s\n",
      "[CV 4/5] END rf__max_depth=3, rf__n_estimators=124;, score=0.641 total time=  27.9s\n",
      "[CV 5/5] END rf__max_depth=5, rf__n_estimators=32;, score=0.675 total time=  11.8s\n",
      "[CV 1/5] END rf__max_depth=5, rf__n_estimators=36;, score=0.674 total time=  13.0s\n",
      "[CV 5/5] END rf__max_depth=3, rf__n_estimators=124;, score=0.655 total time=  28.4s\n",
      "[CV 2/5] END rf__max_depth=5, rf__n_estimators=36;, score=0.685 total time=  13.0s\n",
      "[CV 3/5] END rf__max_depth=5, rf__n_estimators=36;, score=0.675 total time=  13.4s\n",
      "[CV 4/5] END rf__max_depth=5, rf__n_estimators=36;, score=0.683 total time=  12.9s\n",
      "[CV 5/5] END rf__max_depth=5, rf__n_estimators=36;, score=0.677 total time=  13.4s\n",
      "[CV 2/5] END rf__max_depth=5, rf__n_estimators=40;, score=0.683 total time=  14.3s\n",
      "[CV 1/5] END rf__max_depth=5, rf__n_estimators=40;, score=0.683 total time=  14.9s\n",
      "[CV 4/5] END rf__max_depth=5, rf__n_estimators=40;, score=0.686 total time=  14.5s\n",
      "[CV 3/5] END rf__max_depth=5, rf__n_estimators=40;, score=0.683 total time=  15.0s\n",
      "[CV 5/5] END rf__max_depth=5, rf__n_estimators=40;, score=0.677 total time=  15.1s\n",
      "[CV 1/5] END rf__max_depth=5, rf__n_estimators=44;, score=0.680 total time=  15.5s\n",
      "[CV 2/5] END rf__max_depth=5, rf__n_estimators=44;, score=0.676 total time=  15.7s\n",
      "[CV 3/5] END rf__max_depth=5, rf__n_estimators=44;, score=0.675 total time=  16.2s\n",
      "[CV 4/5] END rf__max_depth=5, rf__n_estimators=44;, score=0.678 total time=  15.7s\n",
      "[CV 5/5] END rf__max_depth=5, rf__n_estimators=44;, score=0.675 total time=  16.0s\n",
      "[CV 2/5] END rf__max_depth=5, rf__n_estimators=48;, score=0.680 total time=  17.3s\n",
      "[CV 1/5] END rf__max_depth=5, rf__n_estimators=48;, score=0.676 total time=  17.8s\n",
      "[CV 3/5] END rf__max_depth=5, rf__n_estimators=48;, score=0.671 total time=  18.0s\n",
      "[CV 4/5] END rf__max_depth=5, rf__n_estimators=48;, score=0.683 total time=  17.7s\n",
      "[CV 5/5] END rf__max_depth=5, rf__n_estimators=48;, score=0.680 total time=  17.1s\n",
      "[CV 1/5] END rf__max_depth=5, rf__n_estimators=52;, score=0.673 total time=  19.0s\n",
      "[CV 2/5] END rf__max_depth=5, rf__n_estimators=52;, score=0.685 total time=  18.8s\n",
      "[CV 3/5] END rf__max_depth=5, rf__n_estimators=52;, score=0.679 total time=  18.6s\n",
      "[CV 5/5] END rf__max_depth=5, rf__n_estimators=52;, score=0.679 total time=  18.9s\n",
      "[CV 4/5] END rf__max_depth=5, rf__n_estimators=52;, score=0.684 total time=  19.3s\n",
      "[CV 1/5] END rf__max_depth=5, rf__n_estimators=56;, score=0.676 total time=  20.8s\n",
      "[CV 2/5] END rf__max_depth=5, rf__n_estimators=56;, score=0.681 total time=  20.8s\n",
      "[CV 3/5] END rf__max_depth=5, rf__n_estimators=56;, score=0.678 total time=  21.0s\n",
      "[CV 4/5] END rf__max_depth=5, rf__n_estimators=56;, score=0.677 total time=  21.3s\n",
      "[CV 5/5] END rf__max_depth=5, rf__n_estimators=56;, score=0.672 total time=  21.4s\n",
      "[CV 1/5] END rf__max_depth=5, rf__n_estimators=60;, score=0.684 total time=  22.9s\n",
      "[CV 3/5] END rf__max_depth=5, rf__n_estimators=60;, score=0.676 total time=  21.2s\n",
      "[CV 2/5] END rf__max_depth=5, rf__n_estimators=60;, score=0.667 total time=  22.3s\n",
      "[CV 4/5] END rf__max_depth=5, rf__n_estimators=60;, score=0.682 total time=  22.1s\n",
      "[CV 5/5] END rf__max_depth=5, rf__n_estimators=60;, score=0.678 total time=  22.1s\n",
      "[CV 1/5] END rf__max_depth=5, rf__n_estimators=64;, score=0.675 total time=  22.6s\n",
      "[CV 2/5] END rf__max_depth=5, rf__n_estimators=64;, score=0.674 total time=  22.8s\n",
      "[CV 3/5] END rf__max_depth=5, rf__n_estimators=64;, score=0.677 total time=  23.5s\n",
      "[CV 4/5] END rf__max_depth=5, rf__n_estimators=64;, score=0.682 total time=  23.2s\n",
      "[CV 5/5] END rf__max_depth=5, rf__n_estimators=64;, score=0.673 total time=  23.3s\n",
      "[CV 1/5] END rf__max_depth=5, rf__n_estimators=68;, score=0.674 total time=  24.2s\n",
      "[CV 2/5] END rf__max_depth=5, rf__n_estimators=68;, score=0.682 total time=  24.8s\n",
      "[CV 3/5] END rf__max_depth=5, rf__n_estimators=68;, score=0.677 total time=  24.5s\n",
      "[CV 4/5] END rf__max_depth=5, rf__n_estimators=68;, score=0.681 total time=  24.6s\n",
      "[CV 5/5] END rf__max_depth=5, rf__n_estimators=68;, score=0.679 total time=  24.5s\n",
      "[CV 1/5] END rf__max_depth=5, rf__n_estimators=72;, score=0.684 total time=  26.9s\n",
      "[CV 2/5] END rf__max_depth=5, rf__n_estimators=72;, score=0.680 total time=  26.1s\n",
      "[CV 3/5] END rf__max_depth=5, rf__n_estimators=72;, score=0.675 total time=  27.1s\n",
      "[CV 4/5] END rf__max_depth=5, rf__n_estimators=72;, score=0.683 total time=  25.5s\n",
      "[CV 5/5] END rf__max_depth=5, rf__n_estimators=72;, score=0.679 total time=  25.4s\n",
      "[CV 1/5] END rf__max_depth=5, rf__n_estimators=76;, score=0.677 total time=  27.0s\n",
      "[CV 2/5] END rf__max_depth=5, rf__n_estimators=76;, score=0.679 total time=  27.2s\n",
      "[CV 3/5] END rf__max_depth=5, rf__n_estimators=76;, score=0.675 total time=  28.2s\n",
      "[CV 4/5] END rf__max_depth=5, rf__n_estimators=76;, score=0.682 total time=  27.1s\n",
      "[CV 5/5] END rf__max_depth=5, rf__n_estimators=76;, score=0.673 total time=  27.5s\n",
      "[CV 1/5] END rf__max_depth=5, rf__n_estimators=80;, score=0.678 total time=  28.6s\n",
      "[CV 2/5] END rf__max_depth=5, rf__n_estimators=80;, score=0.678 total time=  28.9s\n",
      "[CV 3/5] END rf__max_depth=5, rf__n_estimators=80;, score=0.677 total time=  28.2s\n",
      "[CV 4/5] END rf__max_depth=5, rf__n_estimators=80;, score=0.682 total time=  29.1s\n",
      "[CV 5/5] END rf__max_depth=5, rf__n_estimators=80;, score=0.673 total time=  29.2s\n",
      "[CV 1/5] END rf__max_depth=5, rf__n_estimators=84;, score=0.674 total time=  30.3s\n",
      "[CV 2/5] END rf__max_depth=5, rf__n_estimators=84;, score=0.682 total time=  29.7s\n",
      "[CV 3/5] END rf__max_depth=5, rf__n_estimators=84;, score=0.680 total time=  30.4s\n",
      "[CV 5/5] END rf__max_depth=5, rf__n_estimators=84;, score=0.677 total time=  29.5s\n",
      "[CV 4/5] END rf__max_depth=5, rf__n_estimators=84;, score=0.682 total time=  30.6s\n",
      "[CV 1/5] END rf__max_depth=5, rf__n_estimators=88;, score=0.676 total time=  31.4s\n",
      "[CV 2/5] END rf__max_depth=5, rf__n_estimators=88;, score=0.678 total time=  31.5s\n",
      "[CV 3/5] END rf__max_depth=5, rf__n_estimators=88;, score=0.678 total time=  31.1s\n",
      "[CV 4/5] END rf__max_depth=5, rf__n_estimators=88;, score=0.685 total time=  31.7s\n",
      "[CV 5/5] END rf__max_depth=5, rf__n_estimators=88;, score=0.679 total time=  31.6s\n",
      "[CV 1/5] END rf__max_depth=5, rf__n_estimators=92;, score=0.676 total time=  33.1s\n",
      "[CV 2/5] END rf__max_depth=5, rf__n_estimators=92;, score=0.682 total time=  32.8s\n",
      "[CV 3/5] END rf__max_depth=5, rf__n_estimators=92;, score=0.677 total time=  32.7s\n",
      "[CV 4/5] END rf__max_depth=5, rf__n_estimators=92;, score=0.680 total time=  33.1s\n",
      "[CV 5/5] END rf__max_depth=5, rf__n_estimators=92;, score=0.676 total time=  32.9s\n",
      "[CV 1/5] END rf__max_depth=5, rf__n_estimators=96;, score=0.676 total time=  34.1s\n",
      "[CV 2/5] END rf__max_depth=5, rf__n_estimators=96;, score=0.679 total time=  34.1s\n",
      "[CV 3/5] END rf__max_depth=5, rf__n_estimators=96;, score=0.677 total time=  34.1s\n",
      "[CV 4/5] END rf__max_depth=5, rf__n_estimators=96;, score=0.679 total time=  34.7s\n",
      "[CV 5/5] END rf__max_depth=5, rf__n_estimators=96;, score=0.679 total time=  34.3s\n",
      "[CV 1/5] END rf__max_depth=5, rf__n_estimators=100;, score=0.682 total time=  35.9s\n",
      "[CV 2/5] END rf__max_depth=5, rf__n_estimators=100;, score=0.683 total time=  35.9s\n",
      "[CV 3/5] END rf__max_depth=5, rf__n_estimators=100;, score=0.677 total time=  35.3s\n",
      "[CV 4/5] END rf__max_depth=5, rf__n_estimators=100;, score=0.684 total time=  35.4s\n",
      "[CV 5/5] END rf__max_depth=5, rf__n_estimators=100;, score=0.677 total time=  35.3s\n",
      "[CV 1/5] END rf__max_depth=5, rf__n_estimators=104;, score=0.677 total time=  37.2s\n",
      "[CV 2/5] END rf__max_depth=5, rf__n_estimators=104;, score=0.678 total time=  37.2s\n",
      "[CV 3/5] END rf__max_depth=5, rf__n_estimators=104;, score=0.681 total time=  37.0s\n",
      "[CV 4/5] END rf__max_depth=5, rf__n_estimators=104;, score=0.680 total time=  37.9s\n",
      "[CV 5/5] END rf__max_depth=5, rf__n_estimators=104;, score=0.675 total time=  36.7s\n",
      "[CV 1/5] END rf__max_depth=5, rf__n_estimators=108;, score=0.673 total time=  39.3s\n",
      "[CV 2/5] END rf__max_depth=5, rf__n_estimators=108;, score=0.677 total time=  39.0s\n",
      "[CV 3/5] END rf__max_depth=5, rf__n_estimators=108;, score=0.676 total time=  39.3s\n",
      "[CV 4/5] END rf__max_depth=5, rf__n_estimators=108;, score=0.676 total time=  38.2s\n",
      "[CV 5/5] END rf__max_depth=5, rf__n_estimators=108;, score=0.674 total time=  38.3s\n",
      "[CV 1/5] END rf__max_depth=5, rf__n_estimators=112;, score=0.684 total time=  40.4s\n",
      "[CV 2/5] END rf__max_depth=5, rf__n_estimators=112;, score=0.683 total time=  40.5s\n",
      "[CV 3/5] END rf__max_depth=5, rf__n_estimators=112;, score=0.679 total time=  39.9s\n",
      "[CV 4/5] END rf__max_depth=5, rf__n_estimators=112;, score=0.683 total time=  39.6s\n",
      "[CV 5/5] END rf__max_depth=5, rf__n_estimators=112;, score=0.676 total time=  40.3s\n",
      "[CV 1/5] END rf__max_depth=5, rf__n_estimators=116;, score=0.678 total time=  41.0s\n",
      "[CV 2/5] END rf__max_depth=5, rf__n_estimators=116;, score=0.672 total time=  41.1s\n",
      "[CV 3/5] END rf__max_depth=5, rf__n_estimators=116;, score=0.676 total time=  42.3s\n",
      "[CV 4/5] END rf__max_depth=5, rf__n_estimators=116;, score=0.679 total time=  41.5s\n",
      "[CV 5/5] END rf__max_depth=5, rf__n_estimators=116;, score=0.676 total time=  41.1s\n",
      "[CV 1/5] END rf__max_depth=5, rf__n_estimators=120;, score=0.680 total time=  42.6s\n",
      "[CV 2/5] END rf__max_depth=5, rf__n_estimators=120;, score=0.679 total time=  43.0s\n",
      "[CV 3/5] END rf__max_depth=5, rf__n_estimators=120;, score=0.674 total time=  42.6s\n",
      "[CV 4/5] END rf__max_depth=5, rf__n_estimators=120;, score=0.680 total time=  43.2s\n",
      "[CV 5/5] END rf__max_depth=5, rf__n_estimators=120;, score=0.675 total time=  43.3s\n",
      "[CV 1/5] END rf__max_depth=7, rf__n_estimators=32;, score=0.683 total time=  16.2s\n",
      "[CV 1/5] END rf__max_depth=5, rf__n_estimators=124;, score=0.675 total time=  44.8s\n",
      "[CV 2/5] END rf__max_depth=5, rf__n_estimators=124;, score=0.678 total time=  43.7s\n",
      "[CV 2/5] END rf__max_depth=7, rf__n_estimators=32;, score=0.695 total time=  15.7s\n",
      "[CV 3/5] END rf__max_depth=5, rf__n_estimators=124;, score=0.678 total time=  44.6s\n",
      "[CV 3/5] END rf__max_depth=7, rf__n_estimators=32;, score=0.701 total time=  16.2s\n",
      "[CV 4/5] END rf__max_depth=5, rf__n_estimators=124;, score=0.678 total time=  44.7s\n",
      "[CV 4/5] END rf__max_depth=7, rf__n_estimators=32;, score=0.701 total time=  16.0s\n",
      "[CV 5/5] END rf__max_depth=7, rf__n_estimators=32;, score=0.686 total time=  15.8s\n",
      "[CV 5/5] END rf__max_depth=5, rf__n_estimators=124;, score=0.676 total time=  44.6s\n",
      "[CV 1/5] END rf__max_depth=7, rf__n_estimators=36;, score=0.694 total time=  18.0s\n",
      "[CV 2/5] END rf__max_depth=7, rf__n_estimators=36;, score=0.684 total time=  17.8s\n",
      "[CV 3/5] END rf__max_depth=7, rf__n_estimators=36;, score=0.691 total time=  17.9s\n",
      "[CV 4/5] END rf__max_depth=7, rf__n_estimators=36;, score=0.693 total time=  18.3s\n",
      "[CV 5/5] END rf__max_depth=7, rf__n_estimators=36;, score=0.682 total time=  18.1s\n",
      "[CV 1/5] END rf__max_depth=7, rf__n_estimators=40;, score=0.683 total time=  20.1s\n",
      "[CV 2/5] END rf__max_depth=7, rf__n_estimators=40;, score=0.690 total time=  19.8s\n",
      "[CV 3/5] END rf__max_depth=7, rf__n_estimators=40;, score=0.691 total time=  19.9s\n",
      "[CV 4/5] END rf__max_depth=7, rf__n_estimators=40;, score=0.697 total time=  19.9s\n",
      "[CV 5/5] END rf__max_depth=7, rf__n_estimators=40;, score=0.691 total time=  19.9s\n",
      "[CV 1/5] END rf__max_depth=7, rf__n_estimators=44;, score=0.689 total time=  21.7s\n",
      "[CV 2/5] END rf__max_depth=7, rf__n_estimators=44;, score=0.690 total time=  22.2s\n",
      "[CV 3/5] END rf__max_depth=7, rf__n_estimators=44;, score=0.687 total time=  22.2s\n",
      "[CV 4/5] END rf__max_depth=7, rf__n_estimators=44;, score=0.689 total time=  21.7s\n",
      "[CV 5/5] END rf__max_depth=7, rf__n_estimators=44;, score=0.688 total time=  22.0s\n",
      "[CV 1/5] END rf__max_depth=7, rf__n_estimators=48;, score=0.690 total time=  24.0s\n",
      "[CV 2/5] END rf__max_depth=7, rf__n_estimators=48;, score=0.691 total time=  24.0s\n",
      "[CV 3/5] END rf__max_depth=7, rf__n_estimators=48;, score=0.700 total time=  23.9s\n",
      "[CV 4/5] END rf__max_depth=7, rf__n_estimators=48;, score=0.694 total time=  24.1s\n",
      "[CV 5/5] END rf__max_depth=7, rf__n_estimators=48;, score=0.685 total time=  24.5s\n",
      "[CV 1/5] END rf__max_depth=7, rf__n_estimators=52;, score=0.693 total time=  26.0s\n",
      "[CV 2/5] END rf__max_depth=7, rf__n_estimators=52;, score=0.696 total time=  26.0s\n",
      "[CV 3/5] END rf__max_depth=7, rf__n_estimators=52;, score=0.688 total time=  25.8s\n",
      "[CV 4/5] END rf__max_depth=7, rf__n_estimators=52;, score=0.686 total time=  25.6s\n",
      "[CV 5/5] END rf__max_depth=7, rf__n_estimators=52;, score=0.694 total time=  25.8s\n",
      "[CV 1/5] END rf__max_depth=7, rf__n_estimators=56;, score=0.693 total time=  27.8s\n",
      "[CV 2/5] END rf__max_depth=7, rf__n_estimators=56;, score=0.690 total time=  27.4s\n",
      "[CV 3/5] END rf__max_depth=7, rf__n_estimators=56;, score=0.696 total time=  27.6s\n",
      "[CV 4/5] END rf__max_depth=7, rf__n_estimators=56;, score=0.695 total time=  27.6s\n",
      "[CV 5/5] END rf__max_depth=7, rf__n_estimators=56;, score=0.689 total time=  28.0s\n",
      "[CV 1/5] END rf__max_depth=7, rf__n_estimators=60;, score=0.687 total time=  29.4s\n",
      "[CV 2/5] END rf__max_depth=7, rf__n_estimators=60;, score=0.695 total time=  29.9s\n",
      "[CV 3/5] END rf__max_depth=7, rf__n_estimators=60;, score=0.688 total time=  29.7s\n",
      "[CV 4/5] END rf__max_depth=7, rf__n_estimators=60;, score=0.694 total time=  29.7s\n",
      "[CV 5/5] END rf__max_depth=7, rf__n_estimators=60;, score=0.689 total time=  29.6s\n",
      "[CV 1/5] END rf__max_depth=7, rf__n_estimators=64;, score=0.687 total time=  32.5s\n",
      "[CV 2/5] END rf__max_depth=7, rf__n_estimators=64;, score=0.695 total time=  31.6s\n",
      "[CV 3/5] END rf__max_depth=7, rf__n_estimators=64;, score=0.694 total time=  31.2s\n",
      "[CV 4/5] END rf__max_depth=7, rf__n_estimators=64;, score=0.696 total time=  31.7s\n",
      "[CV 5/5] END rf__max_depth=7, rf__n_estimators=64;, score=0.697 total time=  31.6s\n",
      "[CV 1/5] END rf__max_depth=7, rf__n_estimators=68;, score=0.696 total time=  33.8s\n",
      "[CV 2/5] END rf__max_depth=7, rf__n_estimators=68;, score=0.690 total time=  33.7s\n",
      "[CV 3/5] END rf__max_depth=7, rf__n_estimators=68;, score=0.688 total time=  33.6s\n",
      "[CV 4/5] END rf__max_depth=7, rf__n_estimators=68;, score=0.702 total time=  33.3s\n",
      "[CV 5/5] END rf__max_depth=7, rf__n_estimators=68;, score=0.694 total time=  34.0s\n",
      "[CV 1/5] END rf__max_depth=7, rf__n_estimators=72;, score=0.692 total time=  35.9s\n",
      "[CV 2/5] END rf__max_depth=7, rf__n_estimators=72;, score=0.699 total time=  36.0s\n",
      "[CV 3/5] END rf__max_depth=7, rf__n_estimators=72;, score=0.691 total time=  35.7s\n",
      "[CV 4/5] END rf__max_depth=7, rf__n_estimators=72;, score=0.691 total time=  36.0s\n",
      "[CV 5/5] END rf__max_depth=7, rf__n_estimators=72;, score=0.688 total time=  35.5s\n",
      "[CV 1/5] END rf__max_depth=7, rf__n_estimators=76;, score=0.692 total time=  37.4s\n",
      "[CV 2/5] END rf__max_depth=7, rf__n_estimators=76;, score=0.695 total time=  37.4s\n",
      "[CV 3/5] END rf__max_depth=7, rf__n_estimators=76;, score=0.690 total time=  37.9s\n",
      "[CV 4/5] END rf__max_depth=7, rf__n_estimators=76;, score=0.695 total time=  37.4s\n",
      "[CV 5/5] END rf__max_depth=7, rf__n_estimators=76;, score=0.692 total time=  37.7s\n",
      "[CV 1/5] END rf__max_depth=7, rf__n_estimators=80;, score=0.697 total time=  39.5s\n",
      "[CV 2/5] END rf__max_depth=7, rf__n_estimators=80;, score=0.689 total time=  39.9s\n",
      "[CV 3/5] END rf__max_depth=7, rf__n_estimators=80;, score=0.697 total time=  39.6s\n",
      "[CV 4/5] END rf__max_depth=7, rf__n_estimators=80;, score=0.692 total time=  41.0s\n",
      "[CV 5/5] END rf__max_depth=7, rf__n_estimators=80;, score=0.692 total time=  39.9s\n",
      "[CV 1/5] END rf__max_depth=7, rf__n_estimators=84;, score=0.691 total time=  43.0s\n",
      "[CV 2/5] END rf__max_depth=7, rf__n_estimators=84;, score=0.688 total time=  42.4s\n",
      "[CV 3/5] END rf__max_depth=7, rf__n_estimators=84;, score=0.692 total time=  43.6s\n",
      "[CV 4/5] END rf__max_depth=7, rf__n_estimators=84;, score=0.690 total time=  43.8s\n",
      "[CV 5/5] END rf__max_depth=7, rf__n_estimators=84;, score=0.690 total time=  43.2s\n",
      "[CV 1/5] END rf__max_depth=7, rf__n_estimators=88;, score=0.682 total time=  45.8s\n",
      "[CV 2/5] END rf__max_depth=7, rf__n_estimators=88;, score=0.695 total time=  44.1s\n",
      "[CV 3/5] END rf__max_depth=7, rf__n_estimators=88;, score=0.691 total time=  43.4s\n",
      "[CV 4/5] END rf__max_depth=7, rf__n_estimators=88;, score=0.694 total time=  43.9s\n",
      "[CV 5/5] END rf__max_depth=7, rf__n_estimators=88;, score=0.691 total time=  43.8s\n",
      "[CV 1/5] END rf__max_depth=7, rf__n_estimators=92;, score=0.689 total time=  44.9s\n",
      "[CV 2/5] END rf__max_depth=7, rf__n_estimators=92;, score=0.692 total time=  46.1s\n",
      "[CV 3/5] END rf__max_depth=7, rf__n_estimators=92;, score=0.693 total time=  45.9s\n",
      "[CV 4/5] END rf__max_depth=7, rf__n_estimators=92;, score=0.694 total time=  45.2s\n",
      "[CV 5/5] END rf__max_depth=7, rf__n_estimators=92;, score=0.694 total time=  45.7s\n",
      "[CV 1/5] END rf__max_depth=7, rf__n_estimators=96;, score=0.695 total time=  47.9s\n",
      "[CV 2/5] END rf__max_depth=7, rf__n_estimators=96;, score=0.696 total time=  47.8s\n",
      "[CV 3/5] END rf__max_depth=7, rf__n_estimators=96;, score=0.692 total time=  48.1s\n",
      "[CV 4/5] END rf__max_depth=7, rf__n_estimators=96;, score=0.696 total time=  48.8s\n",
      "[CV 5/5] END rf__max_depth=7, rf__n_estimators=96;, score=0.693 total time=  48.3s\n",
      "[CV 1/5] END rf__max_depth=7, rf__n_estimators=100;, score=0.696 total time=  49.5s\n",
      "[CV 2/5] END rf__max_depth=7, rf__n_estimators=100;, score=0.699 total time=  49.9s\n",
      "[CV 3/5] END rf__max_depth=7, rf__n_estimators=100;, score=0.693 total time=  49.1s\n",
      "[CV 4/5] END rf__max_depth=7, rf__n_estimators=100;, score=0.691 total time=  49.0s\n",
      "[CV 5/5] END rf__max_depth=7, rf__n_estimators=100;, score=0.692 total time=  48.7s\n",
      "[CV 1/5] END rf__max_depth=7, rf__n_estimators=104;, score=0.692 total time=  51.1s\n",
      "[CV 2/5] END rf__max_depth=7, rf__n_estimators=104;, score=0.692 total time=  50.9s\n",
      "[CV 3/5] END rf__max_depth=7, rf__n_estimators=104;, score=0.688 total time=  50.4s\n",
      "[CV 4/5] END rf__max_depth=7, rf__n_estimators=104;, score=0.690 total time=  50.3s\n",
      "[CV 5/5] END rf__max_depth=7, rf__n_estimators=104;, score=0.691 total time=  51.0s\n",
      "[CV 1/5] END rf__max_depth=7, rf__n_estimators=108;, score=0.692 total time=  53.1s\n",
      "[CV 2/5] END rf__max_depth=7, rf__n_estimators=108;, score=0.698 total time=  52.8s\n",
      "[CV 3/5] END rf__max_depth=7, rf__n_estimators=108;, score=0.694 total time=  54.8s\n",
      "[CV 4/5] END rf__max_depth=7, rf__n_estimators=108;, score=0.696 total time=  55.0s\n",
      "[CV 5/5] END rf__max_depth=7, rf__n_estimators=108;, score=0.689 total time=  54.8s\n",
      "[CV 1/5] END rf__max_depth=7, rf__n_estimators=112;, score=0.691 total time=  57.6s\n",
      "[CV 2/5] END rf__max_depth=7, rf__n_estimators=112;, score=0.691 total time=  55.9s\n",
      "[CV 3/5] END rf__max_depth=7, rf__n_estimators=112;, score=0.695 total time=  56.8s\n",
      "[CV 4/5] END rf__max_depth=7, rf__n_estimators=112;, score=0.694 total time=  57.5s\n",
      "[CV 5/5] END rf__max_depth=7, rf__n_estimators=112;, score=0.688 total time=  58.0s\n",
      "[CV 1/5] END rf__max_depth=7, rf__n_estimators=116;, score=0.692 total time=  58.8s\n",
      "[CV 2/5] END rf__max_depth=7, rf__n_estimators=116;, score=0.689 total time=  59.4s\n",
      "[CV 3/5] END rf__max_depth=7, rf__n_estimators=116;, score=0.691 total time=  58.1s\n",
      "[CV 4/5] END rf__max_depth=7, rf__n_estimators=116;, score=0.696 total time=  58.6s\n",
      "[CV 5/5] END rf__max_depth=7, rf__n_estimators=116;, score=0.686 total time=  58.6s\n",
      "[CV 1/5] END rf__max_depth=7, rf__n_estimators=120;, score=0.695 total time= 1.0min\n",
      "[CV 2/5] END rf__max_depth=7, rf__n_estimators=120;, score=0.692 total time= 1.0min\n",
      "[CV 3/5] END rf__max_depth=7, rf__n_estimators=120;, score=0.696 total time= 1.0min\n",
      "[CV 4/5] END rf__max_depth=7, rf__n_estimators=120;, score=0.693 total time= 1.0min\n",
      "[CV 5/5] END rf__max_depth=7, rf__n_estimators=120;, score=0.687 total time=  59.1s\n",
      "[CV 1/5] END rf__max_depth=7, rf__n_estimators=124;, score=0.696 total time=  59.8s\n",
      "[CV 2/5] END rf__max_depth=7, rf__n_estimators=124;, score=0.697 total time=  56.3s\n",
      "[CV 3/5] END rf__max_depth=7, rf__n_estimators=124;, score=0.693 total time=  55.3s\n",
      "[CV 4/5] END rf__max_depth=7, rf__n_estimators=124;, score=0.689 total time=  53.0s\n",
      "[CV 5/5] END rf__max_depth=7, rf__n_estimators=124;, score=0.689 total time=  48.3s\n"
     ]
    },
    {
     "data": {
      "text/html": [
       "<style>#sk-container-id-1 {color: black;background-color: white;}#sk-container-id-1 pre{padding: 0;}#sk-container-id-1 div.sk-toggleable {background-color: white;}#sk-container-id-1 label.sk-toggleable__label {cursor: pointer;display: block;width: 100%;margin-bottom: 0;padding: 0.3em;box-sizing: border-box;text-align: center;}#sk-container-id-1 label.sk-toggleable__label-arrow:before {content: \"▸\";float: left;margin-right: 0.25em;color: #696969;}#sk-container-id-1 label.sk-toggleable__label-arrow:hover:before {color: black;}#sk-container-id-1 div.sk-estimator:hover label.sk-toggleable__label-arrow:before {color: black;}#sk-container-id-1 div.sk-toggleable__content {max-height: 0;max-width: 0;overflow: hidden;text-align: left;background-color: #f0f8ff;}#sk-container-id-1 div.sk-toggleable__content pre {margin: 0.2em;color: black;border-radius: 0.25em;background-color: #f0f8ff;}#sk-container-id-1 input.sk-toggleable__control:checked~div.sk-toggleable__content {max-height: 200px;max-width: 100%;overflow: auto;}#sk-container-id-1 input.sk-toggleable__control:checked~label.sk-toggleable__label-arrow:before {content: \"▾\";}#sk-container-id-1 div.sk-estimator input.sk-toggleable__control:checked~label.sk-toggleable__label {background-color: #d4ebff;}#sk-container-id-1 div.sk-label input.sk-toggleable__control:checked~label.sk-toggleable__label {background-color: #d4ebff;}#sk-container-id-1 input.sk-hidden--visually {border: 0;clip: rect(1px 1px 1px 1px);clip: rect(1px, 1px, 1px, 1px);height: 1px;margin: -1px;overflow: hidden;padding: 0;position: absolute;width: 1px;}#sk-container-id-1 div.sk-estimator {font-family: monospace;background-color: #f0f8ff;border: 1px dotted black;border-radius: 0.25em;box-sizing: border-box;margin-bottom: 0.5em;}#sk-container-id-1 div.sk-estimator:hover {background-color: #d4ebff;}#sk-container-id-1 div.sk-parallel-item::after {content: \"\";width: 100%;border-bottom: 1px solid gray;flex-grow: 1;}#sk-container-id-1 div.sk-label:hover label.sk-toggleable__label {background-color: #d4ebff;}#sk-container-id-1 div.sk-serial::before {content: \"\";position: absolute;border-left: 1px solid gray;box-sizing: border-box;top: 0;bottom: 0;left: 50%;z-index: 0;}#sk-container-id-1 div.sk-serial {display: flex;flex-direction: column;align-items: center;background-color: white;padding-right: 0.2em;padding-left: 0.2em;position: relative;}#sk-container-id-1 div.sk-item {position: relative;z-index: 1;}#sk-container-id-1 div.sk-parallel {display: flex;align-items: stretch;justify-content: center;background-color: white;position: relative;}#sk-container-id-1 div.sk-item::before, #sk-container-id-1 div.sk-parallel-item::before {content: \"\";position: absolute;border-left: 1px solid gray;box-sizing: border-box;top: 0;bottom: 0;left: 50%;z-index: -1;}#sk-container-id-1 div.sk-parallel-item {display: flex;flex-direction: column;z-index: 1;position: relative;background-color: white;}#sk-container-id-1 div.sk-parallel-item:first-child::after {align-self: flex-end;width: 50%;}#sk-container-id-1 div.sk-parallel-item:last-child::after {align-self: flex-start;width: 50%;}#sk-container-id-1 div.sk-parallel-item:only-child::after {width: 0;}#sk-container-id-1 div.sk-dashed-wrapped {border: 1px dashed gray;margin: 0 0.4em 0.5em 0.4em;box-sizing: border-box;padding-bottom: 0.4em;background-color: white;}#sk-container-id-1 div.sk-label label {font-family: monospace;font-weight: bold;display: inline-block;line-height: 1.2em;}#sk-container-id-1 div.sk-label-container {text-align: center;}#sk-container-id-1 div.sk-container {/* jupyter's `normalize.less` sets `[hidden] { display: none; }` but bootstrap.min.css set `[hidden] { display: none !important; }` so we also need the `!important` here to be able to override the default hidden behavior on the sphinx rendered scikit-learn.org. See: https://github.com/scikit-learn/scikit-learn/issues/21755 */display: inline-block !important;position: relative;}#sk-container-id-1 div.sk-text-repr-fallback {display: none;}</style><div id=\"sk-container-id-1\" class=\"sk-top-container\"><div class=\"sk-text-repr-fallback\"><pre>GridSearchCV(cv=5, estimator=Pipeline(steps=[(&#x27;rf&#x27;, RandomForestClassifier())]),\n",
       "             n_jobs=-1,\n",
       "             param_grid={&#x27;rf__max_depth&#x27;: range(3, 9, 2),\n",
       "                         &#x27;rf__n_estimators&#x27;: range(32, 128, 4)},\n",
       "             verbose=4)</pre><b>In a Jupyter environment, please rerun this cell to show the HTML representation or trust the notebook. <br />On GitHub, the HTML representation is unable to render, please try loading this page with nbviewer.org.</b></div><div class=\"sk-container\" hidden><div class=\"sk-item sk-dashed-wrapped\"><div class=\"sk-label-container\"><div class=\"sk-label sk-toggleable\"><input class=\"sk-toggleable__control sk-hidden--visually\" id=\"sk-estimator-id-1\" type=\"checkbox\" ><label for=\"sk-estimator-id-1\" class=\"sk-toggleable__label sk-toggleable__label-arrow\">GridSearchCV</label><div class=\"sk-toggleable__content\"><pre>GridSearchCV(cv=5, estimator=Pipeline(steps=[(&#x27;rf&#x27;, RandomForestClassifier())]),\n",
       "             n_jobs=-1,\n",
       "             param_grid={&#x27;rf__max_depth&#x27;: range(3, 9, 2),\n",
       "                         &#x27;rf__n_estimators&#x27;: range(32, 128, 4)},\n",
       "             verbose=4)</pre></div></div></div><div class=\"sk-parallel\"><div class=\"sk-parallel-item\"><div class=\"sk-item\"><div class=\"sk-label-container\"><div class=\"sk-label sk-toggleable\"><input class=\"sk-toggleable__control sk-hidden--visually\" id=\"sk-estimator-id-2\" type=\"checkbox\" ><label for=\"sk-estimator-id-2\" class=\"sk-toggleable__label sk-toggleable__label-arrow\">estimator: Pipeline</label><div class=\"sk-toggleable__content\"><pre>Pipeline(steps=[(&#x27;rf&#x27;, RandomForestClassifier())])</pre></div></div></div><div class=\"sk-serial\"><div class=\"sk-item\"><div class=\"sk-serial\"><div class=\"sk-item\"><div class=\"sk-estimator sk-toggleable\"><input class=\"sk-toggleable__control sk-hidden--visually\" id=\"sk-estimator-id-3\" type=\"checkbox\" ><label for=\"sk-estimator-id-3\" class=\"sk-toggleable__label sk-toggleable__label-arrow\">RandomForestClassifier</label><div class=\"sk-toggleable__content\"><pre>RandomForestClassifier()</pre></div></div></div></div></div></div></div></div></div></div></div></div>"
      ],
      "text/plain": [
       "GridSearchCV(cv=5, estimator=Pipeline(steps=[('rf', RandomForestClassifier())]),\n",
       "             n_jobs=-1,\n",
       "             param_grid={'rf__max_depth': range(3, 9, 2),\n",
       "                         'rf__n_estimators': range(32, 128, 4)},\n",
       "             verbose=4)"
      ]
     },
     "execution_count": 36,
     "metadata": {},
     "output_type": "execute_result"
    }
   ],
   "source": [
    "# import grid search and pipeline\n",
    "from sklearn.model_selection import GridSearchCV\n",
    "from sklearn.pipeline import Pipeline\n",
    "\n",
    "# estimator\n",
    "estimator = Pipeline([\n",
    "    ('rf', RandomForestClassifier())\n",
    "])\n",
    "\n",
    "# parameters\n",
    "params = {\n",
    "    'rf__n_estimators': range(32, 128, 4),\n",
    "    'rf__max_depth': range(3, 9, 2)\n",
    "}\n",
    "\n",
    "# grid search\n",
    "grid = GridSearchCV(estimator, param_grid=params, cv=5, n_jobs=-1, verbose=4)\n",
    "grid.fit(X_rem, y_rem)"
   ]
  },
  {
   "cell_type": "code",
   "execution_count": 37,
   "metadata": {
    "scrolled": true,
    "tags": []
   },
   "outputs": [
    {
     "data": {
      "text/plain": [
       "{'rf__max_depth': 7, 'rf__n_estimators': 100}"
      ]
     },
     "execution_count": 37,
     "metadata": {},
     "output_type": "execute_result"
    }
   ],
   "source": [
    "# best parameters\n",
    "grid.best_params_"
   ]
  },
  {
   "cell_type": "markdown",
   "metadata": {},
   "source": [
    "### Fit Best Parameters"
   ]
  },
  {
   "cell_type": "code",
   "execution_count": 38,
   "metadata": {
    "tags": []
   },
   "outputs": [
    {
     "name": "stdout",
     "output_type": "stream",
     "text": [
      "The train accuracy is: 0.6990498992108866\n",
      "The Validation accuracy is: 0.6948598082618701\n"
     ]
    }
   ],
   "source": [
    "# Instantiate and fit Random Forest on scaled data\n",
    "rf = RandomForestClassifier(n_estimators=100, max_depth=7)\n",
    "rf.fit(X_train_ss, y_train)\n",
    "\n",
    "# Evaluate the model\n",
    "print(f'The train accuracy is: {rf.score(X_train_ss, y_train)}')\n",
    "print(f'The Validation accuracy is: {rf.score(X_val_ss, y_val)}')"
   ]
  },
  {
   "cell_type": "markdown",
   "metadata": {},
   "source": [
    "### Evaluate"
   ]
  },
  {
   "cell_type": "markdown",
   "metadata": {},
   "source": [
    "#### Confusion Matrix"
   ]
  },
  {
   "cell_type": "code",
   "execution_count": 39,
   "metadata": {
    "tags": []
   },
   "outputs": [
    {
     "name": "stdout",
     "output_type": "stream",
     "text": [
      "              precision    recall  f1-score   support\n",
      "\n",
      "         0.0       0.83      0.61      0.71     58075\n",
      "         1.0       0.59      0.82      0.68     38828\n",
      "\n",
      "    accuracy                           0.69     96903\n",
      "   macro avg       0.71      0.72      0.69     96903\n",
      "weighted avg       0.73      0.69      0.70     96903\n",
      "\n"
     ]
    }
   ],
   "source": [
    "# classification report\n",
    "print(classification_report(y_val, rf.predict(X_val_ss)))"
   ]
  },
  {
   "cell_type": "code",
   "execution_count": 40,
   "metadata": {
    "tags": []
   },
   "outputs": [
    {
     "data": {
      "image/png": "[encoded data removed]",
      "text/plain": [
       "<Figure size 640x480 with 2 Axes>"
      ]
     },
     "metadata": {},
     "output_type": "display_data"
    }
   ],
   "source": [
    "# confusion matrix\n",
    "sns.heatmap(confusion_matrix(y_val, rf.predict(X_val_ss)), annot=True, fmt='d', cmap='Blues')\n",
    "plt.title('Confusion Matrix')\n",
    "plt.xlabel('Predicted')\n",
    "plt.ylabel('Actual')\n",
    "plt.show()"
   ]
  },
  {
   "cell_type": "markdown",
   "metadata": {},
   "source": [
    "## XG Boost"
   ]
  },
  {
   "cell_type": "markdown",
   "metadata": {},
   "source": [
    "### Model"
   ]
  },
  {
   "cell_type": "code",
   "execution_count": 41,
   "metadata": {
    "tags": []
   },
   "outputs": [
    {
     "name": "stdout",
     "output_type": "stream",
     "text": [
      "Requirement already satisfied: XGBoost in /Users/devenpatel/opt/anaconda3/envs/capstone/lib/python3.10/site-packages (1.5.0)\n",
      "Requirement already satisfied: numpy in /Users/devenpatel/opt/anaconda3/envs/capstone/lib/python3.10/site-packages (from XGBoost) (1.23.5)\n",
      "Requirement already satisfied: scipy in /Users/devenpatel/opt/anaconda3/envs/capstone/lib/python3.10/site-packages (from XGBoost) (1.10.0)\n",
      "Note: you may need to restart the kernel to use updated packages.\n"
     ]
    }
   ],
   "source": [
    "%pip install XGBoost"
   ]
  },
  {
   "cell_type": "code",
   "execution_count": 42,
   "metadata": {
    "tags": []
   },
   "outputs": [
    {
     "name": "stderr",
     "output_type": "stream",
     "text": [
      "/Users/devenpatel/opt/anaconda3/envs/capstone/lib/python3.10/site-packages/xgboost/compat.py:36: FutureWarning: pandas.Int64Index is deprecated and will be removed from pandas in a future version. Use pandas.Index with the appropriate dtype instead.\n",
      "  from pandas import MultiIndex, Int64Index\n",
      "/Users/devenpatel/opt/anaconda3/envs/capstone/lib/python3.10/site-packages/xgboost/sklearn.py:1224: UserWarning: The use of label encoder in XGBClassifier is deprecated and will be removed in a future release. To remove this warning, do the following: 1) Pass option use_label_encoder=False when constructing XGBClassifier object; and 2) Encode your labels (y) as integers starting with 0, i.e. 0, 1, 2, ..., [num_class - 1].\n",
      "  warnings.warn(label_encoder_deprecation_msg, UserWarning)\n"
     ]
    },
    {
     "name": "stdout",
     "output_type": "stream",
     "text": [
      "[16:29:14] WARNING: ../src/learner.cc:1115: Starting in XGBoost 1.3.0, the default evaluation metric used with the objective 'binary:logistic' was changed from 'error' to 'logloss'. Explicitly set eval_metric if you'd like to restore the old behavior.\n",
      "The train accuracy is: 0.7571532751302003\n",
      "The Validation accuracy is: 0.7259527568805919\n"
     ]
    }
   ],
   "source": [
    "# import xgboost\n",
    "from xgboost import XGBClassifier\n",
    "\n",
    "# Instantiate and fit XGBoost on scaled data\n",
    "xgb = XGBClassifier()\n",
    "xgb.fit(X_train_ss, y_train)\n",
    "\n",
    "# Evaluate the model\n",
    "print(f'The train accuracy is: {xgb.score(X_train_ss, y_train)}')\n",
    "print(f'The Validation accuracy is: {xgb.score(X_val_ss, y_val)}')"
   ]
  },
  {
   "cell_type": "markdown",
   "metadata": {},
   "source": [
    "### Evaluate"
   ]
  },
  {
   "cell_type": "markdown",
   "metadata": {},
   "source": [
    "#### Confusion Matrix"
   ]
  },
  {
   "cell_type": "code",
   "execution_count": 43,
   "metadata": {
    "tags": []
   },
   "outputs": [
    {
     "name": "stdout",
     "output_type": "stream",
     "text": [
      "              precision    recall  f1-score   support\n",
      "\n",
      "         0.0       0.86      0.65      0.74     58075\n",
      "         1.0       0.62      0.83      0.71     38828\n",
      "\n",
      "    accuracy                           0.73     96903\n",
      "   macro avg       0.74      0.74      0.73     96903\n",
      "weighted avg       0.76      0.73      0.73     96903\n",
      "\n"
     ]
    }
   ],
   "source": [
    "# classification report\n",
    "print(classification_report(y_val, xgb.predict(X_val_ss)))"
   ]
  },
  {
   "cell_type": "code",
   "execution_count": 44,
   "metadata": {
    "tags": []
   },
   "outputs": [
    {
     "data": {
      "image/png": "[encoded data removed]",
      "text/plain": [
       "<Figure size 640x480 with 2 Axes>"
      ]
     },
     "metadata": {},
     "output_type": "display_data"
    }
   ],
   "source": [
    "# confusion matrix\n",
    "sns.heatmap(confusion_matrix(y_val, xgb.predict(X_val_ss)), annot=True, fmt='d', cmap='Blues')\n",
    "plt.title('Confusion Matrix')\n",
    "plt.xlabel('Predicted')\n",
    "plt.ylabel('Actual')\n",
    "plt.show()"
   ]
  },
  {
   "cell_type": "markdown",
   "metadata": {},
   "source": [
    "### Gridsearch"
   ]
  },
  {
   "cell_type": "code",
   "execution_count": null,
   "metadata": {},
   "outputs": [],
   "source": [
    "# estimator\n",
    "estimator = Pipeline([\n",
    "    ('xgb', XGBClassifier())\n",
    "])\n",
    "\n",
    "# parameters\n",
    "params = {\n",
    "    'xgb__booster': ['gbtree','dart'],\n",
    "    'xgb__learning_rate':[0.05, 0.1, 0.3],\n",
    "    'xgb__n_estimators': [50,100],\n",
    "    'xgb__gamma':[0, 0.1, 0.2],\n",
    "    'xgb__subsample': [0.5, 0.7, 0.9]\n",
    "}\n",
    "\n",
    "# grid search\n",
    "grid = GridSearchCV(estimator, param_grid=params, cv=5, n_jobs=-1, verbose=4)\n",
    "grid.fit(X_rem, y_rem)"
   ]
  }
 ],
 "metadata": {
  "kernelspec": {
   "display_name": "capstone",
   "language": "python",
   "name": "python3"
  },
  "language_info": {
   "codemirror_mode": {
    "name": "ipython",
    "version": 3
   },
   "file_extension": ".py",
   "mimetype": "text/x-python",
   "name": "python",
   "nbconvert_exporter": "python",
   "pygments_lexer": "ipython3",
   "version": "3.10.9"
  }
 },
 "nbformat": 4,
 "nbformat_minor": 4
}
