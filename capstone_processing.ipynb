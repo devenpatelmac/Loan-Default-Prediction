{
 "cells": [
  {
   "attachments": {},
   "cell_type": "markdown",
   "metadata": {},
   "source": [
    "# Processing Data for Modeling"
   ]
  },
  {
   "attachments": {},
   "cell_type": "markdown",
   "metadata": {},
   "source": [
    "## Notebook Intro\n",
    "\n",
    "This is the second notebook in a total of 3.\n",
    "\n",
    "In this notebook we will be:\n",
    "1. Processing all Categorical Columns into Numeric\n",
    "2. Removing Highly Correlated Columns "
   ]
  },
  {
   "cell_type": "markdown",
   "metadata": {},
   "source": [
    "Get most important features and get rid of highly correlated columns"
   ]
  },
  {
   "attachments": {},
   "cell_type": "markdown",
   "metadata": {},
   "source": [
    "### General Imports"
   ]
  },
  {
   "cell_type": "code",
   "execution_count": 1,
   "metadata": {},
   "outputs": [],
   "source": [
    "import numpy as np\n",
    "import pandas as pd\n",
    "from scipy import stats\n",
    "import seaborn as sns\n",
    "import matplotlib.pyplot as plt\n",
    "%matplotlib inline\n",
    "\n",
    "import warnings\n",
    "warnings.filterwarnings(\"ignore\")"
   ]
  },
  {
   "attachments": {},
   "cell_type": "markdown",
   "metadata": {},
   "source": [
    "## Load Data"
   ]
  },
  {
   "attachments": {},
   "cell_type": "markdown",
   "metadata": {},
   "source": [
    "Let's load in our previously cleaned data:"
   ]
  },
  {
   "cell_type": "code",
   "execution_count": 2,
   "metadata": {},
   "outputs": [],
   "source": [
    "# read in non-null data\n",
    "accepted_nonull = pd.read_csv('accepted_nonull.csv')"
   ]
  },
  {
   "attachments": {},
   "cell_type": "markdown",
   "metadata": {},
   "source": [
    "## Quick Sanity Checks"
   ]
  },
  {
   "attachments": {},
   "cell_type": "markdown",
   "metadata": {},
   "source": [
    "Before we start processing our columns, lets check the shape of the data and make sure that we still have 0 NULL values."
   ]
  },
  {
   "cell_type": "code",
   "execution_count": 3,
   "metadata": {},
   "outputs": [
    {
     "data": {
      "text/plain": [
       "(1972940, 68)"
      ]
     },
     "execution_count": 3,
     "metadata": {},
     "output_type": "execute_result"
    }
   ],
   "source": [
    "accepted_nonull.shape"
   ]
  },
  {
   "cell_type": "code",
   "execution_count": 4,
   "metadata": {},
   "outputs": [
    {
     "data": {
      "text/plain": [
       "0"
      ]
     },
     "execution_count": 4,
     "metadata": {},
     "output_type": "execute_result"
    }
   ],
   "source": [
    "accepted_nonull.isna().sum().sum()"
   ]
  },
  {
   "attachments": {},
   "cell_type": "markdown",
   "metadata": {},
   "source": [
    "Our file looks good and we can move onto processing. "
   ]
  },
  {
   "attachments": {},
   "cell_type": "markdown",
   "metadata": {},
   "source": [
    "## Processing the Categorical Columns"
   ]
  },
  {
   "attachments": {},
   "cell_type": "markdown",
   "metadata": {},
   "source": [
    "First, we are going to be splitting our data into Categorical and Numerical data frames."
   ]
  },
  {
   "cell_type": "code",
   "execution_count": 5,
   "metadata": {},
   "outputs": [],
   "source": [
    "categorical_df = accepted_nonull.select_dtypes('object').copy()\n",
    "numerical_df = accepted_nonull.select_dtypes('number').copy()"
   ]
  },
  {
   "cell_type": "code",
   "execution_count": 6,
   "metadata": {},
   "outputs": [
    {
     "name": "stdout",
     "output_type": "stream",
     "text": [
      "(1972940, 11)\n",
      "(1972940, 57)\n"
     ]
    }
   ],
   "source": [
    "print(categorical_df.shape)\n",
    "print(numerical_df.shape)"
   ]
  },
  {
   "attachments": {},
   "cell_type": "markdown",
   "metadata": {},
   "source": [
    "After the split, we have 11 categorical columns and 57 numerical columns. Let's take a look at the first 5 rows of each."
   ]
  },
  {
   "cell_type": "code",
   "execution_count": 7,
   "metadata": {},
   "outputs": [
    {
     "data": {
      "text/html": [
       "<div>\n",
       "<style scoped>\n",
       "    .dataframe tbody tr th:only-of-type {\n",
       "        vertical-align: middle;\n",
       "    }\n",
       "\n",
       "    .dataframe tbody tr th {\n",
       "        vertical-align: top;\n",
       "    }\n",
       "\n",
       "    .dataframe thead th {\n",
       "        text-align: right;\n",
       "    }\n",
       "</style>\n",
       "<table border=\"1\" class=\"dataframe\">\n",
       "  <thead>\n",
       "    <tr style=\"text-align: right;\">\n",
       "      <th></th>\n",
       "      <th>loan_amnt</th>\n",
       "      <th>int_rate</th>\n",
       "      <th>installment</th>\n",
       "      <th>annual_inc</th>\n",
       "      <th>dti</th>\n",
       "      <th>delinq_2yrs</th>\n",
       "      <th>fico_range_low</th>\n",
       "      <th>fico_range_high</th>\n",
       "      <th>inq_last_6mths</th>\n",
       "      <th>open_acc</th>\n",
       "      <th>...</th>\n",
       "      <th>num_tl_op_past_12m</th>\n",
       "      <th>pct_tl_nvr_dlq</th>\n",
       "      <th>percent_bc_gt_75</th>\n",
       "      <th>pub_rec_bankruptcies</th>\n",
       "      <th>tax_liens</th>\n",
       "      <th>tot_hi_cred_lim</th>\n",
       "      <th>total_bal_ex_mort</th>\n",
       "      <th>total_bc_limit</th>\n",
       "      <th>total_il_high_credit_limit</th>\n",
       "      <th>earliest_cr_years_ago</th>\n",
       "    </tr>\n",
       "  </thead>\n",
       "  <tbody>\n",
       "    <tr>\n",
       "      <th>0</th>\n",
       "      <td>3600.0</td>\n",
       "      <td>13.99</td>\n",
       "      <td>123.03</td>\n",
       "      <td>55000.0</td>\n",
       "      <td>5.91</td>\n",
       "      <td>0.0</td>\n",
       "      <td>675.0</td>\n",
       "      <td>679.0</td>\n",
       "      <td>1.0</td>\n",
       "      <td>7.0</td>\n",
       "      <td>...</td>\n",
       "      <td>3.0</td>\n",
       "      <td>76.9</td>\n",
       "      <td>0.0</td>\n",
       "      <td>0.0</td>\n",
       "      <td>0.0</td>\n",
       "      <td>178050.0</td>\n",
       "      <td>7746.0</td>\n",
       "      <td>2400.0</td>\n",
       "      <td>13734.0</td>\n",
       "      <td>12.0</td>\n",
       "    </tr>\n",
       "    <tr>\n",
       "      <th>1</th>\n",
       "      <td>24700.0</td>\n",
       "      <td>11.99</td>\n",
       "      <td>820.28</td>\n",
       "      <td>65000.0</td>\n",
       "      <td>16.06</td>\n",
       "      <td>1.0</td>\n",
       "      <td>715.0</td>\n",
       "      <td>719.0</td>\n",
       "      <td>4.0</td>\n",
       "      <td>22.0</td>\n",
       "      <td>...</td>\n",
       "      <td>2.0</td>\n",
       "      <td>97.4</td>\n",
       "      <td>7.7</td>\n",
       "      <td>0.0</td>\n",
       "      <td>0.0</td>\n",
       "      <td>314017.0</td>\n",
       "      <td>39475.0</td>\n",
       "      <td>79300.0</td>\n",
       "      <td>24667.0</td>\n",
       "      <td>16.0</td>\n",
       "    </tr>\n",
       "    <tr>\n",
       "      <th>2</th>\n",
       "      <td>20000.0</td>\n",
       "      <td>10.78</td>\n",
       "      <td>432.66</td>\n",
       "      <td>63000.0</td>\n",
       "      <td>10.78</td>\n",
       "      <td>0.0</td>\n",
       "      <td>695.0</td>\n",
       "      <td>699.0</td>\n",
       "      <td>0.0</td>\n",
       "      <td>6.0</td>\n",
       "      <td>...</td>\n",
       "      <td>0.0</td>\n",
       "      <td>100.0</td>\n",
       "      <td>50.0</td>\n",
       "      <td>0.0</td>\n",
       "      <td>0.0</td>\n",
       "      <td>218418.0</td>\n",
       "      <td>18696.0</td>\n",
       "      <td>6200.0</td>\n",
       "      <td>14877.0</td>\n",
       "      <td>15.0</td>\n",
       "    </tr>\n",
       "    <tr>\n",
       "      <th>3</th>\n",
       "      <td>35000.0</td>\n",
       "      <td>14.85</td>\n",
       "      <td>829.90</td>\n",
       "      <td>110000.0</td>\n",
       "      <td>17.06</td>\n",
       "      <td>0.0</td>\n",
       "      <td>785.0</td>\n",
       "      <td>789.0</td>\n",
       "      <td>0.0</td>\n",
       "      <td>13.0</td>\n",
       "      <td>...</td>\n",
       "      <td>1.0</td>\n",
       "      <td>100.0</td>\n",
       "      <td>0.0</td>\n",
       "      <td>0.0</td>\n",
       "      <td>0.0</td>\n",
       "      <td>381215.0</td>\n",
       "      <td>52226.0</td>\n",
       "      <td>62500.0</td>\n",
       "      <td>18000.0</td>\n",
       "      <td>7.0</td>\n",
       "    </tr>\n",
       "    <tr>\n",
       "      <th>4</th>\n",
       "      <td>10400.0</td>\n",
       "      <td>22.45</td>\n",
       "      <td>289.91</td>\n",
       "      <td>104433.0</td>\n",
       "      <td>25.37</td>\n",
       "      <td>1.0</td>\n",
       "      <td>695.0</td>\n",
       "      <td>699.0</td>\n",
       "      <td>3.0</td>\n",
       "      <td>12.0</td>\n",
       "      <td>...</td>\n",
       "      <td>4.0</td>\n",
       "      <td>96.6</td>\n",
       "      <td>60.0</td>\n",
       "      <td>0.0</td>\n",
       "      <td>0.0</td>\n",
       "      <td>439570.0</td>\n",
       "      <td>95768.0</td>\n",
       "      <td>20300.0</td>\n",
       "      <td>88097.0</td>\n",
       "      <td>17.0</td>\n",
       "    </tr>\n",
       "  </tbody>\n",
       "</table>\n",
       "<p>5 rows × 57 columns</p>\n",
       "</div>"
      ],
      "text/plain": [
       "   loan_amnt  int_rate  installment  annual_inc    dti  delinq_2yrs  \\\n",
       "0     3600.0     13.99       123.03     55000.0   5.91          0.0   \n",
       "1    24700.0     11.99       820.28     65000.0  16.06          1.0   \n",
       "2    20000.0     10.78       432.66     63000.0  10.78          0.0   \n",
       "3    35000.0     14.85       829.90    110000.0  17.06          0.0   \n",
       "4    10400.0     22.45       289.91    104433.0  25.37          1.0   \n",
       "\n",
       "   fico_range_low  fico_range_high  inq_last_6mths  open_acc  ...  \\\n",
       "0           675.0            679.0             1.0       7.0  ...   \n",
       "1           715.0            719.0             4.0      22.0  ...   \n",
       "2           695.0            699.0             0.0       6.0  ...   \n",
       "3           785.0            789.0             0.0      13.0  ...   \n",
       "4           695.0            699.0             3.0      12.0  ...   \n",
       "\n",
       "   num_tl_op_past_12m  pct_tl_nvr_dlq  percent_bc_gt_75  pub_rec_bankruptcies  \\\n",
       "0                 3.0            76.9               0.0                   0.0   \n",
       "1                 2.0            97.4               7.7                   0.0   \n",
       "2                 0.0           100.0              50.0                   0.0   \n",
       "3                 1.0           100.0               0.0                   0.0   \n",
       "4                 4.0            96.6              60.0                   0.0   \n",
       "\n",
       "   tax_liens  tot_hi_cred_lim  total_bal_ex_mort  total_bc_limit  \\\n",
       "0        0.0         178050.0             7746.0          2400.0   \n",
       "1        0.0         314017.0            39475.0         79300.0   \n",
       "2        0.0         218418.0            18696.0          6200.0   \n",
       "3        0.0         381215.0            52226.0         62500.0   \n",
       "4        0.0         439570.0            95768.0         20300.0   \n",
       "\n",
       "   total_il_high_credit_limit  earliest_cr_years_ago  \n",
       "0                     13734.0                   12.0  \n",
       "1                     24667.0                   16.0  \n",
       "2                     14877.0                   15.0  \n",
       "3                     18000.0                    7.0  \n",
       "4                     88097.0                   17.0  \n",
       "\n",
       "[5 rows x 57 columns]"
      ]
     },
     "execution_count": 7,
     "metadata": {},
     "output_type": "execute_result"
    }
   ],
   "source": [
    "numerical_df.head()"
   ]
  },
  {
   "cell_type": "code",
   "execution_count": 8,
   "metadata": {},
   "outputs": [
    {
     "data": {
      "text/html": [
       "<div>\n",
       "<style scoped>\n",
       "    .dataframe tbody tr th:only-of-type {\n",
       "        vertical-align: middle;\n",
       "    }\n",
       "\n",
       "    .dataframe tbody tr th {\n",
       "        vertical-align: top;\n",
       "    }\n",
       "\n",
       "    .dataframe thead th {\n",
       "        text-align: right;\n",
       "    }\n",
       "</style>\n",
       "<table border=\"1\" class=\"dataframe\">\n",
       "  <thead>\n",
       "    <tr style=\"text-align: right;\">\n",
       "      <th></th>\n",
       "      <th>term</th>\n",
       "      <th>grade</th>\n",
       "      <th>emp_length</th>\n",
       "      <th>home_ownership</th>\n",
       "      <th>verification_status</th>\n",
       "      <th>loan_status</th>\n",
       "      <th>purpose</th>\n",
       "      <th>addr_state</th>\n",
       "      <th>initial_list_status</th>\n",
       "      <th>application_type</th>\n",
       "      <th>disbursement_method</th>\n",
       "    </tr>\n",
       "  </thead>\n",
       "  <tbody>\n",
       "    <tr>\n",
       "      <th>0</th>\n",
       "      <td>36 months</td>\n",
       "      <td>C</td>\n",
       "      <td>10+ years</td>\n",
       "      <td>MORTGAGE</td>\n",
       "      <td>Not Verified</td>\n",
       "      <td>Paid</td>\n",
       "      <td>debt_consolidation</td>\n",
       "      <td>PA</td>\n",
       "      <td>w</td>\n",
       "      <td>Individual</td>\n",
       "      <td>Cash</td>\n",
       "    </tr>\n",
       "    <tr>\n",
       "      <th>1</th>\n",
       "      <td>36 months</td>\n",
       "      <td>C</td>\n",
       "      <td>10+ years</td>\n",
       "      <td>MORTGAGE</td>\n",
       "      <td>Not Verified</td>\n",
       "      <td>Paid</td>\n",
       "      <td>small_business</td>\n",
       "      <td>SD</td>\n",
       "      <td>w</td>\n",
       "      <td>Individual</td>\n",
       "      <td>Cash</td>\n",
       "    </tr>\n",
       "    <tr>\n",
       "      <th>2</th>\n",
       "      <td>60 months</td>\n",
       "      <td>B</td>\n",
       "      <td>10+ years</td>\n",
       "      <td>MORTGAGE</td>\n",
       "      <td>Not Verified</td>\n",
       "      <td>Paid</td>\n",
       "      <td>home_improvement</td>\n",
       "      <td>IL</td>\n",
       "      <td>w</td>\n",
       "      <td>Joint App</td>\n",
       "      <td>Cash</td>\n",
       "    </tr>\n",
       "    <tr>\n",
       "      <th>3</th>\n",
       "      <td>60 months</td>\n",
       "      <td>C</td>\n",
       "      <td>10+ years</td>\n",
       "      <td>MORTGAGE</td>\n",
       "      <td>Source Verified</td>\n",
       "      <td>Paid</td>\n",
       "      <td>debt_consolidation</td>\n",
       "      <td>NJ</td>\n",
       "      <td>w</td>\n",
       "      <td>Individual</td>\n",
       "      <td>Cash</td>\n",
       "    </tr>\n",
       "    <tr>\n",
       "      <th>4</th>\n",
       "      <td>60 months</td>\n",
       "      <td>F</td>\n",
       "      <td>3 years</td>\n",
       "      <td>MORTGAGE</td>\n",
       "      <td>Source Verified</td>\n",
       "      <td>Paid</td>\n",
       "      <td>major_purchase</td>\n",
       "      <td>PA</td>\n",
       "      <td>w</td>\n",
       "      <td>Individual</td>\n",
       "      <td>Cash</td>\n",
       "    </tr>\n",
       "  </tbody>\n",
       "</table>\n",
       "</div>"
      ],
      "text/plain": [
       "         term grade emp_length home_ownership verification_status loan_status  \\\n",
       "0   36 months     C  10+ years       MORTGAGE        Not Verified        Paid   \n",
       "1   36 months     C  10+ years       MORTGAGE        Not Verified        Paid   \n",
       "2   60 months     B  10+ years       MORTGAGE        Not Verified        Paid   \n",
       "3   60 months     C  10+ years       MORTGAGE     Source Verified        Paid   \n",
       "4   60 months     F    3 years       MORTGAGE     Source Verified        Paid   \n",
       "\n",
       "              purpose addr_state initial_list_status application_type  \\\n",
       "0  debt_consolidation         PA                   w       Individual   \n",
       "1      small_business         SD                   w       Individual   \n",
       "2    home_improvement         IL                   w        Joint App   \n",
       "3  debt_consolidation         NJ                   w       Individual   \n",
       "4      major_purchase         PA                   w       Individual   \n",
       "\n",
       "  disbursement_method  \n",
       "0                Cash  \n",
       "1                Cash  \n",
       "2                Cash  \n",
       "3                Cash  \n",
       "4                Cash  "
      ]
     },
     "execution_count": 8,
     "metadata": {},
     "output_type": "execute_result"
    }
   ],
   "source": [
    "categorical_df.head()"
   ]
  },
  {
   "cell_type": "markdown",
   "metadata": {},
   "source": [
    "### Term"
   ]
  },
  {
   "cell_type": "markdown",
   "metadata": {},
   "source": [
    "*Data Dictionary*\n",
    "- term: The number of payments on the loan. Values are in months and can be either 36 or 60."
   ]
  },
  {
   "attachments": {},
   "cell_type": "markdown",
   "metadata": {},
   "source": [
    "The first column we are going to look at is `term`. At first glance, this columns looks to be numeric and we just have to remove the word \"months\". Let's take a look at the values in this column."
   ]
  },
  {
   "cell_type": "code",
   "execution_count": 9,
   "metadata": {},
   "outputs": [
    {
     "data": {
      "text/plain": [
       " 36 months    1391794\n",
       " 60 months     581146\n",
       "Name: term, dtype: int64"
      ]
     },
     "execution_count": 9,
     "metadata": {},
     "output_type": "execute_result"
    }
   ],
   "source": [
    "categorical_df['term'].value_counts()"
   ]
  },
  {
   "attachments": {},
   "cell_type": "markdown",
   "metadata": {},
   "source": [
    "We only have two values, 36 and 60 months. We are going to split the column by the white space, and then extract the number. Once we extract the number we can convert the column to an integer."
   ]
  },
  {
   "cell_type": "code",
   "execution_count": 10,
   "metadata": {},
   "outputs": [
    {
     "data": {
      "text/plain": [
       "36    1391794\n",
       "60     581146\n",
       "Name: term, dtype: int64"
      ]
     },
     "execution_count": 10,
     "metadata": {},
     "output_type": "execute_result"
    }
   ],
   "source": [
    "# split term column by space\n",
    "categorical_df['term'] = categorical_df['term'].str.split(' ').str[1]\n",
    "\n",
    "# convert term column to int\n",
    "categorical_df['term'] = categorical_df['term'].astype(int)\n",
    "\n",
    "# get new value counts\n",
    "categorical_df['term'].value_counts()"
   ]
  },
  {
   "attachments": {},
   "cell_type": "markdown",
   "metadata": {},
   "source": [
    "Now that the column is processed, we can drop it from our categorical data frame and add it to our numerical data frame."
   ]
  },
  {
   "cell_type": "code",
   "execution_count": 11,
   "metadata": {},
   "outputs": [],
   "source": [
    "# drop term from categorical_df and add to numerical_df\n",
    "numerical_df['term'] = categorical_df['term']\n",
    "categorical_df = categorical_df.drop(columns='term')"
   ]
  },
  {
   "cell_type": "markdown",
   "metadata": {},
   "source": [
    "### Grade"
   ]
  },
  {
   "attachments": {},
   "cell_type": "markdown",
   "metadata": {},
   "source": [
    "The next column we are going to look at is `grade`."
   ]
  },
  {
   "cell_type": "markdown",
   "metadata": {},
   "source": [
    "*Data Dictionary*\n",
    "- grade: LC assigned loan grade"
   ]
  },
  {
   "attachments": {},
   "cell_type": "markdown",
   "metadata": {},
   "source": [
    "Let's take a look at the values in this feature:"
   ]
  },
  {
   "cell_type": "code",
   "execution_count": 12,
   "metadata": {},
   "outputs": [
    {
     "data": {
      "text/plain": [
       "B    581431\n",
       "C    570566\n",
       "A    380318\n",
       "D    278494\n",
       "E    116184\n",
       "F     35718\n",
       "G     10229\n",
       "Name: grade, dtype: int64"
      ]
     },
     "execution_count": 12,
     "metadata": {},
     "output_type": "execute_result"
    }
   ],
   "source": [
    "categorical_df['grade'].value_counts()"
   ]
  },
  {
   "attachments": {},
   "cell_type": "markdown",
   "metadata": {},
   "source": [
    "As mentioned in the previous notebook, the grade of a loan determines the expected risk of loss, with \"A\" being the least risky to \"G\" being the most risky. We can ordinal encode `grade` to show that \"G\" is more valuable than \"A\"."
   ]
  },
  {
   "cell_type": "code",
   "execution_count": 13,
   "metadata": {},
   "outputs": [
    {
     "data": {
      "text/plain": [
       "1.0    581431\n",
       "2.0    570566\n",
       "0.0    380318\n",
       "3.0    278494\n",
       "4.0    116184\n",
       "5.0     35718\n",
       "6.0     10229\n",
       "Name: grade, dtype: int64"
      ]
     },
     "execution_count": 13,
     "metadata": {},
     "output_type": "execute_result"
    }
   ],
   "source": [
    "# import ordinal encoder\n",
    "from sklearn.preprocessing import OrdinalEncoder\n",
    "\n",
    "# ordinal encode grade column\n",
    "ordinal_encoder = OrdinalEncoder()\n",
    "categorical_df['grade'] = ordinal_encoder.fit_transform(categorical_df[['grade']])\n",
    "\n",
    "# get new value counts\n",
    "categorical_df['grade'].value_counts()\n"
   ]
  },
  {
   "cell_type": "markdown",
   "metadata": {},
   "source": [
    "Now that the column is processed, we can drop it from our categorical data frame and add it to our numerical data frame."
   ]
  },
  {
   "cell_type": "code",
   "execution_count": 14,
   "metadata": {},
   "outputs": [],
   "source": [
    "# drop grade from categorical_df and add to numerical_df\n",
    "numerical_df['grade'] = categorical_df['grade']\n",
    "categorical_df = categorical_df.drop(columns='grade')"
   ]
  },
  {
   "cell_type": "markdown",
   "metadata": {},
   "source": [
    "### Emp Length"
   ]
  },
  {
   "attachments": {},
   "cell_type": "markdown",
   "metadata": {},
   "source": [
    "Next, we can look at `emp_length`."
   ]
  },
  {
   "cell_type": "markdown",
   "metadata": {},
   "source": [
    "*Data Dictionary*\n",
    "- emp_length: number of years employed"
   ]
  },
  {
   "attachments": {},
   "cell_type": "markdown",
   "metadata": {},
   "source": [
    "Let's look at the values in this feature:"
   ]
  },
  {
   "cell_type": "code",
   "execution_count": 15,
   "metadata": {},
   "outputs": [
    {
     "data": {
      "text/plain": [
       "10+ years    708618\n",
       "2 years      190687\n",
       "3 years      169081\n",
       "< 1 year     165896\n",
       "1 year       138711\n",
       "5 years      129444\n",
       "4 years      126686\n",
       "6 years       95388\n",
       "7 years       86744\n",
       "8 years       86644\n",
       "9 years       75041\n",
       "Name: emp_length, dtype: int64"
      ]
     },
     "execution_count": 15,
     "metadata": {},
     "output_type": "execute_result"
    }
   ],
   "source": [
    "categorical_df['emp_length'].value_counts()"
   ]
  },
  {
   "attachments": {},
   "cell_type": "markdown",
   "metadata": {},
   "source": [
    "To convert this column into a numerical value, we are going to map the current values to numbers and convert to numeric. "
   ]
  },
  {
   "cell_type": "code",
   "execution_count": 16,
   "metadata": {},
   "outputs": [
    {
     "data": {
      "text/plain": [
       "10    708618\n",
       "2     190687\n",
       "3     169081\n",
       "0     165896\n",
       "1     138711\n",
       "5     129444\n",
       "4     126686\n",
       "6      95388\n",
       "7      86744\n",
       "8      86644\n",
       "9      75041\n",
       "Name: emp_length, dtype: int64"
      ]
     },
     "execution_count": 16,
     "metadata": {},
     "output_type": "execute_result"
    }
   ],
   "source": [
    "# emp_length mapper\n",
    "emp_length_mapper = {'< 1 year': 0, '1 year': 1, \n",
    "                     '2 years': 2, '3 years': 3, \n",
    "                     '4 years': 4, '5 years': 5, \n",
    "                     '6 years': 6, '7 years': 7, \n",
    "                     '8 years': 8, '9 years': 9, \n",
    "                     '10+ years': 10}\n",
    "\n",
    "# apply mapper to emp_length column\n",
    "categorical_df['emp_length'] = categorical_df['emp_length'].map(emp_length_mapper)\n",
    "\n",
    "# value counts \n",
    "categorical_df['emp_length'].value_counts()"
   ]
  },
  {
   "cell_type": "code",
   "execution_count": 17,
   "metadata": {},
   "outputs": [],
   "source": [
    "# convert emp_length to int\n",
    "categorical_df['emp_length'] = categorical_df['emp_length'].astype(int)"
   ]
  },
  {
   "cell_type": "markdown",
   "metadata": {},
   "source": [
    "Now that the column is processed, we can drop it from our categorical data frame and add it to our numerical data frame."
   ]
  },
  {
   "cell_type": "code",
   "execution_count": 18,
   "metadata": {},
   "outputs": [],
   "source": [
    "# drop emp_length from categorical_df and add to numerical_df\n",
    "numerical_df['emp_length'] = categorical_df['emp_length']\n",
    "categorical_df = categorical_df.drop(columns='emp_length')"
   ]
  },
  {
   "attachments": {},
   "cell_type": "markdown",
   "metadata": {},
   "source": [
    "Let's see what we have left:"
   ]
  },
  {
   "cell_type": "code",
   "execution_count": 19,
   "metadata": {},
   "outputs": [
    {
     "data": {
      "text/html": [
       "<div>\n",
       "<style scoped>\n",
       "    .dataframe tbody tr th:only-of-type {\n",
       "        vertical-align: middle;\n",
       "    }\n",
       "\n",
       "    .dataframe tbody tr th {\n",
       "        vertical-align: top;\n",
       "    }\n",
       "\n",
       "    .dataframe thead th {\n",
       "        text-align: right;\n",
       "    }\n",
       "</style>\n",
       "<table border=\"1\" class=\"dataframe\">\n",
       "  <thead>\n",
       "    <tr style=\"text-align: right;\">\n",
       "      <th></th>\n",
       "      <th>home_ownership</th>\n",
       "      <th>verification_status</th>\n",
       "      <th>loan_status</th>\n",
       "      <th>purpose</th>\n",
       "      <th>addr_state</th>\n",
       "      <th>initial_list_status</th>\n",
       "      <th>application_type</th>\n",
       "      <th>disbursement_method</th>\n",
       "    </tr>\n",
       "  </thead>\n",
       "  <tbody>\n",
       "    <tr>\n",
       "      <th>0</th>\n",
       "      <td>MORTGAGE</td>\n",
       "      <td>Not Verified</td>\n",
       "      <td>Paid</td>\n",
       "      <td>debt_consolidation</td>\n",
       "      <td>PA</td>\n",
       "      <td>w</td>\n",
       "      <td>Individual</td>\n",
       "      <td>Cash</td>\n",
       "    </tr>\n",
       "    <tr>\n",
       "      <th>1</th>\n",
       "      <td>MORTGAGE</td>\n",
       "      <td>Not Verified</td>\n",
       "      <td>Paid</td>\n",
       "      <td>small_business</td>\n",
       "      <td>SD</td>\n",
       "      <td>w</td>\n",
       "      <td>Individual</td>\n",
       "      <td>Cash</td>\n",
       "    </tr>\n",
       "    <tr>\n",
       "      <th>2</th>\n",
       "      <td>MORTGAGE</td>\n",
       "      <td>Not Verified</td>\n",
       "      <td>Paid</td>\n",
       "      <td>home_improvement</td>\n",
       "      <td>IL</td>\n",
       "      <td>w</td>\n",
       "      <td>Joint App</td>\n",
       "      <td>Cash</td>\n",
       "    </tr>\n",
       "    <tr>\n",
       "      <th>3</th>\n",
       "      <td>MORTGAGE</td>\n",
       "      <td>Source Verified</td>\n",
       "      <td>Paid</td>\n",
       "      <td>debt_consolidation</td>\n",
       "      <td>NJ</td>\n",
       "      <td>w</td>\n",
       "      <td>Individual</td>\n",
       "      <td>Cash</td>\n",
       "    </tr>\n",
       "    <tr>\n",
       "      <th>4</th>\n",
       "      <td>MORTGAGE</td>\n",
       "      <td>Source Verified</td>\n",
       "      <td>Paid</td>\n",
       "      <td>major_purchase</td>\n",
       "      <td>PA</td>\n",
       "      <td>w</td>\n",
       "      <td>Individual</td>\n",
       "      <td>Cash</td>\n",
       "    </tr>\n",
       "  </tbody>\n",
       "</table>\n",
       "</div>"
      ],
      "text/plain": [
       "  home_ownership verification_status loan_status             purpose  \\\n",
       "0       MORTGAGE        Not Verified        Paid  debt_consolidation   \n",
       "1       MORTGAGE        Not Verified        Paid      small_business   \n",
       "2       MORTGAGE        Not Verified        Paid    home_improvement   \n",
       "3       MORTGAGE     Source Verified        Paid  debt_consolidation   \n",
       "4       MORTGAGE     Source Verified        Paid      major_purchase   \n",
       "\n",
       "  addr_state initial_list_status application_type disbursement_method  \n",
       "0         PA                   w       Individual                Cash  \n",
       "1         SD                   w       Individual                Cash  \n",
       "2         IL                   w        Joint App                Cash  \n",
       "3         NJ                   w       Individual                Cash  \n",
       "4         PA                   w       Individual                Cash  "
      ]
     },
     "execution_count": 19,
     "metadata": {},
     "output_type": "execute_result"
    }
   ],
   "source": [
    "categorical_df.head()"
   ]
  },
  {
   "cell_type": "markdown",
   "metadata": {},
   "source": [
    "### Home Ownsership"
   ]
  },
  {
   "attachments": {},
   "cell_type": "markdown",
   "metadata": {},
   "source": [
    "The next column to process is `home_ownership`."
   ]
  },
  {
   "cell_type": "markdown",
   "metadata": {},
   "source": [
    "*Data Dictionary*\n",
    "- home_ownership: The home ownership status provided by the borrower during registration or obtained from the credit report."
   ]
  },
  {
   "attachments": {},
   "cell_type": "markdown",
   "metadata": {},
   "source": [
    "Let's look at the values in this feature:"
   ]
  },
  {
   "cell_type": "code",
   "execution_count": 20,
   "metadata": {},
   "outputs": [
    {
     "data": {
      "text/plain": [
       "MORTGAGE    980382\n",
       "RENT        783505\n",
       "OWN         208262\n",
       "ANY            709\n",
       "NONE            42\n",
       "OTHER           40\n",
       "Name: home_ownership, dtype: int64"
      ]
     },
     "execution_count": 20,
     "metadata": {},
     "output_type": "execute_result"
    }
   ],
   "source": [
    "categorical_df['home_ownership'].value_counts()"
   ]
  },
  {
   "attachments": {},
   "cell_type": "markdown",
   "metadata": {},
   "source": [
    "Looking at the unique values in this feature, we can see that \"ANY\", \"OTHER\", and \"NONE\" have very few values in them. We can combine all three of these into \"OTHER\"."
   ]
  },
  {
   "cell_type": "code",
   "execution_count": 21,
   "metadata": {},
   "outputs": [],
   "source": [
    "# mapper\n",
    "home_ownership_mapper = {'MORTGAGE': 'MORTGAGE', 'RENT': 'RENT', \n",
    "                         'OWN': 'OWN', 'ANY': 'OTHER', 'NONE': \n",
    "                         'OTHER', 'OTHER': 'OTHER', False: None}\n",
    "\n",
    "# replace values\n",
    "categorical_df['home_ownership'] = categorical_df['home_ownership'].replace(home_ownership_mapper)"
   ]
  },
  {
   "attachments": {},
   "cell_type": "markdown",
   "metadata": {},
   "source": [
    "Now that we have applied mapping to the column let's look at the new value counts:"
   ]
  },
  {
   "cell_type": "code",
   "execution_count": 22,
   "metadata": {},
   "outputs": [
    {
     "data": {
      "text/plain": [
       "MORTGAGE    980382\n",
       "RENT        783505\n",
       "OWN         208262\n",
       "OTHER          791\n",
       "Name: home_ownership, dtype: int64"
      ]
     },
     "execution_count": 22,
     "metadata": {},
     "output_type": "execute_result"
    }
   ],
   "source": [
    "# value counts for home_ownership\n",
    "categorical_df['home_ownership'].value_counts()"
   ]
  },
  {
   "attachments": {},
   "cell_type": "markdown",
   "metadata": {},
   "source": [
    "To convert these into numeric, we will be using One Hot Encoder. This encoder will give each value its own column in the data. Each column will be binary, showing a 1 if the value applies to that loan and a 0 if it does not."
   ]
  },
  {
   "cell_type": "code",
   "execution_count": 23,
   "metadata": {},
   "outputs": [],
   "source": [
    "# import one hot encoder\n",
    "from sklearn.preprocessing import OneHotEncoder\n",
    "\n",
    "# instantiate one hot encoder\n",
    "ohe = OneHotEncoder()\n",
    "\n",
    "# one hot encode home_ownership column\n",
    "home_ownership_ohe = ohe.fit_transform(categorical_df[['home_ownership']]).toarray()\n",
    "\n",
    "# combine one hot encoded columns with categorical_df\n",
    "categorical_df = pd.concat([categorical_df, pd.DataFrame(home_ownership_ohe, columns=ohe.categories_[0])], axis=1)\n",
    "\n",
    "# reset index\n",
    "categorical_df = categorical_df.reset_index(drop=True)\n"
   ]
  },
  {
   "attachments": {},
   "cell_type": "markdown",
   "metadata": {},
   "source": [
    "Now that we have encoded the colum, we can drop `home_ownership` from our categorical data and add the 4 new columns to our numerical data."
   ]
  },
  {
   "cell_type": "code",
   "execution_count": 24,
   "metadata": {},
   "outputs": [],
   "source": [
    "# drop home_ownership column from categorical_df\n",
    "categorical_df = categorical_df.drop('home_ownership', axis=1)\n",
    "\n",
    "# add encoded columns to numerical_df\n",
    "numerical_df = pd.concat([numerical_df, pd.DataFrame(home_ownership_ohe, columns=ohe.categories_[0])], axis=1)\n",
    "\n",
    "# reset index\n",
    "numerical_df = numerical_df.reset_index(drop=True)"
   ]
  },
  {
   "attachments": {},
   "cell_type": "markdown",
   "metadata": {},
   "source": [
    "Sanity check on numerical data:"
   ]
  },
  {
   "cell_type": "code",
   "execution_count": 25,
   "metadata": {},
   "outputs": [
    {
     "data": {
      "text/html": [
       "<div>\n",
       "<style scoped>\n",
       "    .dataframe tbody tr th:only-of-type {\n",
       "        vertical-align: middle;\n",
       "    }\n",
       "\n",
       "    .dataframe tbody tr th {\n",
       "        vertical-align: top;\n",
       "    }\n",
       "\n",
       "    .dataframe thead th {\n",
       "        text-align: right;\n",
       "    }\n",
       "</style>\n",
       "<table border=\"1\" class=\"dataframe\">\n",
       "  <thead>\n",
       "    <tr style=\"text-align: right;\">\n",
       "      <th></th>\n",
       "      <th>loan_amnt</th>\n",
       "      <th>int_rate</th>\n",
       "      <th>installment</th>\n",
       "      <th>annual_inc</th>\n",
       "      <th>dti</th>\n",
       "      <th>delinq_2yrs</th>\n",
       "      <th>fico_range_low</th>\n",
       "      <th>fico_range_high</th>\n",
       "      <th>inq_last_6mths</th>\n",
       "      <th>open_acc</th>\n",
       "      <th>...</th>\n",
       "      <th>total_bc_limit</th>\n",
       "      <th>total_il_high_credit_limit</th>\n",
       "      <th>earliest_cr_years_ago</th>\n",
       "      <th>term</th>\n",
       "      <th>grade</th>\n",
       "      <th>emp_length</th>\n",
       "      <th>MORTGAGE</th>\n",
       "      <th>OTHER</th>\n",
       "      <th>OWN</th>\n",
       "      <th>RENT</th>\n",
       "    </tr>\n",
       "  </thead>\n",
       "  <tbody>\n",
       "    <tr>\n",
       "      <th>0</th>\n",
       "      <td>3600.0</td>\n",
       "      <td>13.99</td>\n",
       "      <td>123.03</td>\n",
       "      <td>55000.0</td>\n",
       "      <td>5.91</td>\n",
       "      <td>0.0</td>\n",
       "      <td>675.0</td>\n",
       "      <td>679.0</td>\n",
       "      <td>1.0</td>\n",
       "      <td>7.0</td>\n",
       "      <td>...</td>\n",
       "      <td>2400.0</td>\n",
       "      <td>13734.0</td>\n",
       "      <td>12.0</td>\n",
       "      <td>36</td>\n",
       "      <td>2.0</td>\n",
       "      <td>10</td>\n",
       "      <td>1.0</td>\n",
       "      <td>0.0</td>\n",
       "      <td>0.0</td>\n",
       "      <td>0.0</td>\n",
       "    </tr>\n",
       "    <tr>\n",
       "      <th>1</th>\n",
       "      <td>24700.0</td>\n",
       "      <td>11.99</td>\n",
       "      <td>820.28</td>\n",
       "      <td>65000.0</td>\n",
       "      <td>16.06</td>\n",
       "      <td>1.0</td>\n",
       "      <td>715.0</td>\n",
       "      <td>719.0</td>\n",
       "      <td>4.0</td>\n",
       "      <td>22.0</td>\n",
       "      <td>...</td>\n",
       "      <td>79300.0</td>\n",
       "      <td>24667.0</td>\n",
       "      <td>16.0</td>\n",
       "      <td>36</td>\n",
       "      <td>2.0</td>\n",
       "      <td>10</td>\n",
       "      <td>1.0</td>\n",
       "      <td>0.0</td>\n",
       "      <td>0.0</td>\n",
       "      <td>0.0</td>\n",
       "    </tr>\n",
       "    <tr>\n",
       "      <th>2</th>\n",
       "      <td>20000.0</td>\n",
       "      <td>10.78</td>\n",
       "      <td>432.66</td>\n",
       "      <td>63000.0</td>\n",
       "      <td>10.78</td>\n",
       "      <td>0.0</td>\n",
       "      <td>695.0</td>\n",
       "      <td>699.0</td>\n",
       "      <td>0.0</td>\n",
       "      <td>6.0</td>\n",
       "      <td>...</td>\n",
       "      <td>6200.0</td>\n",
       "      <td>14877.0</td>\n",
       "      <td>15.0</td>\n",
       "      <td>60</td>\n",
       "      <td>1.0</td>\n",
       "      <td>10</td>\n",
       "      <td>1.0</td>\n",
       "      <td>0.0</td>\n",
       "      <td>0.0</td>\n",
       "      <td>0.0</td>\n",
       "    </tr>\n",
       "    <tr>\n",
       "      <th>3</th>\n",
       "      <td>35000.0</td>\n",
       "      <td>14.85</td>\n",
       "      <td>829.90</td>\n",
       "      <td>110000.0</td>\n",
       "      <td>17.06</td>\n",
       "      <td>0.0</td>\n",
       "      <td>785.0</td>\n",
       "      <td>789.0</td>\n",
       "      <td>0.0</td>\n",
       "      <td>13.0</td>\n",
       "      <td>...</td>\n",
       "      <td>62500.0</td>\n",
       "      <td>18000.0</td>\n",
       "      <td>7.0</td>\n",
       "      <td>60</td>\n",
       "      <td>2.0</td>\n",
       "      <td>10</td>\n",
       "      <td>1.0</td>\n",
       "      <td>0.0</td>\n",
       "      <td>0.0</td>\n",
       "      <td>0.0</td>\n",
       "    </tr>\n",
       "    <tr>\n",
       "      <th>4</th>\n",
       "      <td>10400.0</td>\n",
       "      <td>22.45</td>\n",
       "      <td>289.91</td>\n",
       "      <td>104433.0</td>\n",
       "      <td>25.37</td>\n",
       "      <td>1.0</td>\n",
       "      <td>695.0</td>\n",
       "      <td>699.0</td>\n",
       "      <td>3.0</td>\n",
       "      <td>12.0</td>\n",
       "      <td>...</td>\n",
       "      <td>20300.0</td>\n",
       "      <td>88097.0</td>\n",
       "      <td>17.0</td>\n",
       "      <td>60</td>\n",
       "      <td>5.0</td>\n",
       "      <td>3</td>\n",
       "      <td>1.0</td>\n",
       "      <td>0.0</td>\n",
       "      <td>0.0</td>\n",
       "      <td>0.0</td>\n",
       "    </tr>\n",
       "    <tr>\n",
       "      <th>...</th>\n",
       "      <td>...</td>\n",
       "      <td>...</td>\n",
       "      <td>...</td>\n",
       "      <td>...</td>\n",
       "      <td>...</td>\n",
       "      <td>...</td>\n",
       "      <td>...</td>\n",
       "      <td>...</td>\n",
       "      <td>...</td>\n",
       "      <td>...</td>\n",
       "      <td>...</td>\n",
       "      <td>...</td>\n",
       "      <td>...</td>\n",
       "      <td>...</td>\n",
       "      <td>...</td>\n",
       "      <td>...</td>\n",
       "      <td>...</td>\n",
       "      <td>...</td>\n",
       "      <td>...</td>\n",
       "      <td>...</td>\n",
       "      <td>...</td>\n",
       "    </tr>\n",
       "    <tr>\n",
       "      <th>1972935</th>\n",
       "      <td>24000.0</td>\n",
       "      <td>10.49</td>\n",
       "      <td>515.74</td>\n",
       "      <td>125000.0</td>\n",
       "      <td>10.98</td>\n",
       "      <td>0.0</td>\n",
       "      <td>725.0</td>\n",
       "      <td>729.0</td>\n",
       "      <td>0.0</td>\n",
       "      <td>15.0</td>\n",
       "      <td>...</td>\n",
       "      <td>93700.0</td>\n",
       "      <td>28602.0</td>\n",
       "      <td>15.0</td>\n",
       "      <td>60</td>\n",
       "      <td>1.0</td>\n",
       "      <td>4</td>\n",
       "      <td>0.0</td>\n",
       "      <td>0.0</td>\n",
       "      <td>1.0</td>\n",
       "      <td>0.0</td>\n",
       "    </tr>\n",
       "    <tr>\n",
       "      <th>1972936</th>\n",
       "      <td>24000.0</td>\n",
       "      <td>10.49</td>\n",
       "      <td>515.74</td>\n",
       "      <td>108000.0</td>\n",
       "      <td>34.94</td>\n",
       "      <td>0.0</td>\n",
       "      <td>695.0</td>\n",
       "      <td>699.0</td>\n",
       "      <td>1.0</td>\n",
       "      <td>24.0</td>\n",
       "      <td>...</td>\n",
       "      <td>27900.0</td>\n",
       "      <td>172283.0</td>\n",
       "      <td>25.0</td>\n",
       "      <td>60</td>\n",
       "      <td>1.0</td>\n",
       "      <td>10</td>\n",
       "      <td>1.0</td>\n",
       "      <td>0.0</td>\n",
       "      <td>0.0</td>\n",
       "      <td>0.0</td>\n",
       "    </tr>\n",
       "    <tr>\n",
       "      <th>1972937</th>\n",
       "      <td>40000.0</td>\n",
       "      <td>10.49</td>\n",
       "      <td>859.56</td>\n",
       "      <td>227000.0</td>\n",
       "      <td>12.75</td>\n",
       "      <td>7.0</td>\n",
       "      <td>705.0</td>\n",
       "      <td>709.0</td>\n",
       "      <td>1.0</td>\n",
       "      <td>5.0</td>\n",
       "      <td>...</td>\n",
       "      <td>12300.0</td>\n",
       "      <td>42670.0</td>\n",
       "      <td>21.0</td>\n",
       "      <td>60</td>\n",
       "      <td>1.0</td>\n",
       "      <td>9</td>\n",
       "      <td>1.0</td>\n",
       "      <td>0.0</td>\n",
       "      <td>0.0</td>\n",
       "      <td>0.0</td>\n",
       "    </tr>\n",
       "    <tr>\n",
       "      <th>1972938</th>\n",
       "      <td>24000.0</td>\n",
       "      <td>14.49</td>\n",
       "      <td>564.56</td>\n",
       "      <td>110000.0</td>\n",
       "      <td>18.30</td>\n",
       "      <td>0.0</td>\n",
       "      <td>660.0</td>\n",
       "      <td>664.0</td>\n",
       "      <td>0.0</td>\n",
       "      <td>10.0</td>\n",
       "      <td>...</td>\n",
       "      <td>20700.0</td>\n",
       "      <td>58764.0</td>\n",
       "      <td>17.0</td>\n",
       "      <td>60</td>\n",
       "      <td>2.0</td>\n",
       "      <td>6</td>\n",
       "      <td>0.0</td>\n",
       "      <td>0.0</td>\n",
       "      <td>0.0</td>\n",
       "      <td>1.0</td>\n",
       "    </tr>\n",
       "    <tr>\n",
       "      <th>1972939</th>\n",
       "      <td>14000.0</td>\n",
       "      <td>14.49</td>\n",
       "      <td>329.33</td>\n",
       "      <td>95000.0</td>\n",
       "      <td>23.36</td>\n",
       "      <td>0.0</td>\n",
       "      <td>660.0</td>\n",
       "      <td>664.0</td>\n",
       "      <td>1.0</td>\n",
       "      <td>8.0</td>\n",
       "      <td>...</td>\n",
       "      <td>9500.0</td>\n",
       "      <td>34169.0</td>\n",
       "      <td>20.0</td>\n",
       "      <td>60</td>\n",
       "      <td>2.0</td>\n",
       "      <td>10</td>\n",
       "      <td>1.0</td>\n",
       "      <td>0.0</td>\n",
       "      <td>0.0</td>\n",
       "      <td>0.0</td>\n",
       "    </tr>\n",
       "  </tbody>\n",
       "</table>\n",
       "<p>1972940 rows × 64 columns</p>\n",
       "</div>"
      ],
      "text/plain": [
       "         loan_amnt  int_rate  installment  annual_inc    dti  delinq_2yrs  \\\n",
       "0           3600.0     13.99       123.03     55000.0   5.91          0.0   \n",
       "1          24700.0     11.99       820.28     65000.0  16.06          1.0   \n",
       "2          20000.0     10.78       432.66     63000.0  10.78          0.0   \n",
       "3          35000.0     14.85       829.90    110000.0  17.06          0.0   \n",
       "4          10400.0     22.45       289.91    104433.0  25.37          1.0   \n",
       "...            ...       ...          ...         ...    ...          ...   \n",
       "1972935    24000.0     10.49       515.74    125000.0  10.98          0.0   \n",
       "1972936    24000.0     10.49       515.74    108000.0  34.94          0.0   \n",
       "1972937    40000.0     10.49       859.56    227000.0  12.75          7.0   \n",
       "1972938    24000.0     14.49       564.56    110000.0  18.30          0.0   \n",
       "1972939    14000.0     14.49       329.33     95000.0  23.36          0.0   \n",
       "\n",
       "         fico_range_low  fico_range_high  inq_last_6mths  open_acc  ...  \\\n",
       "0                 675.0            679.0             1.0       7.0  ...   \n",
       "1                 715.0            719.0             4.0      22.0  ...   \n",
       "2                 695.0            699.0             0.0       6.0  ...   \n",
       "3                 785.0            789.0             0.0      13.0  ...   \n",
       "4                 695.0            699.0             3.0      12.0  ...   \n",
       "...                 ...              ...             ...       ...  ...   \n",
       "1972935           725.0            729.0             0.0      15.0  ...   \n",
       "1972936           695.0            699.0             1.0      24.0  ...   \n",
       "1972937           705.0            709.0             1.0       5.0  ...   \n",
       "1972938           660.0            664.0             0.0      10.0  ...   \n",
       "1972939           660.0            664.0             1.0       8.0  ...   \n",
       "\n",
       "         total_bc_limit  total_il_high_credit_limit  earliest_cr_years_ago  \\\n",
       "0                2400.0                     13734.0                   12.0   \n",
       "1               79300.0                     24667.0                   16.0   \n",
       "2                6200.0                     14877.0                   15.0   \n",
       "3               62500.0                     18000.0                    7.0   \n",
       "4               20300.0                     88097.0                   17.0   \n",
       "...                 ...                         ...                    ...   \n",
       "1972935         93700.0                     28602.0                   15.0   \n",
       "1972936         27900.0                    172283.0                   25.0   \n",
       "1972937         12300.0                     42670.0                   21.0   \n",
       "1972938         20700.0                     58764.0                   17.0   \n",
       "1972939          9500.0                     34169.0                   20.0   \n",
       "\n",
       "         term  grade  emp_length  MORTGAGE  OTHER  OWN  RENT  \n",
       "0          36    2.0          10       1.0    0.0  0.0   0.0  \n",
       "1          36    2.0          10       1.0    0.0  0.0   0.0  \n",
       "2          60    1.0          10       1.0    0.0  0.0   0.0  \n",
       "3          60    2.0          10       1.0    0.0  0.0   0.0  \n",
       "4          60    5.0           3       1.0    0.0  0.0   0.0  \n",
       "...       ...    ...         ...       ...    ...  ...   ...  \n",
       "1972935    60    1.0           4       0.0    0.0  1.0   0.0  \n",
       "1972936    60    1.0          10       1.0    0.0  0.0   0.0  \n",
       "1972937    60    1.0           9       1.0    0.0  0.0   0.0  \n",
       "1972938    60    2.0           6       0.0    0.0  0.0   1.0  \n",
       "1972939    60    2.0          10       1.0    0.0  0.0   0.0  \n",
       "\n",
       "[1972940 rows x 64 columns]"
      ]
     },
     "execution_count": 25,
     "metadata": {},
     "output_type": "execute_result"
    }
   ],
   "source": [
    "numerical_df"
   ]
  },
  {
   "attachments": {},
   "cell_type": "markdown",
   "metadata": {},
   "source": [
    "Our numerical data frame looks good. We can now drop the encoded columns from our categorical data frame as well as drop \"OTHER\" from our numerical data frame. This is because when you encode a column, you can predict one of them using all the others. In this case we will be dropping \"OTHER\" as it had the least amount of data."
   ]
  },
  {
   "cell_type": "code",
   "execution_count": 26,
   "metadata": {},
   "outputs": [],
   "source": [
    "# drop MORTGAGE, OTHER, OWN, RENT columns from categorical_df\n",
    "categorical_df = categorical_df.drop(['MORTGAGE', 'OTHER', 'OWN', 'RENT'], axis=1)\n",
    "\n",
    "# drop OTHER column from numerical_df\n",
    "numerical_df = numerical_df.drop('OTHER', axis=1)"
   ]
  },
  {
   "cell_type": "markdown",
   "metadata": {},
   "source": [
    "### Verification Status"
   ]
  },
  {
   "attachments": {},
   "cell_type": "markdown",
   "metadata": {},
   "source": [
    "Now we can move on to processing `verification_status`."
   ]
  },
  {
   "cell_type": "markdown",
   "metadata": {},
   "source": [
    "*Data Dictionary*\n",
    "- verification_status: Indicates if income was verified by LC, not verified, or if the income source was verified"
   ]
  },
  {
   "attachments": {},
   "cell_type": "markdown",
   "metadata": {},
   "source": [
    "Let's look at the values in this feature:"
   ]
  },
  {
   "cell_type": "code",
   "execution_count": 27,
   "metadata": {},
   "outputs": [
    {
     "data": {
      "text/plain": [
       "Source Verified    811327\n",
       "Not Verified       649297\n",
       "Verified           512316\n",
       "Name: verification_status, dtype: int64"
      ]
     },
     "execution_count": 27,
     "metadata": {},
     "output_type": "execute_result"
    }
   ],
   "source": [
    "categorical_df['verification_status'].value_counts()"
   ]
  },
  {
   "attachments": {},
   "cell_type": "markdown",
   "metadata": {},
   "source": [
    "We can see that we have 3 unique values. Although two of the columns seem to have the same outcome of \"verified\", source verified means that the actual source of the income was verified. This could be a valuable predictor in our model so we are going to One Hot Encode this column."
   ]
  },
  {
   "cell_type": "code",
   "execution_count": 28,
   "metadata": {},
   "outputs": [],
   "source": [
    "# one hot encode verification_status column\n",
    "verification_status_ohe = ohe.fit_transform(categorical_df[['verification_status']]).toarray()\n",
    "\n",
    "# combine one hot encoded columns with categorical_df\n",
    "categorical_df = pd.concat([categorical_df, pd.DataFrame(verification_status_ohe, columns=ohe.categories_[0])], axis=1)\n",
    "\n",
    "# reset index\n",
    "categorical_df = categorical_df.reset_index(drop=True)"
   ]
  },
  {
   "attachments": {},
   "cell_type": "markdown",
   "metadata": {},
   "source": [
    "Now that we have encoded the colum, we can drop `verification_status` from our categorical data and add the 3 new columns to our numerical data."
   ]
  },
  {
   "cell_type": "code",
   "execution_count": 29,
   "metadata": {},
   "outputs": [],
   "source": [
    "# drop verification_status column from categorical_df\n",
    "categorical_df = categorical_df.drop('verification_status', axis=1)\n",
    "\n",
    "# add encoded columns to numerical_df\n",
    "numerical_df = pd.concat([numerical_df, pd.DataFrame(verification_status_ohe, columns=ohe.categories_[0])], axis=1)\n",
    "\n",
    "# reset index\n",
    "numerical_df = numerical_df.reset_index(drop=True)"
   ]
  },
  {
   "cell_type": "markdown",
   "metadata": {},
   "source": [
    "Sanity check on numerical data:"
   ]
  },
  {
   "cell_type": "code",
   "execution_count": 30,
   "metadata": {},
   "outputs": [
    {
     "data": {
      "text/html": [
       "<div>\n",
       "<style scoped>\n",
       "    .dataframe tbody tr th:only-of-type {\n",
       "        vertical-align: middle;\n",
       "    }\n",
       "\n",
       "    .dataframe tbody tr th {\n",
       "        vertical-align: top;\n",
       "    }\n",
       "\n",
       "    .dataframe thead th {\n",
       "        text-align: right;\n",
       "    }\n",
       "</style>\n",
       "<table border=\"1\" class=\"dataframe\">\n",
       "  <thead>\n",
       "    <tr style=\"text-align: right;\">\n",
       "      <th></th>\n",
       "      <th>loan_amnt</th>\n",
       "      <th>int_rate</th>\n",
       "      <th>installment</th>\n",
       "      <th>annual_inc</th>\n",
       "      <th>dti</th>\n",
       "      <th>delinq_2yrs</th>\n",
       "      <th>fico_range_low</th>\n",
       "      <th>fico_range_high</th>\n",
       "      <th>inq_last_6mths</th>\n",
       "      <th>open_acc</th>\n",
       "      <th>...</th>\n",
       "      <th>earliest_cr_years_ago</th>\n",
       "      <th>term</th>\n",
       "      <th>grade</th>\n",
       "      <th>emp_length</th>\n",
       "      <th>MORTGAGE</th>\n",
       "      <th>OWN</th>\n",
       "      <th>RENT</th>\n",
       "      <th>Not Verified</th>\n",
       "      <th>Source Verified</th>\n",
       "      <th>Verified</th>\n",
       "    </tr>\n",
       "  </thead>\n",
       "  <tbody>\n",
       "    <tr>\n",
       "      <th>0</th>\n",
       "      <td>3600.0</td>\n",
       "      <td>13.99</td>\n",
       "      <td>123.03</td>\n",
       "      <td>55000.0</td>\n",
       "      <td>5.91</td>\n",
       "      <td>0.0</td>\n",
       "      <td>675.0</td>\n",
       "      <td>679.0</td>\n",
       "      <td>1.0</td>\n",
       "      <td>7.0</td>\n",
       "      <td>...</td>\n",
       "      <td>12.0</td>\n",
       "      <td>36</td>\n",
       "      <td>2.0</td>\n",
       "      <td>10</td>\n",
       "      <td>1.0</td>\n",
       "      <td>0.0</td>\n",
       "      <td>0.0</td>\n",
       "      <td>1.0</td>\n",
       "      <td>0.0</td>\n",
       "      <td>0.0</td>\n",
       "    </tr>\n",
       "    <tr>\n",
       "      <th>1</th>\n",
       "      <td>24700.0</td>\n",
       "      <td>11.99</td>\n",
       "      <td>820.28</td>\n",
       "      <td>65000.0</td>\n",
       "      <td>16.06</td>\n",
       "      <td>1.0</td>\n",
       "      <td>715.0</td>\n",
       "      <td>719.0</td>\n",
       "      <td>4.0</td>\n",
       "      <td>22.0</td>\n",
       "      <td>...</td>\n",
       "      <td>16.0</td>\n",
       "      <td>36</td>\n",
       "      <td>2.0</td>\n",
       "      <td>10</td>\n",
       "      <td>1.0</td>\n",
       "      <td>0.0</td>\n",
       "      <td>0.0</td>\n",
       "      <td>1.0</td>\n",
       "      <td>0.0</td>\n",
       "      <td>0.0</td>\n",
       "    </tr>\n",
       "    <tr>\n",
       "      <th>2</th>\n",
       "      <td>20000.0</td>\n",
       "      <td>10.78</td>\n",
       "      <td>432.66</td>\n",
       "      <td>63000.0</td>\n",
       "      <td>10.78</td>\n",
       "      <td>0.0</td>\n",
       "      <td>695.0</td>\n",
       "      <td>699.0</td>\n",
       "      <td>0.0</td>\n",
       "      <td>6.0</td>\n",
       "      <td>...</td>\n",
       "      <td>15.0</td>\n",
       "      <td>60</td>\n",
       "      <td>1.0</td>\n",
       "      <td>10</td>\n",
       "      <td>1.0</td>\n",
       "      <td>0.0</td>\n",
       "      <td>0.0</td>\n",
       "      <td>1.0</td>\n",
       "      <td>0.0</td>\n",
       "      <td>0.0</td>\n",
       "    </tr>\n",
       "    <tr>\n",
       "      <th>3</th>\n",
       "      <td>35000.0</td>\n",
       "      <td>14.85</td>\n",
       "      <td>829.90</td>\n",
       "      <td>110000.0</td>\n",
       "      <td>17.06</td>\n",
       "      <td>0.0</td>\n",
       "      <td>785.0</td>\n",
       "      <td>789.0</td>\n",
       "      <td>0.0</td>\n",
       "      <td>13.0</td>\n",
       "      <td>...</td>\n",
       "      <td>7.0</td>\n",
       "      <td>60</td>\n",
       "      <td>2.0</td>\n",
       "      <td>10</td>\n",
       "      <td>1.0</td>\n",
       "      <td>0.0</td>\n",
       "      <td>0.0</td>\n",
       "      <td>0.0</td>\n",
       "      <td>1.0</td>\n",
       "      <td>0.0</td>\n",
       "    </tr>\n",
       "    <tr>\n",
       "      <th>4</th>\n",
       "      <td>10400.0</td>\n",
       "      <td>22.45</td>\n",
       "      <td>289.91</td>\n",
       "      <td>104433.0</td>\n",
       "      <td>25.37</td>\n",
       "      <td>1.0</td>\n",
       "      <td>695.0</td>\n",
       "      <td>699.0</td>\n",
       "      <td>3.0</td>\n",
       "      <td>12.0</td>\n",
       "      <td>...</td>\n",
       "      <td>17.0</td>\n",
       "      <td>60</td>\n",
       "      <td>5.0</td>\n",
       "      <td>3</td>\n",
       "      <td>1.0</td>\n",
       "      <td>0.0</td>\n",
       "      <td>0.0</td>\n",
       "      <td>0.0</td>\n",
       "      <td>1.0</td>\n",
       "      <td>0.0</td>\n",
       "    </tr>\n",
       "    <tr>\n",
       "      <th>...</th>\n",
       "      <td>...</td>\n",
       "      <td>...</td>\n",
       "      <td>...</td>\n",
       "      <td>...</td>\n",
       "      <td>...</td>\n",
       "      <td>...</td>\n",
       "      <td>...</td>\n",
       "      <td>...</td>\n",
       "      <td>...</td>\n",
       "      <td>...</td>\n",
       "      <td>...</td>\n",
       "      <td>...</td>\n",
       "      <td>...</td>\n",
       "      <td>...</td>\n",
       "      <td>...</td>\n",
       "      <td>...</td>\n",
       "      <td>...</td>\n",
       "      <td>...</td>\n",
       "      <td>...</td>\n",
       "      <td>...</td>\n",
       "      <td>...</td>\n",
       "    </tr>\n",
       "    <tr>\n",
       "      <th>1972935</th>\n",
       "      <td>24000.0</td>\n",
       "      <td>10.49</td>\n",
       "      <td>515.74</td>\n",
       "      <td>125000.0</td>\n",
       "      <td>10.98</td>\n",
       "      <td>0.0</td>\n",
       "      <td>725.0</td>\n",
       "      <td>729.0</td>\n",
       "      <td>0.0</td>\n",
       "      <td>15.0</td>\n",
       "      <td>...</td>\n",
       "      <td>15.0</td>\n",
       "      <td>60</td>\n",
       "      <td>1.0</td>\n",
       "      <td>4</td>\n",
       "      <td>0.0</td>\n",
       "      <td>1.0</td>\n",
       "      <td>0.0</td>\n",
       "      <td>1.0</td>\n",
       "      <td>0.0</td>\n",
       "      <td>0.0</td>\n",
       "    </tr>\n",
       "    <tr>\n",
       "      <th>1972936</th>\n",
       "      <td>24000.0</td>\n",
       "      <td>10.49</td>\n",
       "      <td>515.74</td>\n",
       "      <td>108000.0</td>\n",
       "      <td>34.94</td>\n",
       "      <td>0.0</td>\n",
       "      <td>695.0</td>\n",
       "      <td>699.0</td>\n",
       "      <td>1.0</td>\n",
       "      <td>24.0</td>\n",
       "      <td>...</td>\n",
       "      <td>25.0</td>\n",
       "      <td>60</td>\n",
       "      <td>1.0</td>\n",
       "      <td>10</td>\n",
       "      <td>1.0</td>\n",
       "      <td>0.0</td>\n",
       "      <td>0.0</td>\n",
       "      <td>1.0</td>\n",
       "      <td>0.0</td>\n",
       "      <td>0.0</td>\n",
       "    </tr>\n",
       "    <tr>\n",
       "      <th>1972937</th>\n",
       "      <td>40000.0</td>\n",
       "      <td>10.49</td>\n",
       "      <td>859.56</td>\n",
       "      <td>227000.0</td>\n",
       "      <td>12.75</td>\n",
       "      <td>7.0</td>\n",
       "      <td>705.0</td>\n",
       "      <td>709.0</td>\n",
       "      <td>1.0</td>\n",
       "      <td>5.0</td>\n",
       "      <td>...</td>\n",
       "      <td>21.0</td>\n",
       "      <td>60</td>\n",
       "      <td>1.0</td>\n",
       "      <td>9</td>\n",
       "      <td>1.0</td>\n",
       "      <td>0.0</td>\n",
       "      <td>0.0</td>\n",
       "      <td>0.0</td>\n",
       "      <td>0.0</td>\n",
       "      <td>1.0</td>\n",
       "    </tr>\n",
       "    <tr>\n",
       "      <th>1972938</th>\n",
       "      <td>24000.0</td>\n",
       "      <td>14.49</td>\n",
       "      <td>564.56</td>\n",
       "      <td>110000.0</td>\n",
       "      <td>18.30</td>\n",
       "      <td>0.0</td>\n",
       "      <td>660.0</td>\n",
       "      <td>664.0</td>\n",
       "      <td>0.0</td>\n",
       "      <td>10.0</td>\n",
       "      <td>...</td>\n",
       "      <td>17.0</td>\n",
       "      <td>60</td>\n",
       "      <td>2.0</td>\n",
       "      <td>6</td>\n",
       "      <td>0.0</td>\n",
       "      <td>0.0</td>\n",
       "      <td>1.0</td>\n",
       "      <td>1.0</td>\n",
       "      <td>0.0</td>\n",
       "      <td>0.0</td>\n",
       "    </tr>\n",
       "    <tr>\n",
       "      <th>1972939</th>\n",
       "      <td>14000.0</td>\n",
       "      <td>14.49</td>\n",
       "      <td>329.33</td>\n",
       "      <td>95000.0</td>\n",
       "      <td>23.36</td>\n",
       "      <td>0.0</td>\n",
       "      <td>660.0</td>\n",
       "      <td>664.0</td>\n",
       "      <td>1.0</td>\n",
       "      <td>8.0</td>\n",
       "      <td>...</td>\n",
       "      <td>20.0</td>\n",
       "      <td>60</td>\n",
       "      <td>2.0</td>\n",
       "      <td>10</td>\n",
       "      <td>1.0</td>\n",
       "      <td>0.0</td>\n",
       "      <td>0.0</td>\n",
       "      <td>0.0</td>\n",
       "      <td>0.0</td>\n",
       "      <td>1.0</td>\n",
       "    </tr>\n",
       "  </tbody>\n",
       "</table>\n",
       "<p>1972940 rows × 66 columns</p>\n",
       "</div>"
      ],
      "text/plain": [
       "         loan_amnt  int_rate  installment  annual_inc    dti  delinq_2yrs  \\\n",
       "0           3600.0     13.99       123.03     55000.0   5.91          0.0   \n",
       "1          24700.0     11.99       820.28     65000.0  16.06          1.0   \n",
       "2          20000.0     10.78       432.66     63000.0  10.78          0.0   \n",
       "3          35000.0     14.85       829.90    110000.0  17.06          0.0   \n",
       "4          10400.0     22.45       289.91    104433.0  25.37          1.0   \n",
       "...            ...       ...          ...         ...    ...          ...   \n",
       "1972935    24000.0     10.49       515.74    125000.0  10.98          0.0   \n",
       "1972936    24000.0     10.49       515.74    108000.0  34.94          0.0   \n",
       "1972937    40000.0     10.49       859.56    227000.0  12.75          7.0   \n",
       "1972938    24000.0     14.49       564.56    110000.0  18.30          0.0   \n",
       "1972939    14000.0     14.49       329.33     95000.0  23.36          0.0   \n",
       "\n",
       "         fico_range_low  fico_range_high  inq_last_6mths  open_acc  ...  \\\n",
       "0                 675.0            679.0             1.0       7.0  ...   \n",
       "1                 715.0            719.0             4.0      22.0  ...   \n",
       "2                 695.0            699.0             0.0       6.0  ...   \n",
       "3                 785.0            789.0             0.0      13.0  ...   \n",
       "4                 695.0            699.0             3.0      12.0  ...   \n",
       "...                 ...              ...             ...       ...  ...   \n",
       "1972935           725.0            729.0             0.0      15.0  ...   \n",
       "1972936           695.0            699.0             1.0      24.0  ...   \n",
       "1972937           705.0            709.0             1.0       5.0  ...   \n",
       "1972938           660.0            664.0             0.0      10.0  ...   \n",
       "1972939           660.0            664.0             1.0       8.0  ...   \n",
       "\n",
       "         earliest_cr_years_ago  term  grade  emp_length  MORTGAGE  OWN  RENT  \\\n",
       "0                         12.0    36    2.0          10       1.0  0.0   0.0   \n",
       "1                         16.0    36    2.0          10       1.0  0.0   0.0   \n",
       "2                         15.0    60    1.0          10       1.0  0.0   0.0   \n",
       "3                          7.0    60    2.0          10       1.0  0.0   0.0   \n",
       "4                         17.0    60    5.0           3       1.0  0.0   0.0   \n",
       "...                        ...   ...    ...         ...       ...  ...   ...   \n",
       "1972935                   15.0    60    1.0           4       0.0  1.0   0.0   \n",
       "1972936                   25.0    60    1.0          10       1.0  0.0   0.0   \n",
       "1972937                   21.0    60    1.0           9       1.0  0.0   0.0   \n",
       "1972938                   17.0    60    2.0           6       0.0  0.0   1.0   \n",
       "1972939                   20.0    60    2.0          10       1.0  0.0   0.0   \n",
       "\n",
       "         Not Verified  Source Verified  Verified  \n",
       "0                 1.0              0.0       0.0  \n",
       "1                 1.0              0.0       0.0  \n",
       "2                 1.0              0.0       0.0  \n",
       "3                 0.0              1.0       0.0  \n",
       "4                 0.0              1.0       0.0  \n",
       "...               ...              ...       ...  \n",
       "1972935           1.0              0.0       0.0  \n",
       "1972936           1.0              0.0       0.0  \n",
       "1972937           0.0              0.0       1.0  \n",
       "1972938           1.0              0.0       0.0  \n",
       "1972939           0.0              0.0       1.0  \n",
       "\n",
       "[1972940 rows x 66 columns]"
      ]
     },
     "execution_count": 30,
     "metadata": {},
     "output_type": "execute_result"
    }
   ],
   "source": [
    "numerical_df"
   ]
  },
  {
   "attachments": {},
   "cell_type": "markdown",
   "metadata": {},
   "source": [
    "Similar to before we are going to drop the encoded columns from our categorical data and pick a reference column. In this case, it is going to be \"Verified\" as it has the least amount of value counts."
   ]
  },
  {
   "cell_type": "code",
   "execution_count": 31,
   "metadata": {},
   "outputs": [],
   "source": [
    "# drop Not Verified, Source Verified, Verified columns from categorical_df\n",
    "categorical_df = categorical_df.drop(['Not Verified', 'Source Verified', 'Verified'], axis=1)\n",
    "\n",
    "# drop Verified column from numerical_df\n",
    "numerical_df = numerical_df.drop('Verified', axis=1)"
   ]
  },
  {
   "attachments": {},
   "cell_type": "markdown",
   "metadata": {},
   "source": [
    "Let's see what columns we have left to process:"
   ]
  },
  {
   "cell_type": "code",
   "execution_count": 32,
   "metadata": {},
   "outputs": [
    {
     "data": {
      "text/html": [
       "<div>\n",
       "<style scoped>\n",
       "    .dataframe tbody tr th:only-of-type {\n",
       "        vertical-align: middle;\n",
       "    }\n",
       "\n",
       "    .dataframe tbody tr th {\n",
       "        vertical-align: top;\n",
       "    }\n",
       "\n",
       "    .dataframe thead th {\n",
       "        text-align: right;\n",
       "    }\n",
       "</style>\n",
       "<table border=\"1\" class=\"dataframe\">\n",
       "  <thead>\n",
       "    <tr style=\"text-align: right;\">\n",
       "      <th></th>\n",
       "      <th>loan_status</th>\n",
       "      <th>purpose</th>\n",
       "      <th>addr_state</th>\n",
       "      <th>initial_list_status</th>\n",
       "      <th>application_type</th>\n",
       "      <th>disbursement_method</th>\n",
       "    </tr>\n",
       "  </thead>\n",
       "  <tbody>\n",
       "    <tr>\n",
       "      <th>0</th>\n",
       "      <td>Paid</td>\n",
       "      <td>debt_consolidation</td>\n",
       "      <td>PA</td>\n",
       "      <td>w</td>\n",
       "      <td>Individual</td>\n",
       "      <td>Cash</td>\n",
       "    </tr>\n",
       "    <tr>\n",
       "      <th>1</th>\n",
       "      <td>Paid</td>\n",
       "      <td>small_business</td>\n",
       "      <td>SD</td>\n",
       "      <td>w</td>\n",
       "      <td>Individual</td>\n",
       "      <td>Cash</td>\n",
       "    </tr>\n",
       "    <tr>\n",
       "      <th>2</th>\n",
       "      <td>Paid</td>\n",
       "      <td>home_improvement</td>\n",
       "      <td>IL</td>\n",
       "      <td>w</td>\n",
       "      <td>Joint App</td>\n",
       "      <td>Cash</td>\n",
       "    </tr>\n",
       "    <tr>\n",
       "      <th>3</th>\n",
       "      <td>Paid</td>\n",
       "      <td>debt_consolidation</td>\n",
       "      <td>NJ</td>\n",
       "      <td>w</td>\n",
       "      <td>Individual</td>\n",
       "      <td>Cash</td>\n",
       "    </tr>\n",
       "    <tr>\n",
       "      <th>4</th>\n",
       "      <td>Paid</td>\n",
       "      <td>major_purchase</td>\n",
       "      <td>PA</td>\n",
       "      <td>w</td>\n",
       "      <td>Individual</td>\n",
       "      <td>Cash</td>\n",
       "    </tr>\n",
       "  </tbody>\n",
       "</table>\n",
       "</div>"
      ],
      "text/plain": [
       "  loan_status             purpose addr_state initial_list_status  \\\n",
       "0        Paid  debt_consolidation         PA                   w   \n",
       "1        Paid      small_business         SD                   w   \n",
       "2        Paid    home_improvement         IL                   w   \n",
       "3        Paid  debt_consolidation         NJ                   w   \n",
       "4        Paid      major_purchase         PA                   w   \n",
       "\n",
       "  application_type disbursement_method  \n",
       "0       Individual                Cash  \n",
       "1       Individual                Cash  \n",
       "2        Joint App                Cash  \n",
       "3       Individual                Cash  \n",
       "4       Individual                Cash  "
      ]
     },
     "execution_count": 32,
     "metadata": {},
     "output_type": "execute_result"
    }
   ],
   "source": [
    "categorical_df.head()"
   ]
  },
  {
   "cell_type": "markdown",
   "metadata": {},
   "source": [
    "### Purpose"
   ]
  },
  {
   "attachments": {},
   "cell_type": "markdown",
   "metadata": {},
   "source": [
    "Next, we are going to process `purpose`."
   ]
  },
  {
   "cell_type": "markdown",
   "metadata": {},
   "source": [
    "*Data Dictionary*\n",
    "- purpose: A category provided by the borrower for the loan request."
   ]
  },
  {
   "cell_type": "code",
   "execution_count": 33,
   "metadata": {},
   "outputs": [
    {
     "data": {
      "text/plain": [
       "debt_consolidation    1125110\n",
       "credit_card            460263\n",
       "home_improvement       128022\n",
       "other                  116007\n",
       "major_purchase          42291\n",
       "medical                 22669\n",
       "car                     19569\n",
       "small_business          19258\n",
       "vacation                13047\n",
       "moving                  12873\n",
       "house                   11829\n",
       "renewable_energy         1160\n",
       "wedding                   840\n",
       "educational                 2\n",
       "Name: purpose, dtype: int64"
      ]
     },
     "execution_count": 33,
     "metadata": {},
     "output_type": "execute_result"
    }
   ],
   "source": [
    "categorical_df['purpose'].value_counts()"
   ]
  },
  {
   "attachments": {},
   "cell_type": "markdown",
   "metadata": {},
   "source": [
    "Since there is quite a few values, we are going to combine some of them that are similar. We are going to add 'educational', 'wedding', and 'renewable_energy' to other and combine 'moving', 'house' and 'home_improvement' into 'housing'. This will be done using a mapper."
   ]
  },
  {
   "cell_type": "code",
   "execution_count": 34,
   "metadata": {},
   "outputs": [
    {
     "data": {
      "text/plain": [
       "debt_consolidation    1125110\n",
       "credit_card            460263\n",
       "housing                152724\n",
       "other                  118009\n",
       "major_purchase          42291\n",
       "medical                 22669\n",
       "car                     19569\n",
       "small_business          19258\n",
       "vacation                13047\n",
       "Name: purpose, dtype: int64"
      ]
     },
     "execution_count": 34,
     "metadata": {},
     "output_type": "execute_result"
    }
   ],
   "source": [
    "# mapper\n",
    "purpose_mapper = {'debt_consolidation': 'debt_consolidation', \n",
    "                  'credit_card': 'credit_card', \n",
    "                  'home_improvement': 'housing', \n",
    "                  'other': 'other', \n",
    "                  'major_purchase': 'major_purchase', \n",
    "                  'small_business': 'small_business', \n",
    "                  'car': 'car', \n",
    "                  'medical': 'medical', \n",
    "                  'moving': 'housing', \n",
    "                  'vacation': 'vacation', \n",
    "                  'house': 'housing', \n",
    "                  'renewable_energy': 'other', \n",
    "                  'wedding': 'other', \n",
    "                  'educational': 'other',\n",
    "                  False: None}\n",
    "\n",
    "# replace values\n",
    "categorical_df['purpose'] = categorical_df['purpose'].replace(purpose_mapper)\n",
    "\n",
    "# get new value counts\n",
    "categorical_df['purpose'].value_counts()"
   ]
  },
  {
   "attachments": {},
   "cell_type": "markdown",
   "metadata": {},
   "source": [
    "Now that we have lowered the number of values in this column, we can use One Hot Encoding to separate them into their own binary columns."
   ]
  },
  {
   "cell_type": "code",
   "execution_count": 35,
   "metadata": {},
   "outputs": [],
   "source": [
    "# one hot encode purpose column\n",
    "purpose_ohe = ohe.fit_transform(categorical_df[['purpose']]).toarray()\n",
    "\n",
    "# combine one hot encoded columns with categorical_df\n",
    "categorical_df = pd.concat([categorical_df, pd.DataFrame(purpose_ohe, columns=ohe.categories_[0])], axis=1)\n",
    "\n",
    "# reset index\n",
    "categorical_df = categorical_df.reset_index(drop=True)"
   ]
  },
  {
   "attachments": {},
   "cell_type": "markdown",
   "metadata": {},
   "source": [
    "We can now drop `purpose` from our categorical data and add the encoded columns to the numeric data."
   ]
  },
  {
   "cell_type": "code",
   "execution_count": 36,
   "metadata": {},
   "outputs": [],
   "source": [
    "# drop purpose column from categorical_df\n",
    "categorical_df = categorical_df.drop('purpose', axis=1)\n",
    "\n",
    "# add encoded columns to numerical_df\n",
    "numerical_df = pd.concat([numerical_df, pd.DataFrame(purpose_ohe, columns=ohe.categories_[0])], axis=1)\n",
    "\n",
    "# reset index\n",
    "numerical_df = numerical_df.reset_index(drop=True)"
   ]
  },
  {
   "attachments": {},
   "cell_type": "markdown",
   "metadata": {},
   "source": [
    "Now we are going to drop the encoded columns from our categorical data and drop \"vacation\" from our numeric data as the reference column."
   ]
  },
  {
   "cell_type": "code",
   "execution_count": 37,
   "metadata": {},
   "outputs": [],
   "source": [
    "# drop encoded columns from categorical_df\n",
    "categorical_df = categorical_df.drop(['car', 'credit_card', 'debt_consolidation', 'housing', 'major_purchase', 'medical', 'other', 'small_business', 'vacation'], axis=1)\n",
    "\n",
    "# drop vacation column from numerical_df\n",
    "numerical_df = numerical_df.drop('vacation', axis=1)"
   ]
  },
  {
   "cell_type": "markdown",
   "metadata": {},
   "source": [
    "### State"
   ]
  },
  {
   "attachments": {},
   "cell_type": "markdown",
   "metadata": {},
   "source": [
    "Next, we can take a look at `state`."
   ]
  },
  {
   "cell_type": "markdown",
   "metadata": {},
   "source": [
    "*Data Dictionary*\n",
    "- state: The state provided by the borrower in the loan application"
   ]
  },
  {
   "attachments": {},
   "cell_type": "markdown",
   "metadata": {},
   "source": [
    "Let's take a look at the value counts in this feature:"
   ]
  },
  {
   "cell_type": "code",
   "execution_count": 38,
   "metadata": {},
   "outputs": [
    {
     "data": {
      "text/plain": [
       "CA    274160\n",
       "TX    165550\n",
       "NY    162060\n",
       "FL    137894\n",
       "IL     80778\n",
       "NJ     73343\n",
       "PA     67191\n",
       "OH     65577\n",
       "GA     64539\n",
       "VA     55024\n",
       "NC     54082\n",
       "MI     50017\n",
       "MD     47311\n",
       "AZ     46315\n",
       "MA     45950\n",
       "CO     42943\n",
       "WA     41045\n",
       "MN     35478\n",
       "IN     33849\n",
       "CT     31578\n",
       "TN     31532\n",
       "MO     31305\n",
       "NV     27904\n",
       "WI     26130\n",
       "SC     23706\n",
       "AL     23209\n",
       "OR     23058\n",
       "LA     22387\n",
       "KY     18898\n",
       "OK     18002\n",
       "KS     16767\n",
       "AR     14429\n",
       "UT     13111\n",
       "MS     10955\n",
       "NM     10197\n",
       "NH      9920\n",
       "HI      9437\n",
       "RI      8864\n",
       "WV      7085\n",
       "NE      7078\n",
       "DE      5546\n",
       "MT      5480\n",
       "DC      4671\n",
       "AK      4616\n",
       "ME      4394\n",
       "VT      4326\n",
       "WY      4216\n",
       "SD      4032\n",
       "ID      3673\n",
       "ND      3327\n",
       "IA         1\n",
       "Name: addr_state, dtype: int64"
      ]
     },
     "execution_count": 38,
     "metadata": {},
     "output_type": "execute_result"
    }
   ],
   "source": [
    "categorical_df['addr_state'].value_counts()"
   ]
  },
  {
   "attachments": {},
   "cell_type": "markdown",
   "metadata": {},
   "source": [
    "Although there are a lot of states, there might be a relationship between the state and the number of default loans. Let's compare the state in which the loan too place and the outcome."
   ]
  },
  {
   "cell_type": "code",
   "execution_count": 39,
   "metadata": {},
   "outputs": [
    {
     "data": {
      "text/html": [
       "<div>\n",
       "<style scoped>\n",
       "    .dataframe tbody tr th:only-of-type {\n",
       "        vertical-align: middle;\n",
       "    }\n",
       "\n",
       "    .dataframe tbody tr th {\n",
       "        vertical-align: top;\n",
       "    }\n",
       "\n",
       "    .dataframe thead th {\n",
       "        text-align: right;\n",
       "    }\n",
       "</style>\n",
       "<table border=\"1\" class=\"dataframe\">\n",
       "  <thead>\n",
       "    <tr style=\"text-align: right;\">\n",
       "      <th>addr_state</th>\n",
       "      <th>AK</th>\n",
       "      <th>AL</th>\n",
       "      <th>AR</th>\n",
       "      <th>AZ</th>\n",
       "      <th>CA</th>\n",
       "      <th>CO</th>\n",
       "      <th>CT</th>\n",
       "      <th>DC</th>\n",
       "      <th>DE</th>\n",
       "      <th>FL</th>\n",
       "      <th>...</th>\n",
       "      <th>SD</th>\n",
       "      <th>TN</th>\n",
       "      <th>TX</th>\n",
       "      <th>UT</th>\n",
       "      <th>VA</th>\n",
       "      <th>VT</th>\n",
       "      <th>WA</th>\n",
       "      <th>WI</th>\n",
       "      <th>WV</th>\n",
       "      <th>WY</th>\n",
       "    </tr>\n",
       "    <tr>\n",
       "      <th>loan_status</th>\n",
       "      <th></th>\n",
       "      <th></th>\n",
       "      <th></th>\n",
       "      <th></th>\n",
       "      <th></th>\n",
       "      <th></th>\n",
       "      <th></th>\n",
       "      <th></th>\n",
       "      <th></th>\n",
       "      <th></th>\n",
       "      <th></th>\n",
       "      <th></th>\n",
       "      <th></th>\n",
       "      <th></th>\n",
       "      <th></th>\n",
       "      <th></th>\n",
       "      <th></th>\n",
       "      <th></th>\n",
       "      <th></th>\n",
       "      <th></th>\n",
       "      <th></th>\n",
       "    </tr>\n",
       "  </thead>\n",
       "  <tbody>\n",
       "    <tr>\n",
       "      <th>Default</th>\n",
       "      <td>553</td>\n",
       "      <td>3297</td>\n",
       "      <td>2070</td>\n",
       "      <td>5468</td>\n",
       "      <td>33364</td>\n",
       "      <td>4060</td>\n",
       "      <td>2990</td>\n",
       "      <td>397</td>\n",
       "      <td>638</td>\n",
       "      <td>17421</td>\n",
       "      <td>...</td>\n",
       "      <td>540</td>\n",
       "      <td>3862</td>\n",
       "      <td>19546</td>\n",
       "      <td>1502</td>\n",
       "      <td>6604</td>\n",
       "      <td>314</td>\n",
       "      <td>3893</td>\n",
       "      <td>2811</td>\n",
       "      <td>635</td>\n",
       "      <td>451</td>\n",
       "    </tr>\n",
       "    <tr>\n",
       "      <th>Paid</th>\n",
       "      <td>4063</td>\n",
       "      <td>19912</td>\n",
       "      <td>12359</td>\n",
       "      <td>40847</td>\n",
       "      <td>240796</td>\n",
       "      <td>38883</td>\n",
       "      <td>28588</td>\n",
       "      <td>4274</td>\n",
       "      <td>4908</td>\n",
       "      <td>120473</td>\n",
       "      <td>...</td>\n",
       "      <td>3492</td>\n",
       "      <td>27670</td>\n",
       "      <td>146004</td>\n",
       "      <td>11609</td>\n",
       "      <td>48420</td>\n",
       "      <td>4012</td>\n",
       "      <td>37152</td>\n",
       "      <td>23319</td>\n",
       "      <td>6450</td>\n",
       "      <td>3765</td>\n",
       "    </tr>\n",
       "  </tbody>\n",
       "</table>\n",
       "<p>2 rows × 51 columns</p>\n",
       "</div>"
      ],
      "text/plain": [
       "addr_state     AK     AL     AR     AZ      CA     CO     CT    DC    DE  \\\n",
       "loan_status                                                                \n",
       "Default       553   3297   2070   5468   33364   4060   2990   397   638   \n",
       "Paid         4063  19912  12359  40847  240796  38883  28588  4274  4908   \n",
       "\n",
       "addr_state       FL  ...    SD     TN      TX     UT     VA    VT     WA  \\\n",
       "loan_status          ...                                                   \n",
       "Default       17421  ...   540   3862   19546   1502   6604   314   3893   \n",
       "Paid         120473  ...  3492  27670  146004  11609  48420  4012  37152   \n",
       "\n",
       "addr_state      WI    WV    WY  \n",
       "loan_status                     \n",
       "Default       2811   635   451  \n",
       "Paid         23319  6450  3765  \n",
       "\n",
       "[2 rows x 51 columns]"
      ]
     },
     "execution_count": 39,
     "metadata": {},
     "output_type": "execute_result"
    }
   ],
   "source": [
    "# add_state vs loan_status\n",
    "pd.crosstab(categorical_df['addr_state'], categorical_df['loan_status']).T"
   ]
  },
  {
   "attachments": {},
   "cell_type": "markdown",
   "metadata": {},
   "source": [
    "Let's check the correlation between `addr_state` and `loan_status`"
   ]
  },
  {
   "cell_type": "code",
   "execution_count": 40,
   "metadata": {},
   "outputs": [
    {
     "data": {
      "text/plain": [
       "Chi2ContingencyResult(statistic=3047.909488640779, pvalue=0.0, dof=50, expected_freq=array([[5.46866406e+02, 4.06913359e+03],\n",
       "       [2.74961491e+03, 2.04593851e+04],\n",
       "       [1.70943141e+03, 1.27195686e+04],\n",
       "       [5.48702721e+03, 4.08279728e+04],\n",
       "       [3.24802630e+04, 2.41679737e+05],\n",
       "       [5.08753988e+03, 3.78554601e+04],\n",
       "       [3.74110645e+03, 2.78368935e+04],\n",
       "       [5.53382362e+02, 4.11761764e+03],\n",
       "       [6.57045297e+02, 4.88895470e+03],\n",
       "       [1.63365676e+04, 1.21557432e+05],\n",
       "       [7.64605958e+03, 5.68929404e+04],\n",
       "       [1.11801956e+03, 8.31898044e+03],\n",
       "       [1.18471925e-01, 8.81528075e-01],\n",
       "       [4.35147381e+02, 3.23785262e+03],\n",
       "       [9.56992517e+03, 7.12080748e+04],\n",
       "       [4.01015619e+03, 2.98388438e+04],\n",
       "       [1.98641877e+03, 1.47805812e+04],\n",
       "       [2.23888244e+03, 1.66591176e+04],\n",
       "       [2.65223099e+03, 1.97347690e+04],\n",
       "       [5.44378496e+03, 4.05062150e+04],\n",
       "       [5.60502525e+03, 4.17059747e+04],\n",
       "       [5.20565639e+02, 3.87343436e+03],\n",
       "       [5.92561028e+03, 4.40913897e+04],\n",
       "       [4.20314696e+03, 3.12748530e+04],\n",
       "       [3.70876362e+03, 2.75962364e+04],\n",
       "       [1.29785994e+03, 9.65714006e+03],\n",
       "       [6.49226150e+02, 4.83077385e+03],\n",
       "       [6.40719866e+03, 4.76748013e+04],\n",
       "       [3.94156095e+02, 2.93284391e+03],\n",
       "       [8.38544286e+02, 6.23945571e+03],\n",
       "       [1.17524150e+03, 8.74475850e+03],\n",
       "       [8.68908641e+03, 6.46539136e+04],\n",
       "       [1.20805822e+03, 8.98894178e+03],\n",
       "       [3.30584060e+03, 2.45981594e+04],\n",
       "       [1.91995602e+04, 1.42860440e+05],\n",
       "       [7.76903344e+03, 5.78079666e+04],\n",
       "       [2.13273160e+03, 1.58692684e+04],\n",
       "       [2.73172565e+03, 2.03262743e+04],\n",
       "       [7.96024712e+03, 5.92307529e+04],\n",
       "       [1.05013514e+03, 7.81386486e+03],\n",
       "       [2.80849546e+03, 2.08975045e+04],\n",
       "       [4.77678802e+02, 3.55432120e+03],\n",
       "       [3.73565674e+03, 2.77963433e+04],\n",
       "       [1.96130272e+04, 1.45936973e+05],\n",
       "       [1.55328541e+03, 1.15577146e+04],\n",
       "       [6.51879921e+03, 4.85052008e+04],\n",
       "       [5.12509548e+02, 3.81349045e+03],\n",
       "       [4.86268017e+03, 3.61823198e+04],\n",
       "       [3.09567140e+03, 2.30343286e+04],\n",
       "       [8.39373590e+02, 6.24562641e+03],\n",
       "       [4.99477636e+02, 3.71652236e+03]]))"
      ]
     },
     "execution_count": 40,
     "metadata": {},
     "output_type": "execute_result"
    }
   ],
   "source": [
    "# import chi2\n",
    "from scipy.stats import chi2_contingency\n",
    "\n",
    "# test between addr_state and loan_status\n",
    "chi2_contingency(pd.crosstab(categorical_df['addr_state'], categorical_df['loan_status']))"
   ]
  },
  {
   "attachments": {},
   "cell_type": "markdown",
   "metadata": {},
   "source": [
    "We can see that that there is no statistical significange between `addr_state` and our target column. Instead of encoding the column and adding 51 new features to our data, we will go ahead and drop it."
   ]
  },
  {
   "cell_type": "code",
   "execution_count": 41,
   "metadata": {},
   "outputs": [],
   "source": [
    "# drop addr_state from categorical_df\n",
    "categorical_df = categorical_df.drop('addr_state', axis=1)"
   ]
  },
  {
   "attachments": {},
   "cell_type": "markdown",
   "metadata": {},
   "source": [
    "### Sanity Check on Categorical and Numerical"
   ]
  },
  {
   "cell_type": "code",
   "execution_count": 42,
   "metadata": {},
   "outputs": [
    {
     "data": {
      "text/html": [
       "<div>\n",
       "<style scoped>\n",
       "    .dataframe tbody tr th:only-of-type {\n",
       "        vertical-align: middle;\n",
       "    }\n",
       "\n",
       "    .dataframe tbody tr th {\n",
       "        vertical-align: top;\n",
       "    }\n",
       "\n",
       "    .dataframe thead th {\n",
       "        text-align: right;\n",
       "    }\n",
       "</style>\n",
       "<table border=\"1\" class=\"dataframe\">\n",
       "  <thead>\n",
       "    <tr style=\"text-align: right;\">\n",
       "      <th></th>\n",
       "      <th>loan_status</th>\n",
       "      <th>initial_list_status</th>\n",
       "      <th>application_type</th>\n",
       "      <th>disbursement_method</th>\n",
       "    </tr>\n",
       "  </thead>\n",
       "  <tbody>\n",
       "    <tr>\n",
       "      <th>0</th>\n",
       "      <td>Paid</td>\n",
       "      <td>w</td>\n",
       "      <td>Individual</td>\n",
       "      <td>Cash</td>\n",
       "    </tr>\n",
       "    <tr>\n",
       "      <th>1</th>\n",
       "      <td>Paid</td>\n",
       "      <td>w</td>\n",
       "      <td>Individual</td>\n",
       "      <td>Cash</td>\n",
       "    </tr>\n",
       "    <tr>\n",
       "      <th>2</th>\n",
       "      <td>Paid</td>\n",
       "      <td>w</td>\n",
       "      <td>Joint App</td>\n",
       "      <td>Cash</td>\n",
       "    </tr>\n",
       "    <tr>\n",
       "      <th>3</th>\n",
       "      <td>Paid</td>\n",
       "      <td>w</td>\n",
       "      <td>Individual</td>\n",
       "      <td>Cash</td>\n",
       "    </tr>\n",
       "    <tr>\n",
       "      <th>4</th>\n",
       "      <td>Paid</td>\n",
       "      <td>w</td>\n",
       "      <td>Individual</td>\n",
       "      <td>Cash</td>\n",
       "    </tr>\n",
       "  </tbody>\n",
       "</table>\n",
       "</div>"
      ],
      "text/plain": [
       "  loan_status initial_list_status application_type disbursement_method\n",
       "0        Paid                   w       Individual                Cash\n",
       "1        Paid                   w       Individual                Cash\n",
       "2        Paid                   w        Joint App                Cash\n",
       "3        Paid                   w       Individual                Cash\n",
       "4        Paid                   w       Individual                Cash"
      ]
     },
     "execution_count": 42,
     "metadata": {},
     "output_type": "execute_result"
    }
   ],
   "source": [
    "categorical_df.head()"
   ]
  },
  {
   "cell_type": "code",
   "execution_count": 43,
   "metadata": {},
   "outputs": [
    {
     "data": {
      "text/html": [
       "<div>\n",
       "<style scoped>\n",
       "    .dataframe tbody tr th:only-of-type {\n",
       "        vertical-align: middle;\n",
       "    }\n",
       "\n",
       "    .dataframe tbody tr th {\n",
       "        vertical-align: top;\n",
       "    }\n",
       "\n",
       "    .dataframe thead th {\n",
       "        text-align: right;\n",
       "    }\n",
       "</style>\n",
       "<table border=\"1\" class=\"dataframe\">\n",
       "  <thead>\n",
       "    <tr style=\"text-align: right;\">\n",
       "      <th></th>\n",
       "      <th>loan_amnt</th>\n",
       "      <th>int_rate</th>\n",
       "      <th>installment</th>\n",
       "      <th>annual_inc</th>\n",
       "      <th>dti</th>\n",
       "      <th>delinq_2yrs</th>\n",
       "      <th>fico_range_low</th>\n",
       "      <th>fico_range_high</th>\n",
       "      <th>inq_last_6mths</th>\n",
       "      <th>open_acc</th>\n",
       "      <th>...</th>\n",
       "      <th>Not Verified</th>\n",
       "      <th>Source Verified</th>\n",
       "      <th>car</th>\n",
       "      <th>credit_card</th>\n",
       "      <th>debt_consolidation</th>\n",
       "      <th>housing</th>\n",
       "      <th>major_purchase</th>\n",
       "      <th>medical</th>\n",
       "      <th>other</th>\n",
       "      <th>small_business</th>\n",
       "    </tr>\n",
       "  </thead>\n",
       "  <tbody>\n",
       "    <tr>\n",
       "      <th>0</th>\n",
       "      <td>3600.0</td>\n",
       "      <td>13.99</td>\n",
       "      <td>123.03</td>\n",
       "      <td>55000.0</td>\n",
       "      <td>5.91</td>\n",
       "      <td>0.0</td>\n",
       "      <td>675.0</td>\n",
       "      <td>679.0</td>\n",
       "      <td>1.0</td>\n",
       "      <td>7.0</td>\n",
       "      <td>...</td>\n",
       "      <td>1.0</td>\n",
       "      <td>0.0</td>\n",
       "      <td>0.0</td>\n",
       "      <td>0.0</td>\n",
       "      <td>1.0</td>\n",
       "      <td>0.0</td>\n",
       "      <td>0.0</td>\n",
       "      <td>0.0</td>\n",
       "      <td>0.0</td>\n",
       "      <td>0.0</td>\n",
       "    </tr>\n",
       "    <tr>\n",
       "      <th>1</th>\n",
       "      <td>24700.0</td>\n",
       "      <td>11.99</td>\n",
       "      <td>820.28</td>\n",
       "      <td>65000.0</td>\n",
       "      <td>16.06</td>\n",
       "      <td>1.0</td>\n",
       "      <td>715.0</td>\n",
       "      <td>719.0</td>\n",
       "      <td>4.0</td>\n",
       "      <td>22.0</td>\n",
       "      <td>...</td>\n",
       "      <td>1.0</td>\n",
       "      <td>0.0</td>\n",
       "      <td>0.0</td>\n",
       "      <td>0.0</td>\n",
       "      <td>0.0</td>\n",
       "      <td>0.0</td>\n",
       "      <td>0.0</td>\n",
       "      <td>0.0</td>\n",
       "      <td>0.0</td>\n",
       "      <td>1.0</td>\n",
       "    </tr>\n",
       "    <tr>\n",
       "      <th>2</th>\n",
       "      <td>20000.0</td>\n",
       "      <td>10.78</td>\n",
       "      <td>432.66</td>\n",
       "      <td>63000.0</td>\n",
       "      <td>10.78</td>\n",
       "      <td>0.0</td>\n",
       "      <td>695.0</td>\n",
       "      <td>699.0</td>\n",
       "      <td>0.0</td>\n",
       "      <td>6.0</td>\n",
       "      <td>...</td>\n",
       "      <td>1.0</td>\n",
       "      <td>0.0</td>\n",
       "      <td>0.0</td>\n",
       "      <td>0.0</td>\n",
       "      <td>0.0</td>\n",
       "      <td>1.0</td>\n",
       "      <td>0.0</td>\n",
       "      <td>0.0</td>\n",
       "      <td>0.0</td>\n",
       "      <td>0.0</td>\n",
       "    </tr>\n",
       "    <tr>\n",
       "      <th>3</th>\n",
       "      <td>35000.0</td>\n",
       "      <td>14.85</td>\n",
       "      <td>829.90</td>\n",
       "      <td>110000.0</td>\n",
       "      <td>17.06</td>\n",
       "      <td>0.0</td>\n",
       "      <td>785.0</td>\n",
       "      <td>789.0</td>\n",
       "      <td>0.0</td>\n",
       "      <td>13.0</td>\n",
       "      <td>...</td>\n",
       "      <td>0.0</td>\n",
       "      <td>1.0</td>\n",
       "      <td>0.0</td>\n",
       "      <td>0.0</td>\n",
       "      <td>1.0</td>\n",
       "      <td>0.0</td>\n",
       "      <td>0.0</td>\n",
       "      <td>0.0</td>\n",
       "      <td>0.0</td>\n",
       "      <td>0.0</td>\n",
       "    </tr>\n",
       "    <tr>\n",
       "      <th>4</th>\n",
       "      <td>10400.0</td>\n",
       "      <td>22.45</td>\n",
       "      <td>289.91</td>\n",
       "      <td>104433.0</td>\n",
       "      <td>25.37</td>\n",
       "      <td>1.0</td>\n",
       "      <td>695.0</td>\n",
       "      <td>699.0</td>\n",
       "      <td>3.0</td>\n",
       "      <td>12.0</td>\n",
       "      <td>...</td>\n",
       "      <td>0.0</td>\n",
       "      <td>1.0</td>\n",
       "      <td>0.0</td>\n",
       "      <td>0.0</td>\n",
       "      <td>0.0</td>\n",
       "      <td>0.0</td>\n",
       "      <td>1.0</td>\n",
       "      <td>0.0</td>\n",
       "      <td>0.0</td>\n",
       "      <td>0.0</td>\n",
       "    </tr>\n",
       "  </tbody>\n",
       "</table>\n",
       "<p>5 rows × 73 columns</p>\n",
       "</div>"
      ],
      "text/plain": [
       "   loan_amnt  int_rate  installment  annual_inc    dti  delinq_2yrs  \\\n",
       "0     3600.0     13.99       123.03     55000.0   5.91          0.0   \n",
       "1    24700.0     11.99       820.28     65000.0  16.06          1.0   \n",
       "2    20000.0     10.78       432.66     63000.0  10.78          0.0   \n",
       "3    35000.0     14.85       829.90    110000.0  17.06          0.0   \n",
       "4    10400.0     22.45       289.91    104433.0  25.37          1.0   \n",
       "\n",
       "   fico_range_low  fico_range_high  inq_last_6mths  open_acc  ...  \\\n",
       "0           675.0            679.0             1.0       7.0  ...   \n",
       "1           715.0            719.0             4.0      22.0  ...   \n",
       "2           695.0            699.0             0.0       6.0  ...   \n",
       "3           785.0            789.0             0.0      13.0  ...   \n",
       "4           695.0            699.0             3.0      12.0  ...   \n",
       "\n",
       "   Not Verified  Source Verified  car  credit_card  debt_consolidation  \\\n",
       "0           1.0              0.0  0.0          0.0                 1.0   \n",
       "1           1.0              0.0  0.0          0.0                 0.0   \n",
       "2           1.0              0.0  0.0          0.0                 0.0   \n",
       "3           0.0              1.0  0.0          0.0                 1.0   \n",
       "4           0.0              1.0  0.0          0.0                 0.0   \n",
       "\n",
       "   housing  major_purchase  medical  other  small_business  \n",
       "0      0.0             0.0      0.0    0.0             0.0  \n",
       "1      0.0             0.0      0.0    0.0             1.0  \n",
       "2      1.0             0.0      0.0    0.0             0.0  \n",
       "3      0.0             0.0      0.0    0.0             0.0  \n",
       "4      0.0             1.0      0.0    0.0             0.0  \n",
       "\n",
       "[5 rows x 73 columns]"
      ]
     },
     "execution_count": 43,
     "metadata": {},
     "output_type": "execute_result"
    }
   ],
   "source": [
    "numerical_df.head()"
   ]
  },
  {
   "cell_type": "markdown",
   "metadata": {},
   "source": [
    "### Initial List Status"
   ]
  },
  {
   "attachments": {},
   "cell_type": "markdown",
   "metadata": {},
   "source": [
    "Next, we can look at `initial_list_status`."
   ]
  },
  {
   "attachments": {},
   "cell_type": "markdown",
   "metadata": {},
   "source": [
    "*Data Dictionary*\n",
    "- initial_list_status: The initial listing status of the loan. Possible values are – W(whole loans), F(fractional loans)"
   ]
  },
  {
   "attachments": {},
   "cell_type": "markdown",
   "metadata": {},
   "source": [
    "Let's look at the values in the feature:"
   ]
  },
  {
   "cell_type": "code",
   "execution_count": 44,
   "metadata": {},
   "outputs": [
    {
     "data": {
      "text/plain": [
       "w    1379903\n",
       "f     593037\n",
       "Name: initial_list_status, dtype: int64"
      ]
     },
     "execution_count": 44,
     "metadata": {},
     "output_type": "execute_result"
    }
   ],
   "source": [
    "categorical_df['initial_list_status'].value_counts()"
   ]
  },
  {
   "attachments": {},
   "cell_type": "markdown",
   "metadata": {},
   "source": [
    "We have two values, whole and fractional loans. To make this more clear, we are going to change the names of the values using a mapper."
   ]
  },
  {
   "cell_type": "code",
   "execution_count": 45,
   "metadata": {},
   "outputs": [
    {
     "data": {
      "text/plain": [
       "whole         1379903\n",
       "fractional     593037\n",
       "Name: initial_list_status, dtype: int64"
      ]
     },
     "execution_count": 45,
     "metadata": {},
     "output_type": "execute_result"
    }
   ],
   "source": [
    "# mapper\n",
    "initial_list_status_mapper = {'w': \"whole\", 'f': \"fractional\"}\n",
    "\n",
    "# replace values\n",
    "categorical_df['initial_list_status'] = categorical_df['initial_list_status'].replace(initial_list_status_mapper)\n",
    "\n",
    "# get new value counts\n",
    "categorical_df['initial_list_status'].value_counts()"
   ]
  },
  {
   "attachments": {},
   "cell_type": "markdown",
   "metadata": {},
   "source": [
    "Now that the names of the values are clear, we can use One Hot Encoding to create binary columns."
   ]
  },
  {
   "cell_type": "code",
   "execution_count": 46,
   "metadata": {},
   "outputs": [],
   "source": [
    "# one hot encode initial_list_status column\n",
    "initial_list_status_ohe = ohe.fit_transform(categorical_df[['initial_list_status']]).toarray()\n",
    "\n",
    "# combine one hot encoded columns with categorical_df\n",
    "categorical_df = pd.concat([categorical_df, pd.DataFrame(initial_list_status_ohe, columns=ohe.categories_[0])], axis=1)\n",
    "\n",
    "# reset index\n",
    "categorical_df = categorical_df.reset_index(drop=True)"
   ]
  },
  {
   "attachments": {},
   "cell_type": "markdown",
   "metadata": {},
   "source": [
    "We can now drop `inital_list_status` from our categorical data and add the encoded columns to the numeric data."
   ]
  },
  {
   "cell_type": "code",
   "execution_count": 47,
   "metadata": {},
   "outputs": [],
   "source": [
    "# drop inital_list_status column from categorical_df\n",
    "categorical_df = categorical_df.drop('initial_list_status', axis=1)\n",
    "\n",
    "# add encoded columns to numerical_df\n",
    "numerical_df = pd.concat([numerical_df, pd.DataFrame(initial_list_status_ohe, columns=ohe.categories_[0])], axis=1)\n",
    "\n",
    "# reset index\n",
    "numerical_df = numerical_df.reset_index(drop=True)"
   ]
  },
  {
   "attachments": {},
   "cell_type": "markdown",
   "metadata": {},
   "source": [
    "Now we are going to drop the encoded columns from our categorical data and drop \"fractional\" from our numeric data as the reference column."
   ]
  },
  {
   "cell_type": "code",
   "execution_count": 48,
   "metadata": {},
   "outputs": [],
   "source": [
    "# drop encoded columns from categorical_df\n",
    "categorical_df = categorical_df.drop(['fractional', 'whole'], axis=1)\n",
    "\n",
    "# drop fractional column from numerical_df\n",
    "numerical_df = numerical_df.drop('fractional', axis=1)"
   ]
  },
  {
   "cell_type": "markdown",
   "metadata": {},
   "source": [
    "### Application Type"
   ]
  },
  {
   "attachments": {},
   "cell_type": "markdown",
   "metadata": {},
   "source": [
    "Next we have the `application_type`."
   ]
  },
  {
   "cell_type": "markdown",
   "metadata": {},
   "source": [
    "*Data Dictionary*\n",
    "- application_type: Indicates whether the loan is an individual application or a joint application with two co-borrowers"
   ]
  },
  {
   "cell_type": "code",
   "execution_count": 49,
   "metadata": {},
   "outputs": [
    {
     "data": {
      "text/plain": [
       "Individual    1876112\n",
       "Joint App       96828\n",
       "Name: application_type, dtype: int64"
      ]
     },
     "execution_count": 49,
     "metadata": {},
     "output_type": "execute_result"
    }
   ],
   "source": [
    "categorical_df['application_type'].value_counts()"
   ]
  },
  {
   "attachments": {},
   "cell_type": "markdown",
   "metadata": {},
   "source": [
    "Since almost all values are Individual appliactions, we could drop the column. But let's check if application type has any impact on loan status."
   ]
  },
  {
   "cell_type": "code",
   "execution_count": 50,
   "metadata": {},
   "outputs": [
    {
     "data": {
      "text/html": [
       "<div>\n",
       "<style scoped>\n",
       "    .dataframe tbody tr th:only-of-type {\n",
       "        vertical-align: middle;\n",
       "    }\n",
       "\n",
       "    .dataframe tbody tr th {\n",
       "        vertical-align: top;\n",
       "    }\n",
       "\n",
       "    .dataframe thead th {\n",
       "        text-align: right;\n",
       "    }\n",
       "</style>\n",
       "<table border=\"1\" class=\"dataframe\">\n",
       "  <thead>\n",
       "    <tr style=\"text-align: right;\">\n",
       "      <th>application_type</th>\n",
       "      <th>Individual</th>\n",
       "      <th>Joint App</th>\n",
       "    </tr>\n",
       "    <tr>\n",
       "      <th>loan_status</th>\n",
       "      <th></th>\n",
       "      <th></th>\n",
       "    </tr>\n",
       "  </thead>\n",
       "  <tbody>\n",
       "    <tr>\n",
       "      <th>Default</th>\n",
       "      <td>228748</td>\n",
       "      <td>4990</td>\n",
       "    </tr>\n",
       "    <tr>\n",
       "      <th>Paid</th>\n",
       "      <td>1647364</td>\n",
       "      <td>91838</td>\n",
       "    </tr>\n",
       "  </tbody>\n",
       "</table>\n",
       "</div>"
      ],
      "text/plain": [
       "application_type  Individual  Joint App\n",
       "loan_status                            \n",
       "Default               228748       4990\n",
       "Paid                 1647364      91838"
      ]
     },
     "execution_count": 50,
     "metadata": {},
     "output_type": "execute_result"
    }
   ],
   "source": [
    "# application_type vs loan_status\n",
    "pd.crosstab(categorical_df['application_type'], categorical_df['loan_status']).T"
   ]
  },
  {
   "attachments": {},
   "cell_type": "markdown",
   "metadata": {},
   "source": [
    "We can see that Individual applications have a higher percentage of default loans that Joint applications. We are going to One Hot Encode this column."
   ]
  },
  {
   "cell_type": "code",
   "execution_count": 51,
   "metadata": {},
   "outputs": [],
   "source": [
    "# one hot encode application_type column\n",
    "application_type_ohe = ohe.fit_transform(categorical_df[['application_type']]).toarray()\n",
    "\n",
    "# combine one hot encoded columns with categorical_df\n",
    "categorical_df = pd.concat([categorical_df, pd.DataFrame(application_type_ohe, columns=ohe.categories_[0])], axis=1)\n",
    "\n",
    "# reset index\n",
    "categorical_df = categorical_df.reset_index(drop=True)"
   ]
  },
  {
   "attachments": {},
   "cell_type": "markdown",
   "metadata": {},
   "source": [
    "We can now drop `application_type` from our categorical data and add the encoded columns to the numeric data."
   ]
  },
  {
   "cell_type": "code",
   "execution_count": 52,
   "metadata": {},
   "outputs": [],
   "source": [
    "# drop application_type column from categorical_df\n",
    "categorical_df = categorical_df.drop('application_type', axis=1)\n",
    "\n",
    "# add encoded columns to numerical_df\n",
    "numerical_df = pd.concat([numerical_df, pd.DataFrame(application_type_ohe, columns=ohe.categories_[0])], axis=1)\n",
    "\n",
    "# reset index\n",
    "numerical_df = numerical_df.reset_index(drop=True)"
   ]
  },
  {
   "attachments": {},
   "cell_type": "markdown",
   "metadata": {},
   "source": [
    "Now we are going to drop the encoded columns from our categorical data and drop \"Joint App\" from our numeric data as the reference column."
   ]
  },
  {
   "cell_type": "code",
   "execution_count": 53,
   "metadata": {},
   "outputs": [],
   "source": [
    "# drop encoded columns from categorical_df\n",
    "categorical_df = categorical_df.drop(['Individual', 'Joint App'], axis=1)\n",
    "\n",
    "# drop Joint App column from numerical_df\n",
    "numerical_df = numerical_df.drop('Joint App', axis=1)"
   ]
  },
  {
   "cell_type": "markdown",
   "metadata": {},
   "source": [
    "### Sanity Check on Categorical and Numerical"
   ]
  },
  {
   "cell_type": "code",
   "execution_count": 54,
   "metadata": {},
   "outputs": [
    {
     "data": {
      "text/html": [
       "<div>\n",
       "<style scoped>\n",
       "    .dataframe tbody tr th:only-of-type {\n",
       "        vertical-align: middle;\n",
       "    }\n",
       "\n",
       "    .dataframe tbody tr th {\n",
       "        vertical-align: top;\n",
       "    }\n",
       "\n",
       "    .dataframe thead th {\n",
       "        text-align: right;\n",
       "    }\n",
       "</style>\n",
       "<table border=\"1\" class=\"dataframe\">\n",
       "  <thead>\n",
       "    <tr style=\"text-align: right;\">\n",
       "      <th></th>\n",
       "      <th>loan_status</th>\n",
       "      <th>disbursement_method</th>\n",
       "    </tr>\n",
       "  </thead>\n",
       "  <tbody>\n",
       "    <tr>\n",
       "      <th>0</th>\n",
       "      <td>Paid</td>\n",
       "      <td>Cash</td>\n",
       "    </tr>\n",
       "    <tr>\n",
       "      <th>1</th>\n",
       "      <td>Paid</td>\n",
       "      <td>Cash</td>\n",
       "    </tr>\n",
       "    <tr>\n",
       "      <th>2</th>\n",
       "      <td>Paid</td>\n",
       "      <td>Cash</td>\n",
       "    </tr>\n",
       "    <tr>\n",
       "      <th>3</th>\n",
       "      <td>Paid</td>\n",
       "      <td>Cash</td>\n",
       "    </tr>\n",
       "    <tr>\n",
       "      <th>4</th>\n",
       "      <td>Paid</td>\n",
       "      <td>Cash</td>\n",
       "    </tr>\n",
       "  </tbody>\n",
       "</table>\n",
       "</div>"
      ],
      "text/plain": [
       "  loan_status disbursement_method\n",
       "0        Paid                Cash\n",
       "1        Paid                Cash\n",
       "2        Paid                Cash\n",
       "3        Paid                Cash\n",
       "4        Paid                Cash"
      ]
     },
     "execution_count": 54,
     "metadata": {},
     "output_type": "execute_result"
    }
   ],
   "source": [
    "categorical_df.head()"
   ]
  },
  {
   "cell_type": "code",
   "execution_count": 55,
   "metadata": {},
   "outputs": [
    {
     "data": {
      "text/html": [
       "<div>\n",
       "<style scoped>\n",
       "    .dataframe tbody tr th:only-of-type {\n",
       "        vertical-align: middle;\n",
       "    }\n",
       "\n",
       "    .dataframe tbody tr th {\n",
       "        vertical-align: top;\n",
       "    }\n",
       "\n",
       "    .dataframe thead th {\n",
       "        text-align: right;\n",
       "    }\n",
       "</style>\n",
       "<table border=\"1\" class=\"dataframe\">\n",
       "  <thead>\n",
       "    <tr style=\"text-align: right;\">\n",
       "      <th></th>\n",
       "      <th>loan_amnt</th>\n",
       "      <th>int_rate</th>\n",
       "      <th>installment</th>\n",
       "      <th>annual_inc</th>\n",
       "      <th>dti</th>\n",
       "      <th>delinq_2yrs</th>\n",
       "      <th>fico_range_low</th>\n",
       "      <th>fico_range_high</th>\n",
       "      <th>inq_last_6mths</th>\n",
       "      <th>open_acc</th>\n",
       "      <th>...</th>\n",
       "      <th>car</th>\n",
       "      <th>credit_card</th>\n",
       "      <th>debt_consolidation</th>\n",
       "      <th>housing</th>\n",
       "      <th>major_purchase</th>\n",
       "      <th>medical</th>\n",
       "      <th>other</th>\n",
       "      <th>small_business</th>\n",
       "      <th>whole</th>\n",
       "      <th>Individual</th>\n",
       "    </tr>\n",
       "  </thead>\n",
       "  <tbody>\n",
       "    <tr>\n",
       "      <th>0</th>\n",
       "      <td>3600.0</td>\n",
       "      <td>13.99</td>\n",
       "      <td>123.03</td>\n",
       "      <td>55000.0</td>\n",
       "      <td>5.91</td>\n",
       "      <td>0.0</td>\n",
       "      <td>675.0</td>\n",
       "      <td>679.0</td>\n",
       "      <td>1.0</td>\n",
       "      <td>7.0</td>\n",
       "      <td>...</td>\n",
       "      <td>0.0</td>\n",
       "      <td>0.0</td>\n",
       "      <td>1.0</td>\n",
       "      <td>0.0</td>\n",
       "      <td>0.0</td>\n",
       "      <td>0.0</td>\n",
       "      <td>0.0</td>\n",
       "      <td>0.0</td>\n",
       "      <td>1.0</td>\n",
       "      <td>1.0</td>\n",
       "    </tr>\n",
       "    <tr>\n",
       "      <th>1</th>\n",
       "      <td>24700.0</td>\n",
       "      <td>11.99</td>\n",
       "      <td>820.28</td>\n",
       "      <td>65000.0</td>\n",
       "      <td>16.06</td>\n",
       "      <td>1.0</td>\n",
       "      <td>715.0</td>\n",
       "      <td>719.0</td>\n",
       "      <td>4.0</td>\n",
       "      <td>22.0</td>\n",
       "      <td>...</td>\n",
       "      <td>0.0</td>\n",
       "      <td>0.0</td>\n",
       "      <td>0.0</td>\n",
       "      <td>0.0</td>\n",
       "      <td>0.0</td>\n",
       "      <td>0.0</td>\n",
       "      <td>0.0</td>\n",
       "      <td>1.0</td>\n",
       "      <td>1.0</td>\n",
       "      <td>1.0</td>\n",
       "    </tr>\n",
       "    <tr>\n",
       "      <th>2</th>\n",
       "      <td>20000.0</td>\n",
       "      <td>10.78</td>\n",
       "      <td>432.66</td>\n",
       "      <td>63000.0</td>\n",
       "      <td>10.78</td>\n",
       "      <td>0.0</td>\n",
       "      <td>695.0</td>\n",
       "      <td>699.0</td>\n",
       "      <td>0.0</td>\n",
       "      <td>6.0</td>\n",
       "      <td>...</td>\n",
       "      <td>0.0</td>\n",
       "      <td>0.0</td>\n",
       "      <td>0.0</td>\n",
       "      <td>1.0</td>\n",
       "      <td>0.0</td>\n",
       "      <td>0.0</td>\n",
       "      <td>0.0</td>\n",
       "      <td>0.0</td>\n",
       "      <td>1.0</td>\n",
       "      <td>0.0</td>\n",
       "    </tr>\n",
       "    <tr>\n",
       "      <th>3</th>\n",
       "      <td>35000.0</td>\n",
       "      <td>14.85</td>\n",
       "      <td>829.90</td>\n",
       "      <td>110000.0</td>\n",
       "      <td>17.06</td>\n",
       "      <td>0.0</td>\n",
       "      <td>785.0</td>\n",
       "      <td>789.0</td>\n",
       "      <td>0.0</td>\n",
       "      <td>13.0</td>\n",
       "      <td>...</td>\n",
       "      <td>0.0</td>\n",
       "      <td>0.0</td>\n",
       "      <td>1.0</td>\n",
       "      <td>0.0</td>\n",
       "      <td>0.0</td>\n",
       "      <td>0.0</td>\n",
       "      <td>0.0</td>\n",
       "      <td>0.0</td>\n",
       "      <td>1.0</td>\n",
       "      <td>1.0</td>\n",
       "    </tr>\n",
       "    <tr>\n",
       "      <th>4</th>\n",
       "      <td>10400.0</td>\n",
       "      <td>22.45</td>\n",
       "      <td>289.91</td>\n",
       "      <td>104433.0</td>\n",
       "      <td>25.37</td>\n",
       "      <td>1.0</td>\n",
       "      <td>695.0</td>\n",
       "      <td>699.0</td>\n",
       "      <td>3.0</td>\n",
       "      <td>12.0</td>\n",
       "      <td>...</td>\n",
       "      <td>0.0</td>\n",
       "      <td>0.0</td>\n",
       "      <td>0.0</td>\n",
       "      <td>0.0</td>\n",
       "      <td>1.0</td>\n",
       "      <td>0.0</td>\n",
       "      <td>0.0</td>\n",
       "      <td>0.0</td>\n",
       "      <td>1.0</td>\n",
       "      <td>1.0</td>\n",
       "    </tr>\n",
       "  </tbody>\n",
       "</table>\n",
       "<p>5 rows × 75 columns</p>\n",
       "</div>"
      ],
      "text/plain": [
       "   loan_amnt  int_rate  installment  annual_inc    dti  delinq_2yrs  \\\n",
       "0     3600.0     13.99       123.03     55000.0   5.91          0.0   \n",
       "1    24700.0     11.99       820.28     65000.0  16.06          1.0   \n",
       "2    20000.0     10.78       432.66     63000.0  10.78          0.0   \n",
       "3    35000.0     14.85       829.90    110000.0  17.06          0.0   \n",
       "4    10400.0     22.45       289.91    104433.0  25.37          1.0   \n",
       "\n",
       "   fico_range_low  fico_range_high  inq_last_6mths  open_acc  ...  car  \\\n",
       "0           675.0            679.0             1.0       7.0  ...  0.0   \n",
       "1           715.0            719.0             4.0      22.0  ...  0.0   \n",
       "2           695.0            699.0             0.0       6.0  ...  0.0   \n",
       "3           785.0            789.0             0.0      13.0  ...  0.0   \n",
       "4           695.0            699.0             3.0      12.0  ...  0.0   \n",
       "\n",
       "   credit_card  debt_consolidation  housing  major_purchase  medical  other  \\\n",
       "0          0.0                 1.0      0.0             0.0      0.0    0.0   \n",
       "1          0.0                 0.0      0.0             0.0      0.0    0.0   \n",
       "2          0.0                 0.0      1.0             0.0      0.0    0.0   \n",
       "3          0.0                 1.0      0.0             0.0      0.0    0.0   \n",
       "4          0.0                 0.0      0.0             1.0      0.0    0.0   \n",
       "\n",
       "   small_business  whole  Individual  \n",
       "0             0.0    1.0         1.0  \n",
       "1             1.0    1.0         1.0  \n",
       "2             0.0    1.0         0.0  \n",
       "3             0.0    1.0         1.0  \n",
       "4             0.0    1.0         1.0  \n",
       "\n",
       "[5 rows x 75 columns]"
      ]
     },
     "execution_count": 55,
     "metadata": {},
     "output_type": "execute_result"
    }
   ],
   "source": [
    "numerical_df.head()"
   ]
  },
  {
   "cell_type": "markdown",
   "metadata": {},
   "source": [
    "### Disbursement Method"
   ]
  },
  {
   "attachments": {},
   "cell_type": "markdown",
   "metadata": {},
   "source": [
    "Now we can process `disbursement_method`."
   ]
  },
  {
   "cell_type": "markdown",
   "metadata": {},
   "source": [
    "*Data Dictionary*\n",
    "- disbursement_method: The method by which the borrower receives their loan. Possible values are: CASH, DIRECT_PAY"
   ]
  },
  {
   "attachments": {},
   "cell_type": "markdown",
   "metadata": {},
   "source": [
    "Let's look at the values in this feature:"
   ]
  },
  {
   "cell_type": "code",
   "execution_count": 56,
   "metadata": {},
   "outputs": [
    {
     "data": {
      "text/plain": [
       "Cash         1903231\n",
       "DirectPay      69709\n",
       "Name: disbursement_method, dtype: int64"
      ]
     },
     "execution_count": 56,
     "metadata": {},
     "output_type": "execute_result"
    }
   ],
   "source": [
    "categorical_df['disbursement_method'].value_counts()"
   ]
  },
  {
   "attachments": {},
   "cell_type": "markdown",
   "metadata": {},
   "source": [
    "We have two unique values, Cash and DirectPay. Cash takes up the majority of the data. Let's see how this column compares to `loan_status`."
   ]
  },
  {
   "cell_type": "code",
   "execution_count": 57,
   "metadata": {},
   "outputs": [
    {
     "data": {
      "text/html": [
       "<div>\n",
       "<style scoped>\n",
       "    .dataframe tbody tr th:only-of-type {\n",
       "        vertical-align: middle;\n",
       "    }\n",
       "\n",
       "    .dataframe tbody tr th {\n",
       "        vertical-align: top;\n",
       "    }\n",
       "\n",
       "    .dataframe thead th {\n",
       "        text-align: right;\n",
       "    }\n",
       "</style>\n",
       "<table border=\"1\" class=\"dataframe\">\n",
       "  <thead>\n",
       "    <tr style=\"text-align: right;\">\n",
       "      <th>disbursement_method</th>\n",
       "      <th>Cash</th>\n",
       "      <th>DirectPay</th>\n",
       "    </tr>\n",
       "    <tr>\n",
       "      <th>loan_status</th>\n",
       "      <th></th>\n",
       "      <th></th>\n",
       "    </tr>\n",
       "  </thead>\n",
       "  <tbody>\n",
       "    <tr>\n",
       "      <th>Default</th>\n",
       "      <td>232547</td>\n",
       "      <td>1191</td>\n",
       "    </tr>\n",
       "    <tr>\n",
       "      <th>Paid</th>\n",
       "      <td>1670684</td>\n",
       "      <td>68518</td>\n",
       "    </tr>\n",
       "  </tbody>\n",
       "</table>\n",
       "</div>"
      ],
      "text/plain": [
       "disbursement_method     Cash  DirectPay\n",
       "loan_status                            \n",
       "Default               232547       1191\n",
       "Paid                 1670684      68518"
      ]
     },
     "execution_count": 57,
     "metadata": {},
     "output_type": "execute_result"
    }
   ],
   "source": [
    "# disbursement_method vs loan_status   \n",
    "pd.crosstab(categorical_df['disbursement_method'], categorical_df['loan_status']).T"
   ]
  },
  {
   "attachments": {},
   "cell_type": "markdown",
   "metadata": {},
   "source": [
    "Cash looks to have a much higher percentage of default loans than DirectPay. We are going to One Hot Encode this Column."
   ]
  },
  {
   "cell_type": "code",
   "execution_count": 58,
   "metadata": {},
   "outputs": [],
   "source": [
    "# one hot encode disbursement_method column\n",
    "disbursement_method_ohe = ohe.fit_transform(categorical_df[['disbursement_method']]).toarray()\n",
    "\n",
    "# combine one hot encoded columns with categorical_df\n",
    "categorical_df = pd.concat([categorical_df, pd.DataFrame(disbursement_method_ohe, columns=ohe.categories_[0])], axis=1)\n",
    "\n",
    "# reset index\n",
    "categorical_df = categorical_df.reset_index(drop=True)"
   ]
  },
  {
   "attachments": {},
   "cell_type": "markdown",
   "metadata": {},
   "source": [
    "We can now drop `disbursement_method` from our categorical data and add the encoded columns to the numeric data."
   ]
  },
  {
   "cell_type": "code",
   "execution_count": 59,
   "metadata": {},
   "outputs": [],
   "source": [
    "# drop disbursement_method column from categorical_df\n",
    "categorical_df = categorical_df.drop('disbursement_method', axis=1)\n",
    "\n",
    "# add encoded columns to numerical_df\n",
    "numerical_df = pd.concat([numerical_df, pd.DataFrame(disbursement_method_ohe, columns=ohe.categories_[0])], axis=1)\n",
    "\n",
    "# reset index\n",
    "numerical_df = numerical_df.reset_index(drop=True)"
   ]
  },
  {
   "attachments": {},
   "cell_type": "markdown",
   "metadata": {},
   "source": [
    "Now we are going to drop the encoded columns from our categorical data and drop \"DirectPay\" from our numeric data as the reference column."
   ]
  },
  {
   "cell_type": "code",
   "execution_count": 60,
   "metadata": {},
   "outputs": [],
   "source": [
    "# drop encoded columns from categorical_df\n",
    "categorical_df = categorical_df.drop(['Cash', 'DirectPay'], axis=1)\n",
    "\n",
    "# drop DirectPay column from numerical_df\n",
    "numerical_df = numerical_df.drop('DirectPay', axis=1)"
   ]
  },
  {
   "cell_type": "code",
   "execution_count": 61,
   "metadata": {},
   "outputs": [
    {
     "data": {
      "text/html": [
       "<div>\n",
       "<style scoped>\n",
       "    .dataframe tbody tr th:only-of-type {\n",
       "        vertical-align: middle;\n",
       "    }\n",
       "\n",
       "    .dataframe tbody tr th {\n",
       "        vertical-align: top;\n",
       "    }\n",
       "\n",
       "    .dataframe thead th {\n",
       "        text-align: right;\n",
       "    }\n",
       "</style>\n",
       "<table border=\"1\" class=\"dataframe\">\n",
       "  <thead>\n",
       "    <tr style=\"text-align: right;\">\n",
       "      <th></th>\n",
       "      <th>loan_status</th>\n",
       "    </tr>\n",
       "  </thead>\n",
       "  <tbody>\n",
       "    <tr>\n",
       "      <th>0</th>\n",
       "      <td>Paid</td>\n",
       "    </tr>\n",
       "    <tr>\n",
       "      <th>1</th>\n",
       "      <td>Paid</td>\n",
       "    </tr>\n",
       "    <tr>\n",
       "      <th>2</th>\n",
       "      <td>Paid</td>\n",
       "    </tr>\n",
       "    <tr>\n",
       "      <th>3</th>\n",
       "      <td>Paid</td>\n",
       "    </tr>\n",
       "    <tr>\n",
       "      <th>4</th>\n",
       "      <td>Paid</td>\n",
       "    </tr>\n",
       "  </tbody>\n",
       "</table>\n",
       "</div>"
      ],
      "text/plain": [
       "  loan_status\n",
       "0        Paid\n",
       "1        Paid\n",
       "2        Paid\n",
       "3        Paid\n",
       "4        Paid"
      ]
     },
     "execution_count": 61,
     "metadata": {},
     "output_type": "execute_result"
    }
   ],
   "source": [
    "categorical_df.head()"
   ]
  },
  {
   "cell_type": "markdown",
   "metadata": {},
   "source": [
    "### Loan Status"
   ]
  },
  {
   "attachments": {},
   "cell_type": "markdown",
   "metadata": {},
   "source": [
    "Our last column to process is `loan_status` which is our target."
   ]
  },
  {
   "cell_type": "markdown",
   "metadata": {},
   "source": [
    "*Data Dictionary*\n",
    "- loan_status: Current status of the loan"
   ]
  },
  {
   "attachments": {},
   "cell_type": "markdown",
   "metadata": {},
   "source": [
    "We have already mapped this column to have only Paid and Default loans but let's look at the values."
   ]
  },
  {
   "cell_type": "code",
   "execution_count": 62,
   "metadata": {},
   "outputs": [
    {
     "name": "stdout",
     "output_type": "stream",
     "text": [
      "Paid       1739202\n",
      "Default     233738\n",
      "Name: loan_status, dtype: int64\n"
     ]
    }
   ],
   "source": [
    "# value counts\n",
    "print(categorical_df['loan_status'].value_counts())"
   ]
  },
  {
   "attachments": {},
   "cell_type": "markdown",
   "metadata": {},
   "source": [
    "We can now map Paid loans to \"0\" and Default loans to \"1\"."
   ]
  },
  {
   "cell_type": "code",
   "execution_count": 63,
   "metadata": {},
   "outputs": [
    {
     "data": {
      "text/plain": [
       "0    1739202\n",
       "1     233738\n",
       "Name: loan_status, dtype: int64"
      ]
     },
     "execution_count": 63,
     "metadata": {},
     "output_type": "execute_result"
    }
   ],
   "source": [
    "# mapper\n",
    "loan_status_mapper = {'Paid': 0, 'Default': 1}\n",
    "\n",
    "# replace values\n",
    "categorical_df['loan_status'] = categorical_df['loan_status'].replace(loan_status_mapper)\n",
    "\n",
    "# get new value counts\n",
    "categorical_df['loan_status'].value_counts()"
   ]
  },
  {
   "attachments": {},
   "cell_type": "markdown",
   "metadata": {},
   "source": [
    "Now that the values are mapped, we are going to convert the column to an integer, drop it from our categorical data and add it to our numerical data."
   ]
  },
  {
   "cell_type": "code",
   "execution_count": 64,
   "metadata": {},
   "outputs": [],
   "source": [
    "# change loan_status to int\n",
    "categorical_df['loan_status'] = categorical_df['loan_status'].astype(int)"
   ]
  },
  {
   "cell_type": "code",
   "execution_count": 65,
   "metadata": {},
   "outputs": [],
   "source": [
    "# drop loan_status from categorical_df and add to numerical_df\n",
    "numerical_df['loan_status'] = categorical_df['loan_status']\n",
    "categorical_df = categorical_df.drop(columns='loan_status')"
   ]
  },
  {
   "cell_type": "markdown",
   "metadata": {},
   "source": [
    "### Sanity Checks"
   ]
  },
  {
   "cell_type": "code",
   "execution_count": 66,
   "metadata": {},
   "outputs": [
    {
     "data": {
      "text/html": [
       "<div>\n",
       "<style scoped>\n",
       "    .dataframe tbody tr th:only-of-type {\n",
       "        vertical-align: middle;\n",
       "    }\n",
       "\n",
       "    .dataframe tbody tr th {\n",
       "        vertical-align: top;\n",
       "    }\n",
       "\n",
       "    .dataframe thead th {\n",
       "        text-align: right;\n",
       "    }\n",
       "</style>\n",
       "<table border=\"1\" class=\"dataframe\">\n",
       "  <thead>\n",
       "    <tr style=\"text-align: right;\">\n",
       "      <th></th>\n",
       "    </tr>\n",
       "  </thead>\n",
       "  <tbody>\n",
       "    <tr>\n",
       "      <th>0</th>\n",
       "    </tr>\n",
       "    <tr>\n",
       "      <th>1</th>\n",
       "    </tr>\n",
       "    <tr>\n",
       "      <th>2</th>\n",
       "    </tr>\n",
       "    <tr>\n",
       "      <th>3</th>\n",
       "    </tr>\n",
       "    <tr>\n",
       "      <th>4</th>\n",
       "    </tr>\n",
       "  </tbody>\n",
       "</table>\n",
       "</div>"
      ],
      "text/plain": [
       "Empty DataFrame\n",
       "Columns: []\n",
       "Index: [0, 1, 2, 3, 4]"
      ]
     },
     "execution_count": 66,
     "metadata": {},
     "output_type": "execute_result"
    }
   ],
   "source": [
    "categorical_df.head()"
   ]
  },
  {
   "attachments": {},
   "cell_type": "markdown",
   "metadata": {},
   "source": [
    "We have no more columns to process."
   ]
  },
  {
   "cell_type": "code",
   "execution_count": 67,
   "metadata": {},
   "outputs": [
    {
     "data": {
      "text/html": [
       "<div>\n",
       "<style scoped>\n",
       "    .dataframe tbody tr th:only-of-type {\n",
       "        vertical-align: middle;\n",
       "    }\n",
       "\n",
       "    .dataframe tbody tr th {\n",
       "        vertical-align: top;\n",
       "    }\n",
       "\n",
       "    .dataframe thead th {\n",
       "        text-align: right;\n",
       "    }\n",
       "</style>\n",
       "<table border=\"1\" class=\"dataframe\">\n",
       "  <thead>\n",
       "    <tr style=\"text-align: right;\">\n",
       "      <th></th>\n",
       "      <th>loan_amnt</th>\n",
       "      <th>int_rate</th>\n",
       "      <th>installment</th>\n",
       "      <th>annual_inc</th>\n",
       "      <th>dti</th>\n",
       "      <th>delinq_2yrs</th>\n",
       "      <th>fico_range_low</th>\n",
       "      <th>fico_range_high</th>\n",
       "      <th>inq_last_6mths</th>\n",
       "      <th>open_acc</th>\n",
       "      <th>...</th>\n",
       "      <th>debt_consolidation</th>\n",
       "      <th>housing</th>\n",
       "      <th>major_purchase</th>\n",
       "      <th>medical</th>\n",
       "      <th>other</th>\n",
       "      <th>small_business</th>\n",
       "      <th>whole</th>\n",
       "      <th>Individual</th>\n",
       "      <th>Cash</th>\n",
       "      <th>loan_status</th>\n",
       "    </tr>\n",
       "  </thead>\n",
       "  <tbody>\n",
       "    <tr>\n",
       "      <th>0</th>\n",
       "      <td>3600.0</td>\n",
       "      <td>13.99</td>\n",
       "      <td>123.03</td>\n",
       "      <td>55000.0</td>\n",
       "      <td>5.91</td>\n",
       "      <td>0.0</td>\n",
       "      <td>675.0</td>\n",
       "      <td>679.0</td>\n",
       "      <td>1.0</td>\n",
       "      <td>7.0</td>\n",
       "      <td>...</td>\n",
       "      <td>1.0</td>\n",
       "      <td>0.0</td>\n",
       "      <td>0.0</td>\n",
       "      <td>0.0</td>\n",
       "      <td>0.0</td>\n",
       "      <td>0.0</td>\n",
       "      <td>1.0</td>\n",
       "      <td>1.0</td>\n",
       "      <td>1.0</td>\n",
       "      <td>0</td>\n",
       "    </tr>\n",
       "    <tr>\n",
       "      <th>1</th>\n",
       "      <td>24700.0</td>\n",
       "      <td>11.99</td>\n",
       "      <td>820.28</td>\n",
       "      <td>65000.0</td>\n",
       "      <td>16.06</td>\n",
       "      <td>1.0</td>\n",
       "      <td>715.0</td>\n",
       "      <td>719.0</td>\n",
       "      <td>4.0</td>\n",
       "      <td>22.0</td>\n",
       "      <td>...</td>\n",
       "      <td>0.0</td>\n",
       "      <td>0.0</td>\n",
       "      <td>0.0</td>\n",
       "      <td>0.0</td>\n",
       "      <td>0.0</td>\n",
       "      <td>1.0</td>\n",
       "      <td>1.0</td>\n",
       "      <td>1.0</td>\n",
       "      <td>1.0</td>\n",
       "      <td>0</td>\n",
       "    </tr>\n",
       "    <tr>\n",
       "      <th>2</th>\n",
       "      <td>20000.0</td>\n",
       "      <td>10.78</td>\n",
       "      <td>432.66</td>\n",
       "      <td>63000.0</td>\n",
       "      <td>10.78</td>\n",
       "      <td>0.0</td>\n",
       "      <td>695.0</td>\n",
       "      <td>699.0</td>\n",
       "      <td>0.0</td>\n",
       "      <td>6.0</td>\n",
       "      <td>...</td>\n",
       "      <td>0.0</td>\n",
       "      <td>1.0</td>\n",
       "      <td>0.0</td>\n",
       "      <td>0.0</td>\n",
       "      <td>0.0</td>\n",
       "      <td>0.0</td>\n",
       "      <td>1.0</td>\n",
       "      <td>0.0</td>\n",
       "      <td>1.0</td>\n",
       "      <td>0</td>\n",
       "    </tr>\n",
       "    <tr>\n",
       "      <th>3</th>\n",
       "      <td>35000.0</td>\n",
       "      <td>14.85</td>\n",
       "      <td>829.90</td>\n",
       "      <td>110000.0</td>\n",
       "      <td>17.06</td>\n",
       "      <td>0.0</td>\n",
       "      <td>785.0</td>\n",
       "      <td>789.0</td>\n",
       "      <td>0.0</td>\n",
       "      <td>13.0</td>\n",
       "      <td>...</td>\n",
       "      <td>1.0</td>\n",
       "      <td>0.0</td>\n",
       "      <td>0.0</td>\n",
       "      <td>0.0</td>\n",
       "      <td>0.0</td>\n",
       "      <td>0.0</td>\n",
       "      <td>1.0</td>\n",
       "      <td>1.0</td>\n",
       "      <td>1.0</td>\n",
       "      <td>0</td>\n",
       "    </tr>\n",
       "    <tr>\n",
       "      <th>4</th>\n",
       "      <td>10400.0</td>\n",
       "      <td>22.45</td>\n",
       "      <td>289.91</td>\n",
       "      <td>104433.0</td>\n",
       "      <td>25.37</td>\n",
       "      <td>1.0</td>\n",
       "      <td>695.0</td>\n",
       "      <td>699.0</td>\n",
       "      <td>3.0</td>\n",
       "      <td>12.0</td>\n",
       "      <td>...</td>\n",
       "      <td>0.0</td>\n",
       "      <td>0.0</td>\n",
       "      <td>1.0</td>\n",
       "      <td>0.0</td>\n",
       "      <td>0.0</td>\n",
       "      <td>0.0</td>\n",
       "      <td>1.0</td>\n",
       "      <td>1.0</td>\n",
       "      <td>1.0</td>\n",
       "      <td>0</td>\n",
       "    </tr>\n",
       "    <tr>\n",
       "      <th>...</th>\n",
       "      <td>...</td>\n",
       "      <td>...</td>\n",
       "      <td>...</td>\n",
       "      <td>...</td>\n",
       "      <td>...</td>\n",
       "      <td>...</td>\n",
       "      <td>...</td>\n",
       "      <td>...</td>\n",
       "      <td>...</td>\n",
       "      <td>...</td>\n",
       "      <td>...</td>\n",
       "      <td>...</td>\n",
       "      <td>...</td>\n",
       "      <td>...</td>\n",
       "      <td>...</td>\n",
       "      <td>...</td>\n",
       "      <td>...</td>\n",
       "      <td>...</td>\n",
       "      <td>...</td>\n",
       "      <td>...</td>\n",
       "      <td>...</td>\n",
       "    </tr>\n",
       "    <tr>\n",
       "      <th>1972935</th>\n",
       "      <td>24000.0</td>\n",
       "      <td>10.49</td>\n",
       "      <td>515.74</td>\n",
       "      <td>125000.0</td>\n",
       "      <td>10.98</td>\n",
       "      <td>0.0</td>\n",
       "      <td>725.0</td>\n",
       "      <td>729.0</td>\n",
       "      <td>0.0</td>\n",
       "      <td>15.0</td>\n",
       "      <td>...</td>\n",
       "      <td>0.0</td>\n",
       "      <td>0.0</td>\n",
       "      <td>0.0</td>\n",
       "      <td>0.0</td>\n",
       "      <td>0.0</td>\n",
       "      <td>0.0</td>\n",
       "      <td>0.0</td>\n",
       "      <td>1.0</td>\n",
       "      <td>1.0</td>\n",
       "      <td>0</td>\n",
       "    </tr>\n",
       "    <tr>\n",
       "      <th>1972936</th>\n",
       "      <td>24000.0</td>\n",
       "      <td>10.49</td>\n",
       "      <td>515.74</td>\n",
       "      <td>108000.0</td>\n",
       "      <td>34.94</td>\n",
       "      <td>0.0</td>\n",
       "      <td>695.0</td>\n",
       "      <td>699.0</td>\n",
       "      <td>1.0</td>\n",
       "      <td>24.0</td>\n",
       "      <td>...</td>\n",
       "      <td>1.0</td>\n",
       "      <td>0.0</td>\n",
       "      <td>0.0</td>\n",
       "      <td>0.0</td>\n",
       "      <td>0.0</td>\n",
       "      <td>0.0</td>\n",
       "      <td>0.0</td>\n",
       "      <td>1.0</td>\n",
       "      <td>1.0</td>\n",
       "      <td>0</td>\n",
       "    </tr>\n",
       "    <tr>\n",
       "      <th>1972937</th>\n",
       "      <td>40000.0</td>\n",
       "      <td>10.49</td>\n",
       "      <td>859.56</td>\n",
       "      <td>227000.0</td>\n",
       "      <td>12.75</td>\n",
       "      <td>7.0</td>\n",
       "      <td>705.0</td>\n",
       "      <td>709.0</td>\n",
       "      <td>1.0</td>\n",
       "      <td>5.0</td>\n",
       "      <td>...</td>\n",
       "      <td>1.0</td>\n",
       "      <td>0.0</td>\n",
       "      <td>0.0</td>\n",
       "      <td>0.0</td>\n",
       "      <td>0.0</td>\n",
       "      <td>0.0</td>\n",
       "      <td>0.0</td>\n",
       "      <td>1.0</td>\n",
       "      <td>1.0</td>\n",
       "      <td>0</td>\n",
       "    </tr>\n",
       "    <tr>\n",
       "      <th>1972938</th>\n",
       "      <td>24000.0</td>\n",
       "      <td>14.49</td>\n",
       "      <td>564.56</td>\n",
       "      <td>110000.0</td>\n",
       "      <td>18.30</td>\n",
       "      <td>0.0</td>\n",
       "      <td>660.0</td>\n",
       "      <td>664.0</td>\n",
       "      <td>0.0</td>\n",
       "      <td>10.0</td>\n",
       "      <td>...</td>\n",
       "      <td>1.0</td>\n",
       "      <td>0.0</td>\n",
       "      <td>0.0</td>\n",
       "      <td>0.0</td>\n",
       "      <td>0.0</td>\n",
       "      <td>0.0</td>\n",
       "      <td>0.0</td>\n",
       "      <td>1.0</td>\n",
       "      <td>1.0</td>\n",
       "      <td>1</td>\n",
       "    </tr>\n",
       "    <tr>\n",
       "      <th>1972939</th>\n",
       "      <td>14000.0</td>\n",
       "      <td>14.49</td>\n",
       "      <td>329.33</td>\n",
       "      <td>95000.0</td>\n",
       "      <td>23.36</td>\n",
       "      <td>0.0</td>\n",
       "      <td>660.0</td>\n",
       "      <td>664.0</td>\n",
       "      <td>1.0</td>\n",
       "      <td>8.0</td>\n",
       "      <td>...</td>\n",
       "      <td>1.0</td>\n",
       "      <td>0.0</td>\n",
       "      <td>0.0</td>\n",
       "      <td>0.0</td>\n",
       "      <td>0.0</td>\n",
       "      <td>0.0</td>\n",
       "      <td>1.0</td>\n",
       "      <td>1.0</td>\n",
       "      <td>1.0</td>\n",
       "      <td>0</td>\n",
       "    </tr>\n",
       "  </tbody>\n",
       "</table>\n",
       "<p>1972940 rows × 77 columns</p>\n",
       "</div>"
      ],
      "text/plain": [
       "         loan_amnt  int_rate  installment  annual_inc    dti  delinq_2yrs  \\\n",
       "0           3600.0     13.99       123.03     55000.0   5.91          0.0   \n",
       "1          24700.0     11.99       820.28     65000.0  16.06          1.0   \n",
       "2          20000.0     10.78       432.66     63000.0  10.78          0.0   \n",
       "3          35000.0     14.85       829.90    110000.0  17.06          0.0   \n",
       "4          10400.0     22.45       289.91    104433.0  25.37          1.0   \n",
       "...            ...       ...          ...         ...    ...          ...   \n",
       "1972935    24000.0     10.49       515.74    125000.0  10.98          0.0   \n",
       "1972936    24000.0     10.49       515.74    108000.0  34.94          0.0   \n",
       "1972937    40000.0     10.49       859.56    227000.0  12.75          7.0   \n",
       "1972938    24000.0     14.49       564.56    110000.0  18.30          0.0   \n",
       "1972939    14000.0     14.49       329.33     95000.0  23.36          0.0   \n",
       "\n",
       "         fico_range_low  fico_range_high  inq_last_6mths  open_acc  ...  \\\n",
       "0                 675.0            679.0             1.0       7.0  ...   \n",
       "1                 715.0            719.0             4.0      22.0  ...   \n",
       "2                 695.0            699.0             0.0       6.0  ...   \n",
       "3                 785.0            789.0             0.0      13.0  ...   \n",
       "4                 695.0            699.0             3.0      12.0  ...   \n",
       "...                 ...              ...             ...       ...  ...   \n",
       "1972935           725.0            729.0             0.0      15.0  ...   \n",
       "1972936           695.0            699.0             1.0      24.0  ...   \n",
       "1972937           705.0            709.0             1.0       5.0  ...   \n",
       "1972938           660.0            664.0             0.0      10.0  ...   \n",
       "1972939           660.0            664.0             1.0       8.0  ...   \n",
       "\n",
       "         debt_consolidation  housing  major_purchase  medical  other  \\\n",
       "0                       1.0      0.0             0.0      0.0    0.0   \n",
       "1                       0.0      0.0             0.0      0.0    0.0   \n",
       "2                       0.0      1.0             0.0      0.0    0.0   \n",
       "3                       1.0      0.0             0.0      0.0    0.0   \n",
       "4                       0.0      0.0             1.0      0.0    0.0   \n",
       "...                     ...      ...             ...      ...    ...   \n",
       "1972935                 0.0      0.0             0.0      0.0    0.0   \n",
       "1972936                 1.0      0.0             0.0      0.0    0.0   \n",
       "1972937                 1.0      0.0             0.0      0.0    0.0   \n",
       "1972938                 1.0      0.0             0.0      0.0    0.0   \n",
       "1972939                 1.0      0.0             0.0      0.0    0.0   \n",
       "\n",
       "         small_business  whole  Individual  Cash  loan_status  \n",
       "0                   0.0    1.0         1.0   1.0            0  \n",
       "1                   1.0    1.0         1.0   1.0            0  \n",
       "2                   0.0    1.0         0.0   1.0            0  \n",
       "3                   0.0    1.0         1.0   1.0            0  \n",
       "4                   0.0    1.0         1.0   1.0            0  \n",
       "...                 ...    ...         ...   ...          ...  \n",
       "1972935             0.0    0.0         1.0   1.0            0  \n",
       "1972936             0.0    0.0         1.0   1.0            0  \n",
       "1972937             0.0    0.0         1.0   1.0            0  \n",
       "1972938             0.0    0.0         1.0   1.0            1  \n",
       "1972939             0.0    1.0         1.0   1.0            0  \n",
       "\n",
       "[1972940 rows x 77 columns]"
      ]
     },
     "execution_count": 67,
     "metadata": {},
     "output_type": "execute_result"
    }
   ],
   "source": [
    "numerical_df"
   ]
  },
  {
   "attachments": {},
   "cell_type": "markdown",
   "metadata": {},
   "source": [
    "Rename our fully processed data set:"
   ]
  },
  {
   "cell_type": "code",
   "execution_count": 68,
   "metadata": {},
   "outputs": [],
   "source": [
    "accepted_processed = numerical_df"
   ]
  },
  {
   "attachments": {},
   "cell_type": "markdown",
   "metadata": {},
   "source": [
    "### Write to CSV"
   ]
  },
  {
   "cell_type": "code",
   "execution_count": 69,
   "metadata": {},
   "outputs": [],
   "source": [
    "# save processed data\n",
    "accepted_processed.to_csv('accepted_processed.csv', index=False)"
   ]
  },
  {
   "cell_type": "code",
   "execution_count": 70,
   "metadata": {},
   "outputs": [],
   "source": [
    "# read in processed data\n",
    "accepted_processed = pd.read_csv('accepted_processed.csv')"
   ]
  },
  {
   "attachments": {},
   "cell_type": "markdown",
   "metadata": {},
   "source": [
    "### Sanity checks"
   ]
  },
  {
   "cell_type": "code",
   "execution_count": 71,
   "metadata": {},
   "outputs": [
    {
     "data": {
      "text/html": [
       "<div>\n",
       "<style scoped>\n",
       "    .dataframe tbody tr th:only-of-type {\n",
       "        vertical-align: middle;\n",
       "    }\n",
       "\n",
       "    .dataframe tbody tr th {\n",
       "        vertical-align: top;\n",
       "    }\n",
       "\n",
       "    .dataframe thead th {\n",
       "        text-align: right;\n",
       "    }\n",
       "</style>\n",
       "<table border=\"1\" class=\"dataframe\">\n",
       "  <thead>\n",
       "    <tr style=\"text-align: right;\">\n",
       "      <th></th>\n",
       "      <th>loan_amnt</th>\n",
       "      <th>int_rate</th>\n",
       "      <th>installment</th>\n",
       "      <th>annual_inc</th>\n",
       "      <th>dti</th>\n",
       "      <th>delinq_2yrs</th>\n",
       "      <th>fico_range_low</th>\n",
       "      <th>fico_range_high</th>\n",
       "      <th>inq_last_6mths</th>\n",
       "      <th>open_acc</th>\n",
       "      <th>...</th>\n",
       "      <th>debt_consolidation</th>\n",
       "      <th>housing</th>\n",
       "      <th>major_purchase</th>\n",
       "      <th>medical</th>\n",
       "      <th>other</th>\n",
       "      <th>small_business</th>\n",
       "      <th>whole</th>\n",
       "      <th>Individual</th>\n",
       "      <th>Cash</th>\n",
       "      <th>loan_status</th>\n",
       "    </tr>\n",
       "  </thead>\n",
       "  <tbody>\n",
       "    <tr>\n",
       "      <th>0</th>\n",
       "      <td>3600.0</td>\n",
       "      <td>13.99</td>\n",
       "      <td>123.03</td>\n",
       "      <td>55000.0</td>\n",
       "      <td>5.91</td>\n",
       "      <td>0.0</td>\n",
       "      <td>675.0</td>\n",
       "      <td>679.0</td>\n",
       "      <td>1.0</td>\n",
       "      <td>7.0</td>\n",
       "      <td>...</td>\n",
       "      <td>1.0</td>\n",
       "      <td>0.0</td>\n",
       "      <td>0.0</td>\n",
       "      <td>0.0</td>\n",
       "      <td>0.0</td>\n",
       "      <td>0.0</td>\n",
       "      <td>1.0</td>\n",
       "      <td>1.0</td>\n",
       "      <td>1.0</td>\n",
       "      <td>0</td>\n",
       "    </tr>\n",
       "    <tr>\n",
       "      <th>1</th>\n",
       "      <td>24700.0</td>\n",
       "      <td>11.99</td>\n",
       "      <td>820.28</td>\n",
       "      <td>65000.0</td>\n",
       "      <td>16.06</td>\n",
       "      <td>1.0</td>\n",
       "      <td>715.0</td>\n",
       "      <td>719.0</td>\n",
       "      <td>4.0</td>\n",
       "      <td>22.0</td>\n",
       "      <td>...</td>\n",
       "      <td>0.0</td>\n",
       "      <td>0.0</td>\n",
       "      <td>0.0</td>\n",
       "      <td>0.0</td>\n",
       "      <td>0.0</td>\n",
       "      <td>1.0</td>\n",
       "      <td>1.0</td>\n",
       "      <td>1.0</td>\n",
       "      <td>1.0</td>\n",
       "      <td>0</td>\n",
       "    </tr>\n",
       "    <tr>\n",
       "      <th>2</th>\n",
       "      <td>20000.0</td>\n",
       "      <td>10.78</td>\n",
       "      <td>432.66</td>\n",
       "      <td>63000.0</td>\n",
       "      <td>10.78</td>\n",
       "      <td>0.0</td>\n",
       "      <td>695.0</td>\n",
       "      <td>699.0</td>\n",
       "      <td>0.0</td>\n",
       "      <td>6.0</td>\n",
       "      <td>...</td>\n",
       "      <td>0.0</td>\n",
       "      <td>1.0</td>\n",
       "      <td>0.0</td>\n",
       "      <td>0.0</td>\n",
       "      <td>0.0</td>\n",
       "      <td>0.0</td>\n",
       "      <td>1.0</td>\n",
       "      <td>0.0</td>\n",
       "      <td>1.0</td>\n",
       "      <td>0</td>\n",
       "    </tr>\n",
       "    <tr>\n",
       "      <th>3</th>\n",
       "      <td>35000.0</td>\n",
       "      <td>14.85</td>\n",
       "      <td>829.90</td>\n",
       "      <td>110000.0</td>\n",
       "      <td>17.06</td>\n",
       "      <td>0.0</td>\n",
       "      <td>785.0</td>\n",
       "      <td>789.0</td>\n",
       "      <td>0.0</td>\n",
       "      <td>13.0</td>\n",
       "      <td>...</td>\n",
       "      <td>1.0</td>\n",
       "      <td>0.0</td>\n",
       "      <td>0.0</td>\n",
       "      <td>0.0</td>\n",
       "      <td>0.0</td>\n",
       "      <td>0.0</td>\n",
       "      <td>1.0</td>\n",
       "      <td>1.0</td>\n",
       "      <td>1.0</td>\n",
       "      <td>0</td>\n",
       "    </tr>\n",
       "    <tr>\n",
       "      <th>4</th>\n",
       "      <td>10400.0</td>\n",
       "      <td>22.45</td>\n",
       "      <td>289.91</td>\n",
       "      <td>104433.0</td>\n",
       "      <td>25.37</td>\n",
       "      <td>1.0</td>\n",
       "      <td>695.0</td>\n",
       "      <td>699.0</td>\n",
       "      <td>3.0</td>\n",
       "      <td>12.0</td>\n",
       "      <td>...</td>\n",
       "      <td>0.0</td>\n",
       "      <td>0.0</td>\n",
       "      <td>1.0</td>\n",
       "      <td>0.0</td>\n",
       "      <td>0.0</td>\n",
       "      <td>0.0</td>\n",
       "      <td>1.0</td>\n",
       "      <td>1.0</td>\n",
       "      <td>1.0</td>\n",
       "      <td>0</td>\n",
       "    </tr>\n",
       "  </tbody>\n",
       "</table>\n",
       "<p>5 rows × 77 columns</p>\n",
       "</div>"
      ],
      "text/plain": [
       "   loan_amnt  int_rate  installment  annual_inc    dti  delinq_2yrs  \\\n",
       "0     3600.0     13.99       123.03     55000.0   5.91          0.0   \n",
       "1    24700.0     11.99       820.28     65000.0  16.06          1.0   \n",
       "2    20000.0     10.78       432.66     63000.0  10.78          0.0   \n",
       "3    35000.0     14.85       829.90    110000.0  17.06          0.0   \n",
       "4    10400.0     22.45       289.91    104433.0  25.37          1.0   \n",
       "\n",
       "   fico_range_low  fico_range_high  inq_last_6mths  open_acc  ...  \\\n",
       "0           675.0            679.0             1.0       7.0  ...   \n",
       "1           715.0            719.0             4.0      22.0  ...   \n",
       "2           695.0            699.0             0.0       6.0  ...   \n",
       "3           785.0            789.0             0.0      13.0  ...   \n",
       "4           695.0            699.0             3.0      12.0  ...   \n",
       "\n",
       "   debt_consolidation  housing  major_purchase  medical  other  \\\n",
       "0                 1.0      0.0             0.0      0.0    0.0   \n",
       "1                 0.0      0.0             0.0      0.0    0.0   \n",
       "2                 0.0      1.0             0.0      0.0    0.0   \n",
       "3                 1.0      0.0             0.0      0.0    0.0   \n",
       "4                 0.0      0.0             1.0      0.0    0.0   \n",
       "\n",
       "   small_business  whole  Individual  Cash  loan_status  \n",
       "0             0.0    1.0         1.0   1.0            0  \n",
       "1             1.0    1.0         1.0   1.0            0  \n",
       "2             0.0    1.0         0.0   1.0            0  \n",
       "3             0.0    1.0         1.0   1.0            0  \n",
       "4             0.0    1.0         1.0   1.0            0  \n",
       "\n",
       "[5 rows x 77 columns]"
      ]
     },
     "execution_count": 71,
     "metadata": {},
     "output_type": "execute_result"
    }
   ],
   "source": [
    "accepted_processed.head()"
   ]
  },
  {
   "attachments": {},
   "cell_type": "markdown",
   "metadata": {},
   "source": [
    "Everything looks good. Let's check the data types now:"
   ]
  },
  {
   "cell_type": "code",
   "execution_count": 72,
   "metadata": {},
   "outputs": [
    {
     "data": {
      "text/plain": [
       "float64    74\n",
       "int64       3\n",
       "dtype: int64"
      ]
     },
     "execution_count": 72,
     "metadata": {},
     "output_type": "execute_result"
    }
   ],
   "source": [
    "accepted_processed.dtypes.value_counts()"
   ]
  },
  {
   "attachments": {},
   "cell_type": "markdown",
   "metadata": {},
   "source": [
    "We can see that all of our columns are now numeric with majority floats and 3 integers."
   ]
  },
  {
   "attachments": {},
   "cell_type": "markdown",
   "metadata": {},
   "source": [
    "Now let's make sure we still don't have any NULL values."
   ]
  },
  {
   "cell_type": "code",
   "execution_count": 73,
   "metadata": {},
   "outputs": [
    {
     "data": {
      "text/plain": [
       "0"
      ]
     },
     "execution_count": 73,
     "metadata": {},
     "output_type": "execute_result"
    }
   ],
   "source": [
    "# sum of null values\n",
    "accepted_processed.isnull().sum().sum()"
   ]
  },
  {
   "attachments": {},
   "cell_type": "markdown",
   "metadata": {},
   "source": [
    "Our data looks good. Now we can move on to removing any highly correlated columns."
   ]
  },
  {
   "attachments": {},
   "cell_type": "markdown",
   "metadata": {},
   "source": [
    "## Highly Correlated Columns"
   ]
  },
  {
   "attachments": {},
   "cell_type": "markdown",
   "metadata": {},
   "source": [
    "The last part of this notebook is to remove any columns with high correlations. To decide on which out of two column we will drop, we will be using the data dictionary. First, we are going to look at all columns that have over 80% correlation."
   ]
  },
  {
   "cell_type": "code",
   "execution_count": 74,
   "metadata": {},
   "outputs": [
    {
     "data": {
      "text/plain": [
       "loan_amnt                   installment                   0.944537\n",
       "int_rate                    grade                         0.954941\n",
       "installment                 loan_amnt                     0.944537\n",
       "fico_range_low              fico_range_high               1.000000\n",
       "fico_range_high             fico_range_low                1.000000\n",
       "open_acc                    num_op_rev_tl                 0.832667\n",
       "                            num_sats                      0.998979\n",
       "revol_bal                   total_rev_hi_lim              0.805710\n",
       "revol_util                  bc_util                       0.869062\n",
       "last_fico_range_high        last_fico_range_low           0.845875\n",
       "last_fico_range_low         last_fico_range_high          0.845875\n",
       "acc_now_delinq              num_tl_30dpd                  0.801496\n",
       "tot_cur_bal                 avg_cur_bal                   0.834374\n",
       "                            tot_hi_cred_lim               0.977303\n",
       "total_rev_hi_lim            revol_bal                     0.805710\n",
       "avg_cur_bal                 tot_cur_bal                   0.834374\n",
       "bc_open_to_buy              total_bc_limit                0.841057\n",
       "bc_util                     revol_util                    0.869062\n",
       "                            percent_bc_gt_75              0.846483\n",
       "mo_sin_old_rev_tl_op        earliest_cr_years_ago         0.909019\n",
       "num_actv_bc_tl              num_actv_rev_tl               0.820600\n",
       "                            num_bc_sats                   0.833293\n",
       "                            num_rev_tl_bal_gt_0           0.813550\n",
       "num_actv_rev_tl             num_actv_bc_tl                0.820600\n",
       "                            num_rev_tl_bal_gt_0           0.983276\n",
       "num_bc_sats                 num_actv_bc_tl                0.833293\n",
       "num_bc_tl                   num_rev_accts                 0.839861\n",
       "num_op_rev_tl               open_acc                      0.832667\n",
       "                            num_rev_tl_bal_gt_0           0.801058\n",
       "                            num_sats                      0.831884\n",
       "num_rev_accts               num_bc_tl                     0.839861\n",
       "num_rev_tl_bal_gt_0         num_actv_bc_tl                0.813550\n",
       "                            num_actv_rev_tl               0.983276\n",
       "                            num_op_rev_tl                 0.801058\n",
       "num_sats                    open_acc                      0.998979\n",
       "                            num_op_rev_tl                 0.831884\n",
       "num_tl_30dpd                acc_now_delinq                0.801496\n",
       "percent_bc_gt_75            bc_util                       0.846483\n",
       "tot_hi_cred_lim             tot_cur_bal                   0.977303\n",
       "total_bal_ex_mort           total_il_high_credit_limit    0.878851\n",
       "total_bc_limit              bc_open_to_buy                0.841057\n",
       "total_il_high_credit_limit  total_bal_ex_mort             0.878851\n",
       "earliest_cr_years_ago       mo_sin_old_rev_tl_op          0.909019\n",
       "grade                       int_rate                      0.954941\n",
       "MORTGAGE                    RENT                         -0.806622\n",
       "RENT                        MORTGAGE                     -0.806622\n",
       "dtype: float64"
      ]
     },
     "execution_count": 74,
     "metadata": {},
     "output_type": "execute_result"
    }
   ],
   "source": [
    "# create correlation matrix\n",
    "correlations = accepted_processed.corr()\n",
    "\n",
    "# set threshold\n",
    "lower_bound = 0.8\n",
    "upper_bound = 1.0\n",
    "\n",
    "# use absolute value and bounds to filter correlations\n",
    "absolute = correlations.abs().gt(lower_bound) & correlations.abs().lt(upper_bound)\n",
    "\n",
    "# output the correlations stacked by column\n",
    "list = correlations.where(absolute).stack()\n",
    "\n",
    "list.head(10000)"
   ]
  },
  {
   "attachments": {},
   "cell_type": "markdown",
   "metadata": {},
   "source": [
    "Looking at the list, we can drop the columns that we believe will be a worse predictor in our model."
   ]
  },
  {
   "cell_type": "code",
   "execution_count": 75,
   "metadata": {},
   "outputs": [],
   "source": [
    "# drop columns \n",
    "accepted_processed = accepted_processed.drop(columns=['installment', 'int_rate', 'fico_range_high', 'num_sats', 'bc_util', \n",
    "                                                      'collection_recovery_fee', 'tot_hi_cred_lim', 'num_rev_tl_bal_gt_0', \n",
    "                                                      'mo_sin_old_rev_tl_op', 'RENT'])\n",
    "    "
   ]
  },
  {
   "attachments": {},
   "cell_type": "markdown",
   "metadata": {},
   "source": [
    "Next, we are going to look at all columns that have over 70% correlation."
   ]
  },
  {
   "cell_type": "code",
   "execution_count": 76,
   "metadata": {},
   "outputs": [
    {
     "data": {
      "text/plain": [
       "open_acc                    total_acc                     0.720568\n",
       "                            num_op_rev_tl                 0.832667\n",
       "pub_rec                     tax_liens                     0.702585\n",
       "revol_bal                   total_rev_hi_lim              0.805710\n",
       "revol_util                  percent_bc_gt_75              0.740375\n",
       "total_acc                   open_acc                      0.720568\n",
       "                            num_rev_accts                 0.762823\n",
       "last_fico_range_high        last_fico_range_low           0.845875\n",
       "last_fico_range_low         last_fico_range_high          0.845875\n",
       "acc_now_delinq              num_tl_30dpd                  0.801496\n",
       "tot_cur_bal                 avg_cur_bal                   0.834374\n",
       "total_rev_hi_lim            revol_bal                     0.805710\n",
       "                            total_bc_limit                0.753001\n",
       "acc_open_past_24mths        num_tl_op_past_12m            0.764076\n",
       "avg_cur_bal                 tot_cur_bal                   0.834374\n",
       "bc_open_to_buy              total_bc_limit                0.841057\n",
       "num_actv_bc_tl              num_actv_rev_tl               0.820600\n",
       "                            num_bc_sats                   0.833293\n",
       "num_actv_rev_tl             num_actv_bc_tl                0.820600\n",
       "                            num_op_rev_tl                 0.797088\n",
       "num_bc_sats                 num_actv_bc_tl                0.833293\n",
       "                            num_bc_tl                     0.747138\n",
       "                            num_op_rev_tl                 0.760735\n",
       "num_bc_tl                   num_bc_sats                   0.747138\n",
       "                            num_rev_accts                 0.839861\n",
       "num_op_rev_tl               open_acc                      0.832667\n",
       "                            num_actv_rev_tl               0.797088\n",
       "                            num_bc_sats                   0.760735\n",
       "                            num_rev_accts                 0.795377\n",
       "num_rev_accts               total_acc                     0.762823\n",
       "                            num_bc_tl                     0.839861\n",
       "                            num_op_rev_tl                 0.795377\n",
       "num_tl_30dpd                acc_now_delinq                0.801496\n",
       "num_tl_op_past_12m          acc_open_past_24mths          0.764076\n",
       "percent_bc_gt_75            revol_util                    0.740375\n",
       "tax_liens                   pub_rec                       0.702585\n",
       "total_bal_ex_mort           total_il_high_credit_limit    0.878851\n",
       "total_bc_limit              total_rev_hi_lim              0.753001\n",
       "                            bc_open_to_buy                0.841057\n",
       "total_il_high_credit_limit  total_bal_ex_mort             0.878851\n",
       "dtype: float64"
      ]
     },
     "execution_count": 76,
     "metadata": {},
     "output_type": "execute_result"
    }
   ],
   "source": [
    "# create correlation matrix\n",
    "correlations = accepted_processed.corr()\n",
    "\n",
    "# set threshold\n",
    "lower_bound = 0.7\n",
    "upper_bound = 1.0\n",
    "\n",
    "# use absolute value and bounds to filter correlations\n",
    "absolute = correlations.abs().gt(lower_bound) & correlations.abs().lt(upper_bound)\n",
    "\n",
    "# output the correlations stacked by column\n",
    "list = correlations.where(absolute).stack()\n",
    "\n",
    "list.head(10000)"
   ]
  },
  {
   "attachments": {},
   "cell_type": "markdown",
   "metadata": {},
   "source": [
    "Now we can drop the columns:"
   ]
  },
  {
   "cell_type": "code",
   "execution_count": 77,
   "metadata": {},
   "outputs": [],
   "source": [
    "accepted_processed = accepted_processed.drop(columns=['open_acc', 'last_fico_range_high', 'num_tl_30dpd', 'avg_cur_bal', \n",
    "                                                      'total_rev_hi_lim', 'acc_open_past_24mths', 'bc_open_to_buy', 'num_actv_rev_tl', \n",
    "                                                      'num_bc_sats', 'num_rev_accts', 'total_bal_ex_mort'])"
   ]
  },
  {
   "attachments": {},
   "cell_type": "markdown",
   "metadata": {},
   "source": [
    "Now that we have dropped any columns that have high correlation, let's take a look at the shape of our final data frame:"
   ]
  },
  {
   "cell_type": "code",
   "execution_count": 78,
   "metadata": {},
   "outputs": [
    {
     "data": {
      "text/plain": [
       "(1972940, 56)"
      ]
     },
     "execution_count": 78,
     "metadata": {},
     "output_type": "execute_result"
    }
   ],
   "source": [
    "accepted_processed.shape"
   ]
  },
  {
   "attachments": {},
   "cell_type": "markdown",
   "metadata": {},
   "source": [
    "Our model ready data has 1.97 million rows and 56 features. Let's save this to a new data frame."
   ]
  },
  {
   "cell_type": "code",
   "execution_count": 79,
   "metadata": {},
   "outputs": [],
   "source": [
    "accepted_ready = accepted_processed"
   ]
  },
  {
   "attachments": {},
   "cell_type": "markdown",
   "metadata": {},
   "source": [
    "## Write to CSV"
   ]
  },
  {
   "cell_type": "code",
   "execution_count": 80,
   "metadata": {},
   "outputs": [],
   "source": [
    "# to csv\n",
    "accepted_ready.to_csv('accepted_ready.csv', index=False)"
   ]
  },
  {
   "cell_type": "code",
   "execution_count": 81,
   "metadata": {},
   "outputs": [],
   "source": [
    "# read csv\n",
    "accepted_ready = pd.read_csv('accepted_ready.csv')"
   ]
  },
  {
   "attachments": {},
   "cell_type": "markdown",
   "metadata": {},
   "source": [
    "### Sanity Checks"
   ]
  },
  {
   "attachments": {},
   "cell_type": "markdown",
   "metadata": {},
   "source": [
    "Since the last time we wrote to a new CSV, the datetime column changed to an object, let's do some sanity checks:"
   ]
  },
  {
   "cell_type": "code",
   "execution_count": 82,
   "metadata": {},
   "outputs": [
    {
     "data": {
      "text/plain": [
       "(1972940, 56)"
      ]
     },
     "execution_count": 82,
     "metadata": {},
     "output_type": "execute_result"
    }
   ],
   "source": [
    "accepted_ready.shape"
   ]
  },
  {
   "cell_type": "code",
   "execution_count": 83,
   "metadata": {},
   "outputs": [
    {
     "data": {
      "text/html": [
       "<div>\n",
       "<style scoped>\n",
       "    .dataframe tbody tr th:only-of-type {\n",
       "        vertical-align: middle;\n",
       "    }\n",
       "\n",
       "    .dataframe tbody tr th {\n",
       "        vertical-align: top;\n",
       "    }\n",
       "\n",
       "    .dataframe thead th {\n",
       "        text-align: right;\n",
       "    }\n",
       "</style>\n",
       "<table border=\"1\" class=\"dataframe\">\n",
       "  <thead>\n",
       "    <tr style=\"text-align: right;\">\n",
       "      <th></th>\n",
       "      <th>loan_amnt</th>\n",
       "      <th>annual_inc</th>\n",
       "      <th>dti</th>\n",
       "      <th>delinq_2yrs</th>\n",
       "      <th>fico_range_low</th>\n",
       "      <th>inq_last_6mths</th>\n",
       "      <th>pub_rec</th>\n",
       "      <th>revol_bal</th>\n",
       "      <th>revol_util</th>\n",
       "      <th>total_acc</th>\n",
       "      <th>...</th>\n",
       "      <th>debt_consolidation</th>\n",
       "      <th>housing</th>\n",
       "      <th>major_purchase</th>\n",
       "      <th>medical</th>\n",
       "      <th>other</th>\n",
       "      <th>small_business</th>\n",
       "      <th>whole</th>\n",
       "      <th>Individual</th>\n",
       "      <th>Cash</th>\n",
       "      <th>loan_status</th>\n",
       "    </tr>\n",
       "  </thead>\n",
       "  <tbody>\n",
       "    <tr>\n",
       "      <th>0</th>\n",
       "      <td>3600.0</td>\n",
       "      <td>55000.0</td>\n",
       "      <td>5.91</td>\n",
       "      <td>0.0</td>\n",
       "      <td>675.0</td>\n",
       "      <td>1.0</td>\n",
       "      <td>0.0</td>\n",
       "      <td>2765.0</td>\n",
       "      <td>29.7</td>\n",
       "      <td>13.0</td>\n",
       "      <td>...</td>\n",
       "      <td>1.0</td>\n",
       "      <td>0.0</td>\n",
       "      <td>0.0</td>\n",
       "      <td>0.0</td>\n",
       "      <td>0.0</td>\n",
       "      <td>0.0</td>\n",
       "      <td>1.0</td>\n",
       "      <td>1.0</td>\n",
       "      <td>1.0</td>\n",
       "      <td>0</td>\n",
       "    </tr>\n",
       "    <tr>\n",
       "      <th>1</th>\n",
       "      <td>24700.0</td>\n",
       "      <td>65000.0</td>\n",
       "      <td>16.06</td>\n",
       "      <td>1.0</td>\n",
       "      <td>715.0</td>\n",
       "      <td>4.0</td>\n",
       "      <td>0.0</td>\n",
       "      <td>21470.0</td>\n",
       "      <td>19.2</td>\n",
       "      <td>38.0</td>\n",
       "      <td>...</td>\n",
       "      <td>0.0</td>\n",
       "      <td>0.0</td>\n",
       "      <td>0.0</td>\n",
       "      <td>0.0</td>\n",
       "      <td>0.0</td>\n",
       "      <td>1.0</td>\n",
       "      <td>1.0</td>\n",
       "      <td>1.0</td>\n",
       "      <td>1.0</td>\n",
       "      <td>0</td>\n",
       "    </tr>\n",
       "    <tr>\n",
       "      <th>2</th>\n",
       "      <td>20000.0</td>\n",
       "      <td>63000.0</td>\n",
       "      <td>10.78</td>\n",
       "      <td>0.0</td>\n",
       "      <td>695.0</td>\n",
       "      <td>0.0</td>\n",
       "      <td>0.0</td>\n",
       "      <td>7869.0</td>\n",
       "      <td>56.2</td>\n",
       "      <td>18.0</td>\n",
       "      <td>...</td>\n",
       "      <td>0.0</td>\n",
       "      <td>1.0</td>\n",
       "      <td>0.0</td>\n",
       "      <td>0.0</td>\n",
       "      <td>0.0</td>\n",
       "      <td>0.0</td>\n",
       "      <td>1.0</td>\n",
       "      <td>0.0</td>\n",
       "      <td>1.0</td>\n",
       "      <td>0</td>\n",
       "    </tr>\n",
       "    <tr>\n",
       "      <th>3</th>\n",
       "      <td>35000.0</td>\n",
       "      <td>110000.0</td>\n",
       "      <td>17.06</td>\n",
       "      <td>0.0</td>\n",
       "      <td>785.0</td>\n",
       "      <td>0.0</td>\n",
       "      <td>0.0</td>\n",
       "      <td>7802.0</td>\n",
       "      <td>11.6</td>\n",
       "      <td>17.0</td>\n",
       "      <td>...</td>\n",
       "      <td>1.0</td>\n",
       "      <td>0.0</td>\n",
       "      <td>0.0</td>\n",
       "      <td>0.0</td>\n",
       "      <td>0.0</td>\n",
       "      <td>0.0</td>\n",
       "      <td>1.0</td>\n",
       "      <td>1.0</td>\n",
       "      <td>1.0</td>\n",
       "      <td>0</td>\n",
       "    </tr>\n",
       "    <tr>\n",
       "      <th>4</th>\n",
       "      <td>10400.0</td>\n",
       "      <td>104433.0</td>\n",
       "      <td>25.37</td>\n",
       "      <td>1.0</td>\n",
       "      <td>695.0</td>\n",
       "      <td>3.0</td>\n",
       "      <td>0.0</td>\n",
       "      <td>21929.0</td>\n",
       "      <td>64.5</td>\n",
       "      <td>35.0</td>\n",
       "      <td>...</td>\n",
       "      <td>0.0</td>\n",
       "      <td>0.0</td>\n",
       "      <td>1.0</td>\n",
       "      <td>0.0</td>\n",
       "      <td>0.0</td>\n",
       "      <td>0.0</td>\n",
       "      <td>1.0</td>\n",
       "      <td>1.0</td>\n",
       "      <td>1.0</td>\n",
       "      <td>0</td>\n",
       "    </tr>\n",
       "  </tbody>\n",
       "</table>\n",
       "<p>5 rows × 56 columns</p>\n",
       "</div>"
      ],
      "text/plain": [
       "   loan_amnt  annual_inc    dti  delinq_2yrs  fico_range_low  inq_last_6mths  \\\n",
       "0     3600.0     55000.0   5.91          0.0           675.0             1.0   \n",
       "1    24700.0     65000.0  16.06          1.0           715.0             4.0   \n",
       "2    20000.0     63000.0  10.78          0.0           695.0             0.0   \n",
       "3    35000.0    110000.0  17.06          0.0           785.0             0.0   \n",
       "4    10400.0    104433.0  25.37          1.0           695.0             3.0   \n",
       "\n",
       "   pub_rec  revol_bal  revol_util  total_acc  ...  debt_consolidation  \\\n",
       "0      0.0     2765.0        29.7       13.0  ...                 1.0   \n",
       "1      0.0    21470.0        19.2       38.0  ...                 0.0   \n",
       "2      0.0     7869.0        56.2       18.0  ...                 0.0   \n",
       "3      0.0     7802.0        11.6       17.0  ...                 1.0   \n",
       "4      0.0    21929.0        64.5       35.0  ...                 0.0   \n",
       "\n",
       "   housing  major_purchase  medical  other  small_business  whole  Individual  \\\n",
       "0      0.0             0.0      0.0    0.0             0.0    1.0         1.0   \n",
       "1      0.0             0.0      0.0    0.0             1.0    1.0         1.0   \n",
       "2      1.0             0.0      0.0    0.0             0.0    1.0         0.0   \n",
       "3      0.0             0.0      0.0    0.0             0.0    1.0         1.0   \n",
       "4      0.0             1.0      0.0    0.0             0.0    1.0         1.0   \n",
       "\n",
       "   Cash  loan_status  \n",
       "0   1.0            0  \n",
       "1   1.0            0  \n",
       "2   1.0            0  \n",
       "3   1.0            0  \n",
       "4   1.0            0  \n",
       "\n",
       "[5 rows x 56 columns]"
      ]
     },
     "execution_count": 83,
     "metadata": {},
     "output_type": "execute_result"
    }
   ],
   "source": [
    "accepted_ready.head()"
   ]
  },
  {
   "cell_type": "code",
   "execution_count": 84,
   "metadata": {},
   "outputs": [
    {
     "data": {
      "text/plain": [
       "0"
      ]
     },
     "execution_count": 84,
     "metadata": {},
     "output_type": "execute_result"
    }
   ],
   "source": [
    "# all null values\n",
    "accepted_ready.isnull().sum().sum()"
   ]
  },
  {
   "cell_type": "code",
   "execution_count": 85,
   "metadata": {},
   "outputs": [
    {
     "data": {
      "text/plain": [
       "float64    53\n",
       "int64       3\n",
       "dtype: int64"
      ]
     },
     "execution_count": 85,
     "metadata": {},
     "output_type": "execute_result"
    }
   ],
   "source": [
    "# data types\n",
    "accepted_ready.dtypes.value_counts()"
   ]
  },
  {
   "attachments": {},
   "cell_type": "markdown",
   "metadata": {},
   "source": [
    "Our data is now fully processed and we can move onto modeling. This can be seen in our third notebook."
   ]
  }
 ],
 "metadata": {
  "kernelspec": {
   "display_name": "capstone",
   "language": "python",
   "name": "python3"
  },
  "language_info": {
   "codemirror_mode": {
    "name": "ipython",
    "version": 3
   },
   "file_extension": ".py",
   "mimetype": "text/x-python",
   "name": "python",
   "nbconvert_exporter": "python",
   "pygments_lexer": "ipython3",
   "version": "3.10.9"
  },
  "orig_nbformat": 4
 },
 "nbformat": 4,
 "nbformat_minor": 2
}
